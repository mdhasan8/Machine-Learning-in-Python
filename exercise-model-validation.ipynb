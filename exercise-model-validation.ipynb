{
 "cells": [
  {
   "cell_type": "markdown",
   "id": "2209d864",
   "metadata": {
    "papermill": {
     "duration": 0.018816,
     "end_time": "2021-08-18T05:56:25.397333",
     "exception": false,
     "start_time": "2021-08-18T05:56:25.378517",
     "status": "completed"
    },
    "tags": []
   },
   "source": [
    "**This notebook is an exercise in the [Introduction to Machine Learning](https://www.kaggle.com/learn/intro-to-machine-learning) course.  You can reference the tutorial at [this link](https://www.kaggle.com/dansbecker/model-validation).**\n",
    "\n",
    "---\n"
   ]
  },
  {
   "cell_type": "markdown",
   "id": "1fc9fbe4",
   "metadata": {
    "papermill": {
     "duration": 0.014244,
     "end_time": "2021-08-18T05:56:25.427866",
     "exception": false,
     "start_time": "2021-08-18T05:56:25.413622",
     "status": "completed"
    },
    "tags": []
   },
   "source": [
    "## Recap\n",
    "You've built a model. In this exercise you will test how good your model is.\n",
    "\n",
    "Run the cell below to set up your coding environment where the previous exercise left off."
   ]
  },
  {
   "cell_type": "code",
   "execution_count": 1,
   "id": "8b43801b",
   "metadata": {
    "execution": {
     "iopub.execute_input": "2021-08-18T05:56:25.466104Z",
     "iopub.status.busy": "2021-08-18T05:56:25.464837Z",
     "iopub.status.idle": "2021-08-18T05:56:26.926325Z",
     "shell.execute_reply": "2021-08-18T05:56:26.925430Z",
     "shell.execute_reply.started": "2021-08-18T05:48:10.676122Z"
    },
    "papermill": {
     "duration": 1.482178,
     "end_time": "2021-08-18T05:56:26.926555",
     "exception": false,
     "start_time": "2021-08-18T05:56:25.444377",
     "status": "completed"
    },
    "tags": []
   },
   "outputs": [
    {
     "name": "stdout",
     "output_type": "stream",
     "text": [
      "First in-sample predictions: [208500. 181500. 223500. 140000. 250000.]\n",
      "Actual target values for those homes: [208500, 181500, 223500, 140000, 250000]\n",
      "Setup Complete\n"
     ]
    }
   ],
   "source": [
    "# Code you have previously used to load data\n",
    "import pandas as pd\n",
    "from sklearn.tree import DecisionTreeRegressor\n",
    "\n",
    "# Path of the file to read\n",
    "iowa_file_path = '../input/home-data-for-ml-course/train.csv'\n",
    "\n",
    "home_data = pd.read_csv(iowa_file_path)\n",
    "y = home_data.SalePrice\n",
    "feature_columns = ['LotArea', 'YearBuilt', '1stFlrSF', '2ndFlrSF', 'FullBath', 'BedroomAbvGr', 'TotRmsAbvGrd']\n",
    "X = home_data[feature_columns]\n",
    "\n",
    "# Specify Model\n",
    "iowa_model = DecisionTreeRegressor()\n",
    "# Fit Model\n",
    "iowa_model.fit(X, y)\n",
    "\n",
    "print(\"First in-sample predictions:\", iowa_model.predict(X.head()))\n",
    "print(\"Actual target values for those homes:\", y.head().tolist())\n",
    "\n",
    "# Set up code checking\n",
    "from learntools.core import binder\n",
    "binder.bind(globals())\n",
    "from learntools.machine_learning.ex4 import *\n",
    "print(\"Setup Complete\")"
   ]
  },
  {
   "cell_type": "markdown",
   "id": "93ff2184",
   "metadata": {
    "papermill": {
     "duration": 0.014088,
     "end_time": "2021-08-18T05:56:26.955974",
     "exception": false,
     "start_time": "2021-08-18T05:56:26.941886",
     "status": "completed"
    },
    "tags": []
   },
   "source": [
    "# Exercises\n",
    "\n",
    "## Step 1: Split Your Data\n",
    "Use the `train_test_split` function to split up your data.\n",
    "\n",
    "Give it the argument `random_state=1` so the `check` functions know what to expect when verifying your code.\n",
    "\n",
    "Recall, your features are loaded in the DataFrame **X** and your target is loaded in **y**.\n"
   ]
  },
  {
   "cell_type": "code",
   "execution_count": 2,
   "id": "e4b09707",
   "metadata": {
    "execution": {
     "iopub.execute_input": "2021-08-18T05:56:26.995314Z",
     "iopub.status.busy": "2021-08-18T05:56:26.992195Z",
     "iopub.status.idle": "2021-08-18T05:56:27.026353Z",
     "shell.execute_reply": "2021-08-18T05:56:27.026882Z",
     "shell.execute_reply.started": "2021-08-18T05:50:14.610195Z"
    },
    "papermill": {
     "duration": 0.056457,
     "end_time": "2021-08-18T05:56:27.027089",
     "exception": false,
     "start_time": "2021-08-18T05:56:26.970632",
     "status": "completed"
    },
    "tags": []
   },
   "outputs": [
    {
     "data": {
      "application/javascript": [
       "parent.postMessage({\"jupyterEvent\": \"custom.exercise_interaction\", \"data\": {\"outcomeType\": 1, \"valueTowardsCompletion\": 0.25, \"interactionType\": 1, \"questionType\": 2, \"questionId\": \"1_SplitData\", \"learnToolsVersion\": \"0.3.4\", \"failureMessage\": \"\", \"exceptionClass\": \"\", \"trace\": \"\"}}, \"*\")"
      ],
      "text/plain": [
       "<IPython.core.display.Javascript object>"
      ]
     },
     "metadata": {},
     "output_type": "display_data"
    },
    {
     "data": {
      "text/markdown": [
       "<span style=\"color:#33cc33\">Correct</span>"
      ],
      "text/plain": [
       "Correct"
      ]
     },
     "metadata": {},
     "output_type": "display_data"
    }
   ],
   "source": [
    "# Import the train_test_split function and uncomment\n",
    "from sklearn.model_selection import train_test_split\n",
    "\n",
    "# fill in and uncomment\n",
    "train_X, val_X, train_y, val_y = train_test_split(X,y, random_state =1)\n",
    "\n",
    "# Check your answer\n",
    "step_1.check()"
   ]
  },
  {
   "cell_type": "code",
   "execution_count": 3,
   "id": "e49c6e63",
   "metadata": {
    "execution": {
     "iopub.execute_input": "2021-08-18T05:56:27.062811Z",
     "iopub.status.busy": "2021-08-18T05:56:27.061630Z",
     "iopub.status.idle": "2021-08-18T05:56:27.071378Z",
     "shell.execute_reply": "2021-08-18T05:56:27.072068Z",
     "shell.execute_reply.started": "2021-08-18T05:49:13.308066Z"
    },
    "papermill": {
     "duration": 0.030094,
     "end_time": "2021-08-18T05:56:27.072352",
     "exception": false,
     "start_time": "2021-08-18T05:56:27.042258",
     "status": "completed"
    },
    "tags": []
   },
   "outputs": [
    {
     "data": {
      "application/javascript": [
       "parent.postMessage({\"jupyterEvent\": \"custom.exercise_interaction\", \"data\": {\"interactionType\": 3, \"questionType\": 2, \"questionId\": \"1_SplitData\", \"learnToolsVersion\": \"0.3.4\", \"valueTowardsCompletion\": 0.0, \"failureMessage\": \"\", \"exceptionClass\": \"\", \"trace\": \"\", \"outcomeType\": 4}}, \"*\")"
      ],
      "text/plain": [
       "<IPython.core.display.Javascript object>"
      ]
     },
     "metadata": {},
     "output_type": "display_data"
    },
    {
     "data": {
      "text/markdown": [
       "<span style=\"color:#33cc99\">Solution:</span> \n",
       "```python\n",
       "from sklearn.model_selection import train_test_split\n",
       "train_X, val_X, train_y, val_y = train_test_split(X, y, random_state=1)\n",
       "```"
      ],
      "text/plain": [
       "Solution: \n",
       "```python\n",
       "from sklearn.model_selection import train_test_split\n",
       "train_X, val_X, train_y, val_y = train_test_split(X, y, random_state=1)\n",
       "```"
      ]
     },
     "metadata": {},
     "output_type": "display_data"
    }
   ],
   "source": [
    "# The lines below will show you a hint or the solution.\n",
    "# step_1.hint() \n",
    "step_1.solution()\n"
   ]
  },
  {
   "cell_type": "markdown",
   "id": "622e9aa9",
   "metadata": {
    "papermill": {
     "duration": 0.016164,
     "end_time": "2021-08-18T05:56:27.105080",
     "exception": false,
     "start_time": "2021-08-18T05:56:27.088916",
     "status": "completed"
    },
    "tags": []
   },
   "source": [
    "## Step 2: Specify and Fit the Model\n",
    "\n",
    "Create a `DecisionTreeRegressor` model and fit it to the relevant data.\n",
    "Set `random_state` to 1 again when creating the model."
   ]
  },
  {
   "cell_type": "code",
   "execution_count": 4,
   "id": "03a3d271",
   "metadata": {
    "execution": {
     "iopub.execute_input": "2021-08-18T05:56:27.142577Z",
     "iopub.status.busy": "2021-08-18T05:56:27.141364Z",
     "iopub.status.idle": "2021-08-18T05:56:27.174919Z",
     "shell.execute_reply": "2021-08-18T05:56:27.174316Z",
     "shell.execute_reply.started": "2021-08-18T05:51:36.002671Z"
    },
    "papermill": {
     "duration": 0.053573,
     "end_time": "2021-08-18T05:56:27.175073",
     "exception": false,
     "start_time": "2021-08-18T05:56:27.121500",
     "status": "completed"
    },
    "tags": []
   },
   "outputs": [
    {
     "name": "stdout",
     "output_type": "stream",
     "text": [
      "[186500. 184000. 130000.  92000. 164500. 220000. 335000. 144152. 215000.\n",
      " 262000.]\n",
      "[186500. 184000. 130000.  92000. 164500. 220000. 335000. 144152. 215000.\n",
      " 262000.]\n"
     ]
    },
    {
     "data": {
      "application/javascript": [
       "parent.postMessage({\"jupyterEvent\": \"custom.exercise_interaction\", \"data\": {\"outcomeType\": 1, \"valueTowardsCompletion\": 0.25, \"interactionType\": 1, \"questionType\": 2, \"questionId\": \"2_FitModelWithTrain\", \"learnToolsVersion\": \"0.3.4\", \"failureMessage\": \"\", \"exceptionClass\": \"\", \"trace\": \"\"}}, \"*\")"
      ],
      "text/plain": [
       "<IPython.core.display.Javascript object>"
      ]
     },
     "metadata": {},
     "output_type": "display_data"
    },
    {
     "data": {
      "text/markdown": [
       "<span style=\"color:#33cc33\">Correct</span>"
      ],
      "text/plain": [
       "Correct"
      ]
     },
     "metadata": {},
     "output_type": "display_data"
    }
   ],
   "source": [
    "# You imported DecisionTreeRegressor in your last exercise\n",
    "# and that code has been copied to the setup code above. So, no need to\n",
    "# import it again\n",
    "\n",
    "# Specify the model\n",
    "iowa_model = DecisionTreeRegressor(random_state = 1)\n",
    "\n",
    "# Fit iowa_model with the training data.\n",
    "iowa_model.fit(train_X,train_y)\n",
    "\n",
    "# Check your answer\n",
    "step_2.check()"
   ]
  },
  {
   "cell_type": "code",
   "execution_count": 5,
   "id": "7a9e08f9",
   "metadata": {
    "execution": {
     "iopub.execute_input": "2021-08-18T05:56:27.215366Z",
     "iopub.status.busy": "2021-08-18T05:56:27.214544Z",
     "iopub.status.idle": "2021-08-18T05:56:27.218251Z",
     "shell.execute_reply": "2021-08-18T05:56:27.217667Z"
    },
    "papermill": {
     "duration": 0.025981,
     "end_time": "2021-08-18T05:56:27.218447",
     "exception": false,
     "start_time": "2021-08-18T05:56:27.192466",
     "status": "completed"
    },
    "tags": []
   },
   "outputs": [],
   "source": [
    "# step_2.hint()\n",
    "# step_2.solution()"
   ]
  },
  {
   "cell_type": "markdown",
   "id": "960e8ff7",
   "metadata": {
    "papermill": {
     "duration": 0.017263,
     "end_time": "2021-08-18T05:56:27.253574",
     "exception": false,
     "start_time": "2021-08-18T05:56:27.236311",
     "status": "completed"
    },
    "tags": []
   },
   "source": [
    "## Step 3: Make Predictions with Validation data\n"
   ]
  },
  {
   "cell_type": "code",
   "execution_count": 6,
   "id": "611cc878",
   "metadata": {
    "execution": {
     "iopub.execute_input": "2021-08-18T05:56:27.298602Z",
     "iopub.status.busy": "2021-08-18T05:56:27.297635Z",
     "iopub.status.idle": "2021-08-18T05:56:27.304069Z",
     "shell.execute_reply": "2021-08-18T05:56:27.304618Z",
     "shell.execute_reply.started": "2021-08-18T05:52:08.534408Z"
    },
    "papermill": {
     "duration": 0.033782,
     "end_time": "2021-08-18T05:56:27.304819",
     "exception": false,
     "start_time": "2021-08-18T05:56:27.271037",
     "status": "completed"
    },
    "tags": []
   },
   "outputs": [
    {
     "data": {
      "application/javascript": [
       "parent.postMessage({\"jupyterEvent\": \"custom.exercise_interaction\", \"data\": {\"outcomeType\": 1, \"valueTowardsCompletion\": 0.25, \"interactionType\": 1, \"questionType\": 2, \"questionId\": \"3_ValPreds\", \"learnToolsVersion\": \"0.3.4\", \"failureMessage\": \"\", \"exceptionClass\": \"\", \"trace\": \"\"}}, \"*\")"
      ],
      "text/plain": [
       "<IPython.core.display.Javascript object>"
      ]
     },
     "metadata": {},
     "output_type": "display_data"
    },
    {
     "data": {
      "text/markdown": [
       "<span style=\"color:#33cc33\">Correct</span>"
      ],
      "text/plain": [
       "Correct"
      ]
     },
     "metadata": {},
     "output_type": "display_data"
    }
   ],
   "source": [
    "# Predict with all validation observations\n",
    "val_predictions = iowa_model.predict(val_X)\n",
    "\n",
    "# Check your answer\n",
    "step_3.check()"
   ]
  },
  {
   "cell_type": "code",
   "execution_count": 7,
   "id": "703b3b26",
   "metadata": {
    "execution": {
     "iopub.execute_input": "2021-08-18T05:56:27.347795Z",
     "iopub.status.busy": "2021-08-18T05:56:27.347098Z",
     "iopub.status.idle": "2021-08-18T05:56:27.349095Z",
     "shell.execute_reply": "2021-08-18T05:56:27.349598Z"
    },
    "papermill": {
     "duration": 0.026576,
     "end_time": "2021-08-18T05:56:27.349797",
     "exception": false,
     "start_time": "2021-08-18T05:56:27.323221",
     "status": "completed"
    },
    "tags": []
   },
   "outputs": [],
   "source": [
    "# step_3.hint()\n",
    "# step_3.solution()"
   ]
  },
  {
   "cell_type": "markdown",
   "id": "d99e0a7d",
   "metadata": {
    "papermill": {
     "duration": 0.018267,
     "end_time": "2021-08-18T05:56:27.387074",
     "exception": false,
     "start_time": "2021-08-18T05:56:27.368807",
     "status": "completed"
    },
    "tags": []
   },
   "source": [
    "Inspect your predictions and actual values from validation data."
   ]
  },
  {
   "cell_type": "code",
   "execution_count": 8,
   "id": "5b158797",
   "metadata": {
    "execution": {
     "iopub.execute_input": "2021-08-18T05:56:27.427668Z",
     "iopub.status.busy": "2021-08-18T05:56:27.426983Z",
     "iopub.status.idle": "2021-08-18T05:56:27.433788Z",
     "shell.execute_reply": "2021-08-18T05:56:27.432998Z",
     "shell.execute_reply.started": "2021-08-18T05:54:08.487150Z"
    },
    "papermill": {
     "duration": 0.028388,
     "end_time": "2021-08-18T05:56:27.433993",
     "exception": false,
     "start_time": "2021-08-18T05:56:27.405605",
     "status": "completed"
    },
    "tags": []
   },
   "outputs": [
    {
     "name": "stdout",
     "output_type": "stream",
     "text": [
      "220000.0\n",
      "143000\n"
     ]
    }
   ],
   "source": [
    "# print the top few validation predictions\n",
    "print(val_predictions[5])\n",
    "# print the top few actual prices from validation data\n",
    "print(y[5])"
   ]
  },
  {
   "cell_type": "markdown",
   "id": "720a69b1",
   "metadata": {
    "papermill": {
     "duration": 0.018356,
     "end_time": "2021-08-18T05:56:27.471560",
     "exception": false,
     "start_time": "2021-08-18T05:56:27.453204",
     "status": "completed"
    },
    "tags": []
   },
   "source": [
    "What do you notice that is different from what you saw with in-sample predictions (which are printed after the top code cell in this page).\n",
    "\n",
    "Do you remember why validation predictions differ from in-sample (or training) predictions? This is an important idea from the last lesson.\n",
    "\n",
    "## Step 4: Calculate the Mean Absolute Error in Validation Data\n"
   ]
  },
  {
   "cell_type": "code",
   "execution_count": 9,
   "id": "6043bd76",
   "metadata": {
    "execution": {
     "iopub.execute_input": "2021-08-18T05:56:27.514343Z",
     "iopub.status.busy": "2021-08-18T05:56:27.513231Z",
     "iopub.status.idle": "2021-08-18T05:56:27.523551Z",
     "shell.execute_reply": "2021-08-18T05:56:27.523003Z",
     "shell.execute_reply.started": "2021-08-18T05:55:41.899537Z"
    },
    "papermill": {
     "duration": 0.033199,
     "end_time": "2021-08-18T05:56:27.523713",
     "exception": false,
     "start_time": "2021-08-18T05:56:27.490514",
     "status": "completed"
    },
    "tags": []
   },
   "outputs": [
    {
     "data": {
      "application/javascript": [
       "parent.postMessage({\"jupyterEvent\": \"custom.exercise_interaction\", \"data\": {\"outcomeType\": 1, \"valueTowardsCompletion\": 0.25, \"interactionType\": 1, \"questionType\": 1, \"questionId\": \"4_MAE\", \"learnToolsVersion\": \"0.3.4\", \"failureMessage\": \"\", \"exceptionClass\": \"\", \"trace\": \"\"}}, \"*\")"
      ],
      "text/plain": [
       "<IPython.core.display.Javascript object>"
      ]
     },
     "metadata": {},
     "output_type": "display_data"
    },
    {
     "data": {
      "text/markdown": [
       "<span style=\"color:#33cc33\">Correct</span>"
      ],
      "text/plain": [
       "Correct"
      ]
     },
     "metadata": {},
     "output_type": "display_data"
    }
   ],
   "source": [
    "from sklearn.metrics import mean_absolute_error\n",
    "val_mae = mean_absolute_error(val_predictions,val_y)\n",
    "\n",
    "# uncomment following line to see the validation_mae\n",
    "#print(val_mae)\n",
    "\n",
    "# Check your answer\n",
    "step_4.check()"
   ]
  },
  {
   "cell_type": "code",
   "execution_count": 10,
   "id": "5a02c402",
   "metadata": {
    "execution": {
     "iopub.execute_input": "2021-08-18T05:56:27.570023Z",
     "iopub.status.busy": "2021-08-18T05:56:27.569303Z",
     "iopub.status.idle": "2021-08-18T05:56:27.573996Z",
     "shell.execute_reply": "2021-08-18T05:56:27.574621Z",
     "shell.execute_reply.started": "2021-08-18T05:55:13.056499Z"
    },
    "papermill": {
     "duration": 0.031181,
     "end_time": "2021-08-18T05:56:27.574817",
     "exception": false,
     "start_time": "2021-08-18T05:56:27.543636",
     "status": "completed"
    },
    "tags": []
   },
   "outputs": [
    {
     "data": {
      "application/javascript": [
       "parent.postMessage({\"jupyterEvent\": \"custom.exercise_interaction\", \"data\": {\"interactionType\": 3, \"questionType\": 1, \"questionId\": \"4_MAE\", \"learnToolsVersion\": \"0.3.4\", \"valueTowardsCompletion\": 0.0, \"failureMessage\": \"\", \"exceptionClass\": \"\", \"trace\": \"\", \"outcomeType\": 4}}, \"*\")"
      ],
      "text/plain": [
       "<IPython.core.display.Javascript object>"
      ]
     },
     "metadata": {},
     "output_type": "display_data"
    },
    {
     "data": {
      "text/markdown": [
       "<span style=\"color:#33cc99\">Solution:</span> \n",
       "```python\n",
       "val_mae = mean_absolute_error(val_predictions, val_y)\n",
       "```"
      ],
      "text/plain": [
       "Solution: \n",
       "```python\n",
       "val_mae = mean_absolute_error(val_predictions, val_y)\n",
       "```"
      ]
     },
     "metadata": {},
     "output_type": "display_data"
    }
   ],
   "source": [
    "# step_4.hint()\n",
    "step_4.solution()"
   ]
  },
  {
   "cell_type": "markdown",
   "id": "1e4ef6d3",
   "metadata": {
    "papermill": {
     "duration": 0.020366,
     "end_time": "2021-08-18T05:56:27.616165",
     "exception": false,
     "start_time": "2021-08-18T05:56:27.595799",
     "status": "completed"
    },
    "tags": []
   },
   "source": [
    "Is that MAE good?  There isn't a general rule for what values are good that applies across applications. But you'll see how to use (and improve) this number in the next step.\n",
    "\n",
    "# Keep Going\n",
    "\n",
    "You are ready for **[Underfitting and Overfitting](https://www.kaggle.com/dansbecker/underfitting-and-overfitting).**\n"
   ]
  },
  {
   "cell_type": "markdown",
   "id": "9cc90b62",
   "metadata": {
    "papermill": {
     "duration": 0.021418,
     "end_time": "2021-08-18T05:56:27.658672",
     "exception": false,
     "start_time": "2021-08-18T05:56:27.637254",
     "status": "completed"
    },
    "tags": []
   },
   "source": [
    "---\n",
    "\n",
    "\n",
    "\n",
    "\n",
    "*Have questions or comments? Visit the [Learn Discussion forum](https://www.kaggle.com/learn-forum/161285) to chat with other Learners.*"
   ]
  }
 ],
 "metadata": {
  "kernelspec": {
   "display_name": "Python 3",
   "language": "python",
   "name": "python3"
  },
  "language_info": {
   "codemirror_mode": {
    "name": "ipython",
    "version": 3
   },
   "file_extension": ".py",
   "mimetype": "text/x-python",
   "name": "python",
   "nbconvert_exporter": "python",
   "pygments_lexer": "ipython3",
   "version": "3.7.10"
  },
  "papermill": {
   "default_parameters": {},
   "duration": 12.863418,
   "end_time": "2021-08-18T05:56:29.336772",
   "environment_variables": {},
   "exception": null,
   "input_path": "__notebook__.ipynb",
   "output_path": "__notebook__.ipynb",
   "parameters": {},
   "start_time": "2021-08-18T05:56:16.473354",
   "version": "2.3.3"
  }
 },
 "nbformat": 4,
 "nbformat_minor": 5
}

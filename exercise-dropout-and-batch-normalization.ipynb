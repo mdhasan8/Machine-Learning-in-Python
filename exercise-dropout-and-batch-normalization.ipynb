{
 "cells": [
  {
   "cell_type": "markdown",
   "id": "691144b0",
   "metadata": {
    "papermill": {
     "duration": 0.017342,
     "end_time": "2021-11-13T23:41:39.571528",
     "exception": false,
     "start_time": "2021-11-13T23:41:39.554186",
     "status": "completed"
    },
    "tags": []
   },
   "source": [
    "**This notebook is an exercise in the [Intro to Deep Learning](https://www.kaggle.com/learn/intro-to-deep-learning) course.  You can reference the tutorial at [this link](https://www.kaggle.com/ryanholbrook/dropout-and-batch-normalization).**\n",
    "\n",
    "---\n"
   ]
  },
  {
   "cell_type": "markdown",
   "id": "2704677a",
   "metadata": {
    "papermill": {
     "duration": 0.013695,
     "end_time": "2021-11-13T23:41:39.600674",
     "exception": false,
     "start_time": "2021-11-13T23:41:39.586979",
     "status": "completed"
    },
    "tags": []
   },
   "source": [
    "# Introduction #\n",
    "\n",
    "In this exercise, you'll add dropout to the *Spotify* model from Exercise 4 and see how batch normalization can let you successfully train models on difficult datasets.\n",
    "\n",
    "Run the next cell to get started!"
   ]
  },
  {
   "cell_type": "code",
   "execution_count": 1,
   "id": "61a3485e",
   "metadata": {
    "execution": {
     "iopub.execute_input": "2021-11-13T23:41:39.639140Z",
     "iopub.status.busy": "2021-11-13T23:41:39.638257Z",
     "iopub.status.idle": "2021-11-13T23:41:39.660382Z",
     "shell.execute_reply": "2021-11-13T23:41:39.659870Z",
     "shell.execute_reply.started": "2021-11-13T23:22:20.556001Z"
    },
    "papermill": {
     "duration": 0.04615,
     "end_time": "2021-11-13T23:41:39.660506",
     "exception": false,
     "start_time": "2021-11-13T23:41:39.614356",
     "status": "completed"
    },
    "tags": []
   },
   "outputs": [],
   "source": [
    "# Setup plotting\n",
    "import matplotlib.pyplot as plt\n",
    "plt.style.use('seaborn-whitegrid')\n",
    "# Set Matplotlib defaults\n",
    "plt.rc('figure', autolayout=True)\n",
    "plt.rc('axes', labelweight='bold', labelsize='large',\n",
    "       titleweight='bold', titlesize=18, titlepad=10)\n",
    "plt.rc('animation', html='html5')\n",
    "\n",
    "# Setup feedback system\n",
    "from learntools.core import binder\n",
    "binder.bind(globals())\n",
    "from learntools.deep_learning_intro.ex5 import *"
   ]
  },
  {
   "cell_type": "markdown",
   "id": "40fba4c5",
   "metadata": {
    "papermill": {
     "duration": 0.013415,
     "end_time": "2021-11-13T23:41:39.687679",
     "exception": false,
     "start_time": "2021-11-13T23:41:39.674264",
     "status": "completed"
    },
    "tags": []
   },
   "source": [
    "First load the *Spotify* dataset."
   ]
  },
  {
   "cell_type": "code",
   "execution_count": 2,
   "id": "057535ed",
   "metadata": {
    "execution": {
     "iopub.execute_input": "2021-11-13T23:41:39.725311Z",
     "iopub.status.busy": "2021-11-13T23:41:39.724521Z",
     "iopub.status.idle": "2021-11-13T23:41:45.640310Z",
     "shell.execute_reply": "2021-11-13T23:41:45.640880Z",
     "shell.execute_reply.started": "2021-11-13T23:30:19.068594Z"
    },
    "papermill": {
     "duration": 5.939025,
     "end_time": "2021-11-13T23:41:45.641031",
     "exception": false,
     "start_time": "2021-11-13T23:41:39.702006",
     "status": "completed"
    },
    "tags": []
   },
   "outputs": [
    {
     "name": "stdout",
     "output_type": "stream",
     "text": [
      "Input shape: [18]\n"
     ]
    }
   ],
   "source": [
    "import pandas as pd\n",
    "from sklearn.preprocessing import StandardScaler, OneHotEncoder\n",
    "from sklearn.compose import make_column_transformer\n",
    "from sklearn.model_selection import GroupShuffleSplit\n",
    "\n",
    "from tensorflow import keras\n",
    "from tensorflow.keras import layers\n",
    "from tensorflow.keras import callbacks\n",
    "\n",
    "spotify = pd.read_csv('../input/dl-course-data/spotify.csv')\n",
    "\n",
    "X = spotify.copy().dropna()\n",
    "y = X.pop('track_popularity')\n",
    "artists = X['track_artist']\n",
    "\n",
    "features_num = ['danceability', 'energy', 'key', 'loudness', 'mode',\n",
    "                'speechiness', 'acousticness', 'instrumentalness',\n",
    "                'liveness', 'valence', 'tempo', 'duration_ms']\n",
    "features_cat = ['playlist_genre']\n",
    "\n",
    "preprocessor = make_column_transformer(\n",
    "    (StandardScaler(), features_num),\n",
    "    (OneHotEncoder(), features_cat),\n",
    ")\n",
    "\n",
    "def group_split(X, y, group, train_size=0.75):\n",
    "    splitter = GroupShuffleSplit(train_size=train_size)\n",
    "    train, test = next(splitter.split(X, y, groups=group))\n",
    "    return (X.iloc[train], X.iloc[test], y.iloc[train], y.iloc[test])\n",
    "\n",
    "X_train, X_valid, y_train, y_valid = group_split(X, y, artists)\n",
    "\n",
    "X_train = preprocessor.fit_transform(X_train)\n",
    "X_valid = preprocessor.transform(X_valid)\n",
    "y_train = y_train / 100\n",
    "y_valid = y_valid / 100\n",
    "\n",
    "input_shape = [X_train.shape[1]]\n",
    "print(\"Input shape: {}\".format(input_shape))"
   ]
  },
  {
   "cell_type": "markdown",
   "id": "eabf2943",
   "metadata": {
    "papermill": {
     "duration": 0.014059,
     "end_time": "2021-11-13T23:41:45.669521",
     "exception": false,
     "start_time": "2021-11-13T23:41:45.655462",
     "status": "completed"
    },
    "tags": []
   },
   "source": [
    "# 1) Add Dropout to Spotify Model\n",
    "\n",
    "Here is the last model from Exercise 4. Add two dropout layers, one after the `Dense` layer with 128 units, and one after the `Dense` layer with 64 units. Set the dropout rate on both to `0.3`."
   ]
  },
  {
   "cell_type": "code",
   "execution_count": 3,
   "id": "b661b5eb",
   "metadata": {
    "execution": {
     "iopub.execute_input": "2021-11-13T23:41:45.702556Z",
     "iopub.status.busy": "2021-11-13T23:41:45.701990Z",
     "iopub.status.idle": "2021-11-13T23:41:48.172858Z",
     "shell.execute_reply": "2021-11-13T23:41:48.172426Z",
     "shell.execute_reply.started": "2021-11-13T23:31:02.623752Z"
    },
    "lines_to_next_cell": 2,
    "papermill": {
     "duration": 2.489491,
     "end_time": "2021-11-13T23:41:48.172981",
     "exception": false,
     "start_time": "2021-11-13T23:41:45.683490",
     "status": "completed"
    },
    "tags": []
   },
   "outputs": [
    {
     "name": "stderr",
     "output_type": "stream",
     "text": [
      "2021-11-13 23:41:45.918362: I tensorflow/stream_executor/cuda/cuda_gpu_executor.cc:937] successful NUMA node read from SysFS had negative value (-1), but there must be at least one NUMA node, so returning NUMA node zero\n",
      "2021-11-13 23:41:46.028097: I tensorflow/stream_executor/cuda/cuda_gpu_executor.cc:937] successful NUMA node read from SysFS had negative value (-1), but there must be at least one NUMA node, so returning NUMA node zero\n",
      "2021-11-13 23:41:46.028847: I tensorflow/stream_executor/cuda/cuda_gpu_executor.cc:937] successful NUMA node read from SysFS had negative value (-1), but there must be at least one NUMA node, so returning NUMA node zero\n",
      "2021-11-13 23:41:46.030022: I tensorflow/core/platform/cpu_feature_guard.cc:142] This TensorFlow binary is optimized with oneAPI Deep Neural Network Library (oneDNN) to use the following CPU instructions in performance-critical operations:  AVX2 AVX512F FMA\n",
      "To enable them in other operations, rebuild TensorFlow with the appropriate compiler flags.\n",
      "2021-11-13 23:41:46.030762: I tensorflow/stream_executor/cuda/cuda_gpu_executor.cc:937] successful NUMA node read from SysFS had negative value (-1), but there must be at least one NUMA node, so returning NUMA node zero\n",
      "2021-11-13 23:41:46.031442: I tensorflow/stream_executor/cuda/cuda_gpu_executor.cc:937] successful NUMA node read from SysFS had negative value (-1), but there must be at least one NUMA node, so returning NUMA node zero\n",
      "2021-11-13 23:41:46.032046: I tensorflow/stream_executor/cuda/cuda_gpu_executor.cc:937] successful NUMA node read from SysFS had negative value (-1), but there must be at least one NUMA node, so returning NUMA node zero\n",
      "2021-11-13 23:41:47.806130: I tensorflow/stream_executor/cuda/cuda_gpu_executor.cc:937] successful NUMA node read from SysFS had negative value (-1), but there must be at least one NUMA node, so returning NUMA node zero\n",
      "2021-11-13 23:41:47.806941: I tensorflow/stream_executor/cuda/cuda_gpu_executor.cc:937] successful NUMA node read from SysFS had negative value (-1), but there must be at least one NUMA node, so returning NUMA node zero\n",
      "2021-11-13 23:41:47.807636: I tensorflow/stream_executor/cuda/cuda_gpu_executor.cc:937] successful NUMA node read from SysFS had negative value (-1), but there must be at least one NUMA node, so returning NUMA node zero\n",
      "2021-11-13 23:41:47.808283: I tensorflow/core/common_runtime/gpu/gpu_device.cc:1510] Created device /job:localhost/replica:0/task:0/device:GPU:0 with 15403 MB memory:  -> device: 0, name: Tesla P100-PCIE-16GB, pci bus id: 0000:00:04.0, compute capability: 6.0\n"
     ]
    },
    {
     "data": {
      "application/javascript": [
       "parent.postMessage({\"jupyterEvent\": \"custom.exercise_interaction\", \"data\": {\"outcomeType\": 1, \"valueTowardsCompletion\": 0.25, \"interactionType\": 1, \"questionType\": 2, \"questionId\": \"1_Q1\", \"learnToolsVersion\": \"0.3.4\", \"failureMessage\": \"\", \"exceptionClass\": \"\", \"trace\": \"\"}}, \"*\")"
      ],
      "text/plain": [
       "<IPython.core.display.Javascript object>"
      ]
     },
     "metadata": {},
     "output_type": "display_data"
    },
    {
     "data": {
      "text/markdown": [
       "<span style=\"color:#33cc33\">Correct</span>"
      ],
      "text/plain": [
       "Correct"
      ]
     },
     "metadata": {},
     "output_type": "display_data"
    }
   ],
   "source": [
    "# YOUR CODE HERE: Add two 30% dropout layers, one after 128 and one after 64\n",
    "model = keras.Sequential([\n",
    "    layers.Dense(128, activation='relu', input_shape=input_shape),\n",
    "    layers.Dropout(0.3),\n",
    "    layers.Dense(64, activation='relu'),\n",
    "    layers.Dropout(0.3),\n",
    "    layers.Dense(1)\n",
    "])\n",
    "\n",
    "# Check your answer\n",
    "q_1.check()"
   ]
  },
  {
   "cell_type": "code",
   "execution_count": 4,
   "id": "a045ebdd",
   "metadata": {
    "execution": {
     "iopub.execute_input": "2021-11-13T23:41:48.208359Z",
     "iopub.status.busy": "2021-11-13T23:41:48.207590Z",
     "iopub.status.idle": "2021-11-13T23:41:48.209630Z",
     "shell.execute_reply": "2021-11-13T23:41:48.210066Z"
    },
    "papermill": {
     "duration": 0.021616,
     "end_time": "2021-11-13T23:41:48.210189",
     "exception": false,
     "start_time": "2021-11-13T23:41:48.188573",
     "status": "completed"
    },
    "tags": []
   },
   "outputs": [],
   "source": [
    "# Lines below will give you a hint or solution code\n",
    "#q_1.hint()\n",
    "#q_1.solution()"
   ]
  },
  {
   "cell_type": "markdown",
   "id": "25e9a4fc",
   "metadata": {
    "papermill": {
     "duration": 0.015638,
     "end_time": "2021-11-13T23:41:48.241097",
     "exception": false,
     "start_time": "2021-11-13T23:41:48.225459",
     "status": "completed"
    },
    "tags": []
   },
   "source": [
    "Now run this next cell to train the model see the effect of adding dropout."
   ]
  },
  {
   "cell_type": "code",
   "execution_count": 5,
   "id": "f122c543",
   "metadata": {
    "execution": {
     "iopub.execute_input": "2021-11-13T23:41:48.280939Z",
     "iopub.status.busy": "2021-11-13T23:41:48.280107Z",
     "iopub.status.idle": "2021-11-13T23:41:59.282067Z",
     "shell.execute_reply": "2021-11-13T23:41:59.282525Z",
     "shell.execute_reply.started": "2021-11-13T23:31:24.841832Z"
    },
    "papermill": {
     "duration": 11.025697,
     "end_time": "2021-11-13T23:41:59.282688",
     "exception": false,
     "start_time": "2021-11-13T23:41:48.256991",
     "status": "completed"
    },
    "tags": []
   },
   "outputs": [
    {
     "name": "stderr",
     "output_type": "stream",
     "text": [
      "2021-11-13 23:41:48.352316: I tensorflow/compiler/mlir/mlir_graph_optimization_pass.cc:185] None of the MLIR Optimization Passes are enabled (registered 2)\n"
     ]
    },
    {
     "name": "stdout",
     "output_type": "stream",
     "text": [
      "Minimum Validation Loss: 0.1916\n"
     ]
    },
    {
     "data": {
      "image/png": "[encoded data removed]",
      "text/plain": [
       "<Figure size 432x288 with 1 Axes>"
      ]
     },
     "metadata": {},
     "output_type": "display_data"
    }
   ],
   "source": [
    "model.compile(\n",
    "    optimizer='adam',\n",
    "    loss='mae',\n",
    ")\n",
    "history = model.fit(\n",
    "    X_train, y_train,\n",
    "    validation_data=(X_valid, y_valid),\n",
    "    batch_size=512,\n",
    "    epochs=50,\n",
    "    verbose=0,\n",
    ")\n",
    "history_df = pd.DataFrame(history.history)\n",
    "history_df.loc[:, ['loss', 'val_loss']].plot()\n",
    "print(\"Minimum Validation Loss: {:0.4f}\".format(history_df['val_loss'].min()))"
   ]
  },
  {
   "cell_type": "markdown",
   "id": "3b0577f5",
   "metadata": {
    "papermill": {
     "duration": 0.016565,
     "end_time": "2021-11-13T23:41:59.315915",
     "exception": false,
     "start_time": "2021-11-13T23:41:59.299350",
     "status": "completed"
    },
    "tags": []
   },
   "source": [
    "# 2) Evaluate Dropout\n",
    "\n",
    "Recall from Exercise 4 that this model tended to overfit the data around epoch 5. Did adding dropout seem to help prevent overfitting this time?"
   ]
  },
  {
   "cell_type": "code",
   "execution_count": 6,
   "id": "68511b2e",
   "metadata": {
    "execution": {
     "iopub.execute_input": "2021-11-13T23:41:59.353373Z",
     "iopub.status.busy": "2021-11-13T23:41:59.352232Z",
     "iopub.status.idle": "2021-11-13T23:41:59.358859Z",
     "shell.execute_reply": "2021-11-13T23:41:59.359271Z",
     "shell.execute_reply.started": "2021-11-13T23:32:04.265602Z"
    },
    "papermill": {
     "duration": 0.026944,
     "end_time": "2021-11-13T23:41:59.359404",
     "exception": false,
     "start_time": "2021-11-13T23:41:59.332460",
     "status": "completed"
    },
    "tags": []
   },
   "outputs": [
    {
     "data": {
      "application/javascript": [
       "parent.postMessage({\"jupyterEvent\": \"custom.exercise_interaction\", \"data\": {\"outcomeType\": 1, \"valueTowardsCompletion\": 0.25, \"interactionType\": 1, \"questionType\": 4, \"questionId\": \"2_Q2\", \"learnToolsVersion\": \"0.3.4\", \"failureMessage\": \"\", \"exceptionClass\": \"\", \"trace\": \"\"}}, \"*\")"
      ],
      "text/plain": [
       "<IPython.core.display.Javascript object>"
      ]
     },
     "metadata": {},
     "output_type": "display_data"
    },
    {
     "data": {
      "text/markdown": [
       "<span style=\"color:#33cc33\">Correct:</span> \n",
       "\n",
       "\n",
       "From the learning curves, you can see that the validation loss remains near a constant minimum even though the training loss continues to decrease. So we can see that adding dropout did prevent overfitting this time. Moreover, by making it harder for the network to fit spurious patterns, dropout may have encouraged the network to seek out more of the true patterns, possibly improving the validation loss some as well).\n"
      ],
      "text/plain": [
       "Correct: \n",
       "\n",
       "\n",
       "From the learning curves, you can see that the validation loss remains near a constant minimum even though the training loss continues to decrease. So we can see that adding dropout did prevent overfitting this time. Moreover, by making it harder for the network to fit spurious patterns, dropout may have encouraged the network to seek out more of the true patterns, possibly improving the validation loss some as well)."
      ]
     },
     "metadata": {},
     "output_type": "display_data"
    }
   ],
   "source": [
    "# View the solution (Run this cell to receive credit!)\n",
    "q_2.check()"
   ]
  },
  {
   "cell_type": "markdown",
   "id": "4402c2d1",
   "metadata": {
    "papermill": {
     "duration": 0.017187,
     "end_time": "2021-11-13T23:41:59.394031",
     "exception": false,
     "start_time": "2021-11-13T23:41:59.376844",
     "status": "completed"
    },
    "tags": []
   },
   "source": [
    "Now, we'll switch topics to explore how batch normalization can fix problems in training.\n",
    "\n",
    "Load the *Concrete* dataset. We won't do any standardization this time. This will make the effect of batch normalization much more apparent."
   ]
  },
  {
   "cell_type": "code",
   "execution_count": 7,
   "id": "6eb3b41d",
   "metadata": {
    "execution": {
     "iopub.execute_input": "2021-11-13T23:41:59.435096Z",
     "iopub.status.busy": "2021-11-13T23:41:59.434583Z",
     "iopub.status.idle": "2021-11-13T23:41:59.455527Z",
     "shell.execute_reply": "2021-11-13T23:41:59.455076Z"
    },
    "papermill": {
     "duration": 0.043864,
     "end_time": "2021-11-13T23:41:59.455637",
     "exception": false,
     "start_time": "2021-11-13T23:41:59.411773",
     "status": "completed"
    },
    "tags": []
   },
   "outputs": [],
   "source": [
    "import pandas as pd\n",
    "\n",
    "concrete = pd.read_csv('../input/dl-course-data/concrete.csv')\n",
    "df = concrete.copy()\n",
    "\n",
    "df_train = df.sample(frac=0.7, random_state=0)\n",
    "df_valid = df.drop(df_train.index)\n",
    "\n",
    "X_train = df_train.drop('CompressiveStrength', axis=1)\n",
    "X_valid = df_valid.drop('CompressiveStrength', axis=1)\n",
    "y_train = df_train['CompressiveStrength']\n",
    "y_valid = df_valid['CompressiveStrength']\n",
    "\n",
    "input_shape = [X_train.shape[1]]"
   ]
  },
  {
   "cell_type": "markdown",
   "id": "5d7bb7ad",
   "metadata": {
    "papermill": {
     "duration": 0.017172,
     "end_time": "2021-11-13T23:41:59.490714",
     "exception": false,
     "start_time": "2021-11-13T23:41:59.473542",
     "status": "completed"
    },
    "tags": []
   },
   "source": [
    "Run the following cell to train the network on the unstandardized *Concrete* data."
   ]
  },
  {
   "cell_type": "code",
   "execution_count": 8,
   "id": "b29cd6f4",
   "metadata": {
    "execution": {
     "iopub.execute_input": "2021-11-13T23:41:59.536836Z",
     "iopub.status.busy": "2021-11-13T23:41:59.536010Z",
     "iopub.status.idle": "2021-11-13T23:42:05.251053Z",
     "shell.execute_reply": "2021-11-13T23:42:05.250509Z",
     "shell.execute_reply.started": "2021-11-13T23:32:23.661045Z"
    },
    "papermill": {
     "duration": 5.743149,
     "end_time": "2021-11-13T23:42:05.251187",
     "exception": false,
     "start_time": "2021-11-13T23:41:59.508038",
     "status": "completed"
    },
    "tags": []
   },
   "outputs": [
    {
     "name": "stdout",
     "output_type": "stream",
     "text": [
      "Minimum Validation Loss: nan\n"
     ]
    },
    {
     "data": {
      "image/png": "[encoded data removed]",
      "text/plain": [
       "<Figure size 432x288 with 1 Axes>"
      ]
     },
     "metadata": {},
     "output_type": "display_data"
    }
   ],
   "source": [
    "model = keras.Sequential([\n",
    "    layers.Dense(512, activation='relu', input_shape=input_shape),\n",
    "    layers.Dense(512, activation='relu'),    \n",
    "    layers.Dense(512, activation='relu'),\n",
    "    layers.Dense(1),\n",
    "])\n",
    "model.compile(\n",
    "    optimizer='sgd', # SGD is more sensitive to differences of scale\n",
    "    loss='mae',\n",
    "    metrics=['mae'],\n",
    ")\n",
    "history = model.fit(\n",
    "    X_train, y_train,\n",
    "    validation_data=(X_valid, y_valid),\n",
    "    batch_size=64,\n",
    "    epochs=100,\n",
    "    verbose=0,\n",
    ")\n",
    "\n",
    "history_df = pd.DataFrame(history.history)\n",
    "history_df.loc[0:, ['loss', 'val_loss']].plot()\n",
    "print((\"Minimum Validation Loss: {:0.4f}\").format(history_df['val_loss'].min()))"
   ]
  },
  {
   "cell_type": "markdown",
   "id": "e3acd656",
   "metadata": {
    "papermill": {
     "duration": 0.036308,
     "end_time": "2021-11-13T23:42:05.319361",
     "exception": false,
     "start_time": "2021-11-13T23:42:05.283053",
     "status": "completed"
    },
    "tags": []
   },
   "source": [
    "Did you end up with a blank graph? Trying to train this network on this dataset will usually fail. Even when it does converge (due to a lucky weight initialization), it tends to converge to a very large number.\n",
    "\n",
    "# 3) Add Batch Normalization Layers\n",
    "\n",
    "Batch normalization can help correct problems like this.\n",
    "\n",
    "Add four `BatchNormalization` layers, one before each of the dense layers. (Remember to move the `input_shape` argument to the new first layer.)"
   ]
  },
  {
   "cell_type": "code",
   "execution_count": 9,
   "id": "6ac4e5d8",
   "metadata": {
    "execution": {
     "iopub.execute_input": "2021-11-13T23:42:05.414057Z",
     "iopub.status.busy": "2021-11-13T23:42:05.410544Z",
     "iopub.status.idle": "2021-11-13T23:42:05.426963Z",
     "shell.execute_reply": "2021-11-13T23:42:05.426332Z",
     "shell.execute_reply.started": "2021-11-13T23:35:00.268277Z"
    },
    "lines_to_next_cell": 0,
    "papermill": {
     "duration": 0.07425,
     "end_time": "2021-11-13T23:42:05.427116",
     "exception": false,
     "start_time": "2021-11-13T23:42:05.352866",
     "status": "completed"
    },
    "tags": []
   },
   "outputs": [
    {
     "data": {
      "application/javascript": [
       "parent.postMessage({\"jupyterEvent\": \"custom.exercise_interaction\", \"data\": {\"outcomeType\": 1, \"valueTowardsCompletion\": 0.25, \"interactionType\": 1, \"questionType\": 2, \"questionId\": \"3_Q3\", \"learnToolsVersion\": \"0.3.4\", \"failureMessage\": \"\", \"exceptionClass\": \"\", \"trace\": \"\"}}, \"*\")"
      ],
      "text/plain": [
       "<IPython.core.display.Javascript object>"
      ]
     },
     "metadata": {},
     "output_type": "display_data"
    },
    {
     "data": {
      "text/markdown": [
       "<span style=\"color:#33cc33\">Correct</span>"
      ],
      "text/plain": [
       "Correct"
      ]
     },
     "metadata": {},
     "output_type": "display_data"
    }
   ],
   "source": [
    "# YOUR CODE HERE: Add a BatchNormalization layer before each Dense layer\n",
    "model = keras.Sequential([\n",
    "    layers.BatchNormalization(),\n",
    "    layers.Dense(512, activation='relu', input_shape=input_shape),\n",
    "    layers.BatchNormalization(),\n",
    "    layers.Dense(512, activation='relu'),\n",
    "    layers.BatchNormalization(),\n",
    "    layers.Dense(512, activation='relu'),\n",
    "    layers.BatchNormalization(),\n",
    "    layers.Dense(1),\n",
    "])\n",
    "\n",
    "# Check your answer\n",
    "q_3.check()"
   ]
  },
  {
   "cell_type": "code",
   "execution_count": 10,
   "id": "df249384",
   "metadata": {
    "execution": {
     "iopub.execute_input": "2021-11-13T23:42:05.502860Z",
     "iopub.status.busy": "2021-11-13T23:42:05.501121Z",
     "iopub.status.idle": "2021-11-13T23:42:05.503677Z",
     "shell.execute_reply": "2021-11-13T23:42:05.504278Z"
    },
    "papermill": {
     "duration": 0.038864,
     "end_time": "2021-11-13T23:42:05.504459",
     "exception": false,
     "start_time": "2021-11-13T23:42:05.465595",
     "status": "completed"
    },
    "tags": []
   },
   "outputs": [],
   "source": [
    "# Lines below will give you a hint or solution code\n",
    "#q_3.hint()\n",
    "#q_3.solution()"
   ]
  },
  {
   "cell_type": "markdown",
   "id": "28855d5e",
   "metadata": {
    "papermill": {
     "duration": 0.031119,
     "end_time": "2021-11-13T23:42:05.566532",
     "exception": false,
     "start_time": "2021-11-13T23:42:05.535413",
     "status": "completed"
    },
    "tags": []
   },
   "source": [
    "Run the next cell to see if batch normalization will let us train the model."
   ]
  },
  {
   "cell_type": "code",
   "execution_count": 11,
   "id": "e29aa93d",
   "metadata": {
    "execution": {
     "iopub.execute_input": "2021-11-13T23:42:05.640990Z",
     "iopub.status.busy": "2021-11-13T23:42:05.640093Z",
     "iopub.status.idle": "2021-11-13T23:42:17.046524Z",
     "shell.execute_reply": "2021-11-13T23:42:17.046958Z",
     "shell.execute_reply.started": "2021-11-13T23:35:13.598383Z"
    },
    "papermill": {
     "duration": 11.449368,
     "end_time": "2021-11-13T23:42:17.047103",
     "exception": false,
     "start_time": "2021-11-13T23:42:05.597735",
     "status": "completed"
    },
    "tags": []
   },
   "outputs": [
    {
     "name": "stdout",
     "output_type": "stream",
     "text": [
      "Minimum Validation Loss: 4.1237\n"
     ]
    },
    {
     "data": {
      "image/png": "[encoded data removed]",
      "text/plain": [
       "<Figure size 432x288 with 1 Axes>"
      ]
     },
     "metadata": {},
     "output_type": "display_data"
    }
   ],
   "source": [
    "model.compile(\n",
    "    optimizer='sgd',\n",
    "    loss='mae',\n",
    "    metrics=['mae'],\n",
    ")\n",
    "EPOCHS = 100\n",
    "history = model.fit(\n",
    "    X_train, y_train,\n",
    "    validation_data=(X_valid, y_valid),\n",
    "    batch_size=64,\n",
    "    epochs=EPOCHS,\n",
    "    verbose=0,\n",
    ")\n",
    "\n",
    "history_df = pd.DataFrame(history.history)\n",
    "history_df.loc[0:, ['loss', 'val_loss']].plot()\n",
    "print((\"Minimum Validation Loss: {:0.4f}\").format(history_df['val_loss'].min()))"
   ]
  },
  {
   "cell_type": "markdown",
   "id": "1809981f",
   "metadata": {
    "papermill": {
     "duration": 0.020225,
     "end_time": "2021-11-13T23:42:17.088025",
     "exception": false,
     "start_time": "2021-11-13T23:42:17.067800",
     "status": "completed"
    },
    "tags": []
   },
   "source": [
    "# 4) Evaluate Batch Normalization\n",
    "\n",
    "Did adding batch normalization help?"
   ]
  },
  {
   "cell_type": "code",
   "execution_count": 12,
   "id": "061b8dc4",
   "metadata": {
    "execution": {
     "iopub.execute_input": "2021-11-13T23:42:17.135502Z",
     "iopub.status.busy": "2021-11-13T23:42:17.133555Z",
     "iopub.status.idle": "2021-11-13T23:42:17.138778Z",
     "shell.execute_reply": "2021-11-13T23:42:17.139180Z",
     "shell.execute_reply.started": "2021-11-13T23:41:13.874316Z"
    },
    "lines_to_next_cell": 0,
    "papermill": {
     "duration": 0.030839,
     "end_time": "2021-11-13T23:42:17.139322",
     "exception": false,
     "start_time": "2021-11-13T23:42:17.108483",
     "status": "completed"
    },
    "tags": []
   },
   "outputs": [
    {
     "data": {
      "application/javascript": [
       "parent.postMessage({\"jupyterEvent\": \"custom.exercise_interaction\", \"data\": {\"outcomeType\": 1, \"valueTowardsCompletion\": 0.25, \"interactionType\": 1, \"questionType\": 4, \"questionId\": \"4_Q4\", \"learnToolsVersion\": \"0.3.4\", \"failureMessage\": \"\", \"exceptionClass\": \"\", \"trace\": \"\"}}, \"*\")"
      ],
      "text/plain": [
       "<IPython.core.display.Javascript object>"
      ]
     },
     "metadata": {},
     "output_type": "display_data"
    },
    {
     "data": {
      "text/markdown": [
       "<span style=\"color:#33cc33\">Correct:</span> \n",
       "\n",
       "\n",
       "You can see that adding batch normalization was a big improvement on the first attempt! By adaptively scaling the data as it passes through the network, batch normalization can let you train models on difficult datasets.\n"
      ],
      "text/plain": [
       "Correct: \n",
       "\n",
       "\n",
       "You can see that adding batch normalization was a big improvement on the first attempt! By adaptively scaling the data as it passes through the network, batch normalization can let you train models on difficult datasets."
      ]
     },
     "metadata": {},
     "output_type": "display_data"
    }
   ],
   "source": [
    "# View the solution (Run this cell to receive credit!)\n",
    "q_4.check()"
   ]
  },
  {
   "cell_type": "markdown",
   "id": "24b4bffa",
   "metadata": {
    "papermill": {
     "duration": 0.02109,
     "end_time": "2021-11-13T23:42:17.181580",
     "exception": false,
     "start_time": "2021-11-13T23:42:17.160490",
     "status": "completed"
    },
    "tags": []
   },
   "source": [
    "# Keep Going #\n",
    "\n",
    "[**Create neural networks**](https://www.kaggle.com/ryanholbrook/binary-classification) for binary classification."
   ]
  },
  {
   "cell_type": "markdown",
   "id": "64446028",
   "metadata": {
    "papermill": {
     "duration": 0.021135,
     "end_time": "2021-11-13T23:42:17.224045",
     "exception": false,
     "start_time": "2021-11-13T23:42:17.202910",
     "status": "completed"
    },
    "tags": []
   },
   "source": [
    "---\n",
    "\n",
    "\n",
    "\n",
    "\n",
    "*Have questions or comments? Visit the [course discussion forum](https://www.kaggle.com/learn/intro-to-deep-learning/discussion) to chat with other learners.*"
   ]
  }
 ],
 "metadata": {
  "kernelspec": {
   "display_name": "Python 3",
   "language": "python",
   "name": "python3"
  },
  "language_info": {
   "codemirror_mode": {
    "name": "ipython",
    "version": 3
   },
   "file_extension": ".py",
   "mimetype": "text/x-python",
   "name": "python",
   "nbconvert_exporter": "python",
   "pygments_lexer": "ipython3",
   "version": "3.7.10"
  },
  "papermill": {
   "default_parameters": {},
   "duration": 48.409345,
   "end_time": "2021-11-13T23:42:20.441448",
   "environment_variables": {},
   "exception": null,
   "input_path": "__notebook__.ipynb",
   "output_path": "__notebook__.ipynb",
   "parameters": {},
   "start_time": "2021-11-13T23:41:32.032103",
   "version": "2.3.3"
  }
 },
 "nbformat": 4,
 "nbformat_minor": 5
}

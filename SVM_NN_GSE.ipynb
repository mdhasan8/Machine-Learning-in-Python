{
 "cells": [
  {
   "cell_type": "code",
   "execution_count": 1,
   "id": "d030d871",
   "metadata": {
    "_cell_guid": "b1076dfc-b9ad-4769-8c92-a6c4dae69d19",
    "_uuid": "8f2839f25d086af736a60e9eeb907d3b93b6e0e5",
    "execution": {
     "iopub.execute_input": "2021-11-29T15:49:09.704622Z",
     "iopub.status.busy": "2021-11-29T15:49:09.703937Z",
     "iopub.status.idle": "2021-11-29T15:49:09.719315Z",
     "shell.execute_reply": "2021-11-29T15:49:09.719965Z",
     "shell.execute_reply.started": "2021-11-28T17:04:25.846497Z"
    },
    "papermill": {
     "duration": 0.064858,
     "end_time": "2021-11-29T15:49:09.720253",
     "exception": false,
     "start_time": "2021-11-29T15:49:09.655395",
     "status": "completed"
    },
    "tags": []
   },
   "outputs": [
    {
     "name": "stdout",
     "output_type": "stream",
     "text": [
      "/kaggle/input/gene-expression/data_set_ALL_AML_independent.csv\n",
      "/kaggle/input/gene-expression/data_set_ALL_AML_train.csv\n",
      "/kaggle/input/gene-expression/actual.csv\n"
     ]
    }
   ],
   "source": [
    "# This Python 3 environment comes with many helpful analytics libraries installed\n",
    "# It is defined by the kaggle/python Docker image: https://github.com/kaggle/docker-python\n",
    "# For example, here's several helpful packages to load\n",
    "\n",
    "import numpy as np # linear algebra\n",
    "import pandas as pd # data processing, CSV file I/O (e.g. pd.read_csv)\n",
    "\n",
    "# Input data files are available in the read-only \"../input/\" directory\n",
    "# For example, running this (by clicking run or pressing Shift+Enter) will list all files under the input directory\n",
    "\n",
    "import os\n",
    "for dirname, _, filenames in os.walk('/kaggle/input'):\n",
    "    for filename in filenames:\n",
    "        print(os.path.join(dirname, filename))\n",
    "\n",
    "# You can write up to 20GB to the current directory (/kaggle/working/) that gets preserved as output when you create a version using \"Save & Run All\" \n",
    "# You can also write temporary files to /kaggle/temp/, but they won't be saved outside of the current session"
   ]
  },
  {
   "cell_type": "code",
   "execution_count": 2,
   "id": "68c08fe0",
   "metadata": {
    "execution": {
     "iopub.execute_input": "2021-11-29T15:49:09.786687Z",
     "iopub.status.busy": "2021-11-29T15:49:09.783009Z",
     "iopub.status.idle": "2021-11-29T15:49:17.619858Z",
     "shell.execute_reply": "2021-11-29T15:49:17.619262Z",
     "shell.execute_reply.started": "2021-11-28T17:04:25.886170Z"
    },
    "papermill": {
     "duration": 7.870091,
     "end_time": "2021-11-29T15:49:17.620013",
     "exception": false,
     "start_time": "2021-11-29T15:49:09.749922",
     "status": "completed"
    },
    "tags": []
   },
   "outputs": [],
   "source": [
    "import numpy as np\n",
    "np.random.seed(0)\n",
    "from tensorflow.random import set_seed\n",
    "set_seed(0)\n",
    "\n",
    "import pandas as pd\n",
    "from tensorflow import keras\n",
    "from sklearn.preprocessing import StandardScaler\n",
    "from sklearn.decomposition import PCA\n",
    "from tensorflow.keras import layers\n",
    "from sklearn.metrics import accuracy_score, confusion_matrix\n",
    "import matplotlib.pyplot as plt\n",
    "import seaborn as sns\n",
    "from mpl_toolkits.mplot3d import Axes3D"
   ]
  },
  {
   "cell_type": "code",
   "execution_count": 3,
   "id": "597046e8",
   "metadata": {
    "execution": {
     "iopub.execute_input": "2021-11-29T15:49:17.681105Z",
     "iopub.status.busy": "2021-11-29T15:49:17.680472Z",
     "iopub.status.idle": "2021-11-29T15:49:17.698519Z",
     "shell.execute_reply": "2021-11-29T15:49:17.699182Z",
     "shell.execute_reply.started": "2021-11-28T17:04:33.381596Z"
    },
    "papermill": {
     "duration": 0.05034,
     "end_time": "2021-11-29T15:49:17.699351",
     "exception": false,
     "start_time": "2021-11-29T15:49:17.649011",
     "status": "completed"
    },
    "tags": []
   },
   "outputs": [
    {
     "data": {
      "text/plain": [
       "(72, 2)"
      ]
     },
     "execution_count": 3,
     "metadata": {},
     "output_type": "execute_result"
    }
   ],
   "source": [
    "actual_df = pd.read_csv('../input/gene-expression/actual.csv')\n",
    "actual_df.head()\n",
    "actual_df.shape"
   ]
  },
  {
   "cell_type": "code",
   "execution_count": 4,
   "id": "ccfd2759",
   "metadata": {
    "execution": {
     "iopub.execute_input": "2021-11-29T15:49:17.761624Z",
     "iopub.status.busy": "2021-11-29T15:49:17.760971Z",
     "iopub.status.idle": "2021-11-29T15:49:17.777615Z",
     "shell.execute_reply": "2021-11-29T15:49:17.778165Z",
     "shell.execute_reply.started": "2021-11-28T17:04:33.406892Z"
    },
    "papermill": {
     "duration": 0.050021,
     "end_time": "2021-11-29T15:49:17.778353",
     "exception": false,
     "start_time": "2021-11-29T15:49:17.728332",
     "status": "completed"
    },
    "tags": []
   },
   "outputs": [
    {
     "data": {
      "text/plain": [
       "ALL    47\n",
       "AML    25\n",
       "Name: cancer, dtype: int64"
      ]
     },
     "execution_count": 4,
     "metadata": {},
     "output_type": "execute_result"
    }
   ],
   "source": [
    "actual_df['cancer'].value_counts()"
   ]
  },
  {
   "cell_type": "code",
   "execution_count": 5,
   "id": "b4dcbe2f",
   "metadata": {
    "execution": {
     "iopub.execute_input": "2021-11-29T15:49:17.841160Z",
     "iopub.status.busy": "2021-11-29T15:49:17.840459Z",
     "iopub.status.idle": "2021-11-29T15:49:17.848078Z",
     "shell.execute_reply": "2021-11-29T15:49:17.848613Z",
     "shell.execute_reply.started": "2021-11-28T17:04:33.427467Z"
    },
    "papermill": {
     "duration": 0.040558,
     "end_time": "2021-11-29T15:49:17.848857",
     "exception": false,
     "start_time": "2021-11-29T15:49:17.808299",
     "status": "completed"
    },
    "tags": []
   },
   "outputs": [],
   "source": [
    "y = actual_df.replace({'ALL':0, 'AML':1})\n",
    "y = y.set_index('patient')\n",
    "labels = ['ALL', 'AML']"
   ]
  },
  {
   "cell_type": "code",
   "execution_count": 6,
   "id": "be221a5e",
   "metadata": {
    "execution": {
     "iopub.execute_input": "2021-11-29T15:49:17.912877Z",
     "iopub.status.busy": "2021-11-29T15:49:17.912196Z",
     "iopub.status.idle": "2021-11-29T15:49:17.917039Z",
     "shell.execute_reply": "2021-11-29T15:49:17.917567Z",
     "shell.execute_reply.started": "2021-11-28T17:04:33.441475Z"
    },
    "papermill": {
     "duration": 0.037744,
     "end_time": "2021-11-29T15:49:17.917759",
     "exception": false,
     "start_time": "2021-11-29T15:49:17.880015",
     "status": "completed"
    },
    "tags": []
   },
   "outputs": [
    {
     "data": {
      "text/plain": [
       "pandas.core.frame.DataFrame"
      ]
     },
     "execution_count": 6,
     "metadata": {},
     "output_type": "execute_result"
    }
   ],
   "source": [
    "y.shape\n",
    "y.head()\n",
    "type(y)"
   ]
  },
  {
   "cell_type": "code",
   "execution_count": 7,
   "id": "b539e7d1",
   "metadata": {
    "execution": {
     "iopub.execute_input": "2021-11-29T15:49:17.983214Z",
     "iopub.status.busy": "2021-11-29T15:49:17.982484Z",
     "iopub.status.idle": "2021-11-29T15:49:18.206582Z",
     "shell.execute_reply": "2021-11-29T15:49:18.207104Z",
     "shell.execute_reply.started": "2021-11-28T17:04:33.457623Z"
    },
    "papermill": {
     "duration": 0.259705,
     "end_time": "2021-11-29T15:49:18.207299",
     "exception": false,
     "start_time": "2021-11-29T15:49:17.947594",
     "status": "completed"
    },
    "tags": []
   },
   "outputs": [],
   "source": [
    "train_df = pd.read_csv('../input/gene-expression/data_set_ALL_AML_train.csv')\n",
    "test_df = pd.read_csv('../input/gene-expression/data_set_ALL_AML_independent.csv')"
   ]
  },
  {
   "cell_type": "code",
   "execution_count": 8,
   "id": "9e4705bf",
   "metadata": {
    "execution": {
     "iopub.execute_input": "2021-11-29T15:49:18.273295Z",
     "iopub.status.busy": "2021-11-29T15:49:18.272567Z",
     "iopub.status.idle": "2021-11-29T15:49:18.275451Z",
     "shell.execute_reply": "2021-11-29T15:49:18.276113Z",
     "shell.execute_reply.started": "2021-11-28T17:04:33.713480Z"
    },
    "papermill": {
     "duration": 0.039188,
     "end_time": "2021-11-29T15:49:18.276283",
     "exception": false,
     "start_time": "2021-11-29T15:49:18.237095",
     "status": "completed"
    },
    "tags": []
   },
   "outputs": [
    {
     "name": "stdout",
     "output_type": "stream",
     "text": [
      "Shape of Training Data:  (7129, 78)\n",
      "Shape of Testing Data:  (7129, 70)\n"
     ]
    }
   ],
   "source": [
    "print(\"Shape of Training Data: \", train_df.shape)\n",
    "print(\"Shape of Testing Data: \", test_df.shape)"
   ]
  },
  {
   "cell_type": "code",
   "execution_count": 9,
   "id": "debda9f6",
   "metadata": {
    "execution": {
     "iopub.execute_input": "2021-11-29T15:49:18.345047Z",
     "iopub.status.busy": "2021-11-29T15:49:18.343995Z",
     "iopub.status.idle": "2021-11-29T15:49:18.374659Z",
     "shell.execute_reply": "2021-11-29T15:49:18.374095Z",
     "shell.execute_reply.started": "2021-11-28T17:04:33.720443Z"
    },
    "papermill": {
     "duration": 0.067967,
     "end_time": "2021-11-29T15:49:18.374811",
     "exception": false,
     "start_time": "2021-11-29T15:49:18.306844",
     "status": "completed"
    },
    "tags": []
   },
   "outputs": [
    {
     "data": {
      "text/html": [
       "<div>\n",
       "<style scoped>\n",
       "    .dataframe tbody tr th:only-of-type {\n",
       "        vertical-align: middle;\n",
       "    }\n",
       "\n",
       "    .dataframe tbody tr th {\n",
       "        vertical-align: top;\n",
       "    }\n",
       "\n",
       "    .dataframe thead th {\n",
       "        text-align: right;\n",
       "    }\n",
       "</style>\n",
       "<table border=\"1\" class=\"dataframe\">\n",
       "  <thead>\n",
       "    <tr style=\"text-align: right;\">\n",
       "      <th></th>\n",
       "      <th>Gene Description</th>\n",
       "      <th>Gene Accession Number</th>\n",
       "      <th>1</th>\n",
       "      <th>call</th>\n",
       "      <th>2</th>\n",
       "      <th>call.1</th>\n",
       "      <th>3</th>\n",
       "      <th>call.2</th>\n",
       "      <th>4</th>\n",
       "      <th>call.3</th>\n",
       "      <th>...</th>\n",
       "      <th>29</th>\n",
       "      <th>call.33</th>\n",
       "      <th>30</th>\n",
       "      <th>call.34</th>\n",
       "      <th>31</th>\n",
       "      <th>call.35</th>\n",
       "      <th>32</th>\n",
       "      <th>call.36</th>\n",
       "      <th>33</th>\n",
       "      <th>call.37</th>\n",
       "    </tr>\n",
       "  </thead>\n",
       "  <tbody>\n",
       "    <tr>\n",
       "      <th>0</th>\n",
       "      <td>AFFX-BioB-5_at (endogenous control)</td>\n",
       "      <td>AFFX-BioB-5_at</td>\n",
       "      <td>-214</td>\n",
       "      <td>A</td>\n",
       "      <td>-139</td>\n",
       "      <td>A</td>\n",
       "      <td>-76</td>\n",
       "      <td>A</td>\n",
       "      <td>-135</td>\n",
       "      <td>A</td>\n",
       "      <td>...</td>\n",
       "      <td>15</td>\n",
       "      <td>A</td>\n",
       "      <td>-318</td>\n",
       "      <td>A</td>\n",
       "      <td>-32</td>\n",
       "      <td>A</td>\n",
       "      <td>-124</td>\n",
       "      <td>A</td>\n",
       "      <td>-135</td>\n",
       "      <td>A</td>\n",
       "    </tr>\n",
       "    <tr>\n",
       "      <th>1</th>\n",
       "      <td>AFFX-BioB-M_at (endogenous control)</td>\n",
       "      <td>AFFX-BioB-M_at</td>\n",
       "      <td>-153</td>\n",
       "      <td>A</td>\n",
       "      <td>-73</td>\n",
       "      <td>A</td>\n",
       "      <td>-49</td>\n",
       "      <td>A</td>\n",
       "      <td>-114</td>\n",
       "      <td>A</td>\n",
       "      <td>...</td>\n",
       "      <td>-114</td>\n",
       "      <td>A</td>\n",
       "      <td>-192</td>\n",
       "      <td>A</td>\n",
       "      <td>-49</td>\n",
       "      <td>A</td>\n",
       "      <td>-79</td>\n",
       "      <td>A</td>\n",
       "      <td>-186</td>\n",
       "      <td>A</td>\n",
       "    </tr>\n",
       "    <tr>\n",
       "      <th>2</th>\n",
       "      <td>AFFX-BioB-3_at (endogenous control)</td>\n",
       "      <td>AFFX-BioB-3_at</td>\n",
       "      <td>-58</td>\n",
       "      <td>A</td>\n",
       "      <td>-1</td>\n",
       "      <td>A</td>\n",
       "      <td>-307</td>\n",
       "      <td>A</td>\n",
       "      <td>265</td>\n",
       "      <td>A</td>\n",
       "      <td>...</td>\n",
       "      <td>2</td>\n",
       "      <td>A</td>\n",
       "      <td>-95</td>\n",
       "      <td>A</td>\n",
       "      <td>49</td>\n",
       "      <td>A</td>\n",
       "      <td>-37</td>\n",
       "      <td>A</td>\n",
       "      <td>-70</td>\n",
       "      <td>A</td>\n",
       "    </tr>\n",
       "    <tr>\n",
       "      <th>3</th>\n",
       "      <td>AFFX-BioC-5_at (endogenous control)</td>\n",
       "      <td>AFFX-BioC-5_at</td>\n",
       "      <td>88</td>\n",
       "      <td>A</td>\n",
       "      <td>283</td>\n",
       "      <td>A</td>\n",
       "      <td>309</td>\n",
       "      <td>A</td>\n",
       "      <td>12</td>\n",
       "      <td>A</td>\n",
       "      <td>...</td>\n",
       "      <td>193</td>\n",
       "      <td>A</td>\n",
       "      <td>312</td>\n",
       "      <td>A</td>\n",
       "      <td>230</td>\n",
       "      <td>P</td>\n",
       "      <td>330</td>\n",
       "      <td>A</td>\n",
       "      <td>337</td>\n",
       "      <td>A</td>\n",
       "    </tr>\n",
       "    <tr>\n",
       "      <th>4</th>\n",
       "      <td>AFFX-BioC-3_at (endogenous control)</td>\n",
       "      <td>AFFX-BioC-3_at</td>\n",
       "      <td>-295</td>\n",
       "      <td>A</td>\n",
       "      <td>-264</td>\n",
       "      <td>A</td>\n",
       "      <td>-376</td>\n",
       "      <td>A</td>\n",
       "      <td>-419</td>\n",
       "      <td>A</td>\n",
       "      <td>...</td>\n",
       "      <td>-51</td>\n",
       "      <td>A</td>\n",
       "      <td>-139</td>\n",
       "      <td>A</td>\n",
       "      <td>-367</td>\n",
       "      <td>A</td>\n",
       "      <td>-188</td>\n",
       "      <td>A</td>\n",
       "      <td>-407</td>\n",
       "      <td>A</td>\n",
       "    </tr>\n",
       "  </tbody>\n",
       "</table>\n",
       "<p>5 rows × 78 columns</p>\n",
       "</div>"
      ],
      "text/plain": [
       "                      Gene Description Gene Accession Number    1 call    2  \\\n",
       "0  AFFX-BioB-5_at (endogenous control)        AFFX-BioB-5_at -214    A -139   \n",
       "1  AFFX-BioB-M_at (endogenous control)        AFFX-BioB-M_at -153    A  -73   \n",
       "2  AFFX-BioB-3_at (endogenous control)        AFFX-BioB-3_at  -58    A   -1   \n",
       "3  AFFX-BioC-5_at (endogenous control)        AFFX-BioC-5_at   88    A  283   \n",
       "4  AFFX-BioC-3_at (endogenous control)        AFFX-BioC-3_at -295    A -264   \n",
       "\n",
       "  call.1    3 call.2    4 call.3  ...   29 call.33   30 call.34   31 call.35  \\\n",
       "0      A  -76      A -135      A  ...   15       A -318       A  -32       A   \n",
       "1      A  -49      A -114      A  ... -114       A -192       A  -49       A   \n",
       "2      A -307      A  265      A  ...    2       A  -95       A   49       A   \n",
       "3      A  309      A   12      A  ...  193       A  312       A  230       P   \n",
       "4      A -376      A -419      A  ...  -51       A -139       A -367       A   \n",
       "\n",
       "    32 call.36   33 call.37  \n",
       "0 -124       A -135       A  \n",
       "1  -79       A -186       A  \n",
       "2  -37       A  -70       A  \n",
       "3  330       A  337       A  \n",
       "4 -188       A -407       A  \n",
       "\n",
       "[5 rows x 78 columns]"
      ]
     },
     "execution_count": 9,
     "metadata": {},
     "output_type": "execute_result"
    }
   ],
   "source": [
    "train_df.head()"
   ]
  },
  {
   "cell_type": "code",
   "execution_count": 10,
   "id": "6bf8bc5f",
   "metadata": {
    "execution": {
     "iopub.execute_input": "2021-11-29T15:49:18.442033Z",
     "iopub.status.busy": "2021-11-29T15:49:18.439224Z",
     "iopub.status.idle": "2021-11-29T15:49:18.450659Z",
     "shell.execute_reply": "2021-11-29T15:49:18.451280Z",
     "shell.execute_reply.started": "2021-11-28T17:04:33.763379Z"
    },
    "papermill": {
     "duration": 0.045915,
     "end_time": "2021-11-29T15:49:18.451452",
     "exception": false,
     "start_time": "2021-11-29T15:49:18.405537",
     "status": "completed"
    },
    "tags": []
   },
   "outputs": [
    {
     "name": "stdout",
     "output_type": "stream",
     "text": [
      "['Gene Description', 'Gene Accession Number', '1', '2', '3', '4', '5', '6', '7', '8', '9', '10', '11', '12', '13', '14', '15', '16', '17', '18', '19', '20', '21', '22', '23', '24', '25', '26', '27', '34', '35', '36', '37', '38', '28', '29', '30', '31', '32', '33']\n"
     ]
    }
   ],
   "source": [
    "#train_to_keep=[col for col in train_df.columns if \"call\" not in col]\n",
    "train_to_keep = []\n",
    "for col in train_df.columns:\n",
    "    if \"call\" not in col:\n",
    "        train_to_keep.append(col)\n",
    "\n",
    "\n",
    "test_to_keep=[col for col in test_df.columns if \"call\" not in col]\n",
    "print(train_to_keep)\n",
    "\n",
    "X_train = train_df[train_to_keep]\n",
    "X_test = test_df[test_to_keep]\n"
   ]
  },
  {
   "cell_type": "code",
   "execution_count": 11,
   "id": "ac87dd05",
   "metadata": {
    "execution": {
     "iopub.execute_input": "2021-11-29T15:49:18.526567Z",
     "iopub.status.busy": "2021-11-29T15:49:18.525852Z",
     "iopub.status.idle": "2021-11-29T15:49:18.528558Z",
     "shell.execute_reply": "2021-11-29T15:49:18.529087Z",
     "shell.execute_reply.started": "2021-11-28T17:04:33.775613Z"
    },
    "papermill": {
     "duration": 0.040846,
     "end_time": "2021-11-29T15:49:18.529267",
     "exception": false,
     "start_time": "2021-11-29T15:49:18.488421",
     "status": "completed"
    },
    "tags": []
   },
   "outputs": [
    {
     "data": {
      "text/plain": [
       "(7129, 40)"
      ]
     },
     "execution_count": 11,
     "metadata": {},
     "output_type": "execute_result"
    }
   ],
   "source": [
    "X_train.head()\n",
    "X_train.shape"
   ]
  },
  {
   "cell_type": "code",
   "execution_count": 12,
   "id": "821fc58b",
   "metadata": {
    "execution": {
     "iopub.execute_input": "2021-11-29T15:49:18.596910Z",
     "iopub.status.busy": "2021-11-29T15:49:18.596205Z",
     "iopub.status.idle": "2021-11-29T15:49:19.048579Z",
     "shell.execute_reply": "2021-11-29T15:49:19.047888Z",
     "shell.execute_reply.started": "2021-11-28T17:04:33.789310Z"
    },
    "papermill": {
     "duration": 0.486773,
     "end_time": "2021-11-29T15:49:19.048764",
     "exception": false,
     "start_time": "2021-11-29T15:49:18.561991",
     "status": "completed"
    },
    "tags": []
   },
   "outputs": [],
   "source": [
    "X_train = X_train.T\n",
    "X_test = X_test.T"
   ]
  },
  {
   "cell_type": "code",
   "execution_count": 13,
   "id": "53050bbc",
   "metadata": {
    "execution": {
     "iopub.execute_input": "2021-11-29T15:49:19.116318Z",
     "iopub.status.busy": "2021-11-29T15:49:19.115366Z",
     "iopub.status.idle": "2021-11-29T15:49:19.139251Z",
     "shell.execute_reply": "2021-11-29T15:49:19.138567Z",
     "shell.execute_reply.started": "2021-11-28T17:04:34.225229Z"
    },
    "papermill": {
     "duration": 0.05809,
     "end_time": "2021-11-29T15:49:19.139394",
     "exception": false,
     "start_time": "2021-11-29T15:49:19.081304",
     "status": "completed"
    },
    "tags": []
   },
   "outputs": [
    {
     "data": {
      "text/html": [
       "<div>\n",
       "<style scoped>\n",
       "    .dataframe tbody tr th:only-of-type {\n",
       "        vertical-align: middle;\n",
       "    }\n",
       "\n",
       "    .dataframe tbody tr th {\n",
       "        vertical-align: top;\n",
       "    }\n",
       "\n",
       "    .dataframe thead th {\n",
       "        text-align: right;\n",
       "    }\n",
       "</style>\n",
       "<table border=\"1\" class=\"dataframe\">\n",
       "  <thead>\n",
       "    <tr style=\"text-align: right;\">\n",
       "      <th></th>\n",
       "      <th>0</th>\n",
       "      <th>1</th>\n",
       "      <th>2</th>\n",
       "      <th>3</th>\n",
       "      <th>4</th>\n",
       "      <th>5</th>\n",
       "      <th>6</th>\n",
       "      <th>7</th>\n",
       "      <th>8</th>\n",
       "      <th>9</th>\n",
       "      <th>...</th>\n",
       "      <th>7119</th>\n",
       "      <th>7120</th>\n",
       "      <th>7121</th>\n",
       "      <th>7122</th>\n",
       "      <th>7123</th>\n",
       "      <th>7124</th>\n",
       "      <th>7125</th>\n",
       "      <th>7126</th>\n",
       "      <th>7127</th>\n",
       "      <th>7128</th>\n",
       "    </tr>\n",
       "  </thead>\n",
       "  <tbody>\n",
       "    <tr>\n",
       "      <th>Gene Description</th>\n",
       "      <td>AFFX-BioB-5_at (endogenous control)</td>\n",
       "      <td>AFFX-BioB-M_at (endogenous control)</td>\n",
       "      <td>AFFX-BioB-3_at (endogenous control)</td>\n",
       "      <td>AFFX-BioC-5_at (endogenous control)</td>\n",
       "      <td>AFFX-BioC-3_at (endogenous control)</td>\n",
       "      <td>AFFX-BioDn-5_at (endogenous control)</td>\n",
       "      <td>AFFX-BioDn-3_at (endogenous control)</td>\n",
       "      <td>AFFX-CreX-5_at (endogenous control)</td>\n",
       "      <td>AFFX-CreX-3_at (endogenous control)</td>\n",
       "      <td>AFFX-BioB-5_st (endogenous control)</td>\n",
       "      <td>...</td>\n",
       "      <td>Transcription factor Stat5b (stat5b) mRNA</td>\n",
       "      <td>Breast epithelial antigen BA46 mRNA</td>\n",
       "      <td>GB DEF = Calcium/calmodulin-dependent protein ...</td>\n",
       "      <td>TUBULIN ALPHA-4 CHAIN</td>\n",
       "      <td>CYP4B1 Cytochrome P450; subfamily IVB; polypep...</td>\n",
       "      <td>PTGER3 Prostaglandin E receptor 3 (subtype EP3...</td>\n",
       "      <td>HMG2 High-mobility group (nonhistone chromosom...</td>\n",
       "      <td>RB1 Retinoblastoma 1 (including osteosarcoma)</td>\n",
       "      <td>GB DEF = Glycophorin Sta (type A) exons 3 and ...</td>\n",
       "      <td>GB DEF = mRNA (clone 1A7)</td>\n",
       "    </tr>\n",
       "    <tr>\n",
       "      <th>Gene Accession Number</th>\n",
       "      <td>AFFX-BioB-5_at</td>\n",
       "      <td>AFFX-BioB-M_at</td>\n",
       "      <td>AFFX-BioB-3_at</td>\n",
       "      <td>AFFX-BioC-5_at</td>\n",
       "      <td>AFFX-BioC-3_at</td>\n",
       "      <td>AFFX-BioDn-5_at</td>\n",
       "      <td>AFFX-BioDn-3_at</td>\n",
       "      <td>AFFX-CreX-5_at</td>\n",
       "      <td>AFFX-CreX-3_at</td>\n",
       "      <td>AFFX-BioB-5_st</td>\n",
       "      <td>...</td>\n",
       "      <td>U48730_at</td>\n",
       "      <td>U58516_at</td>\n",
       "      <td>U73738_at</td>\n",
       "      <td>X06956_at</td>\n",
       "      <td>X16699_at</td>\n",
       "      <td>X83863_at</td>\n",
       "      <td>Z17240_at</td>\n",
       "      <td>L49218_f_at</td>\n",
       "      <td>M71243_f_at</td>\n",
       "      <td>Z78285_f_at</td>\n",
       "    </tr>\n",
       "    <tr>\n",
       "      <th>1</th>\n",
       "      <td>-214</td>\n",
       "      <td>-153</td>\n",
       "      <td>-58</td>\n",
       "      <td>88</td>\n",
       "      <td>-295</td>\n",
       "      <td>-558</td>\n",
       "      <td>199</td>\n",
       "      <td>-176</td>\n",
       "      <td>252</td>\n",
       "      <td>206</td>\n",
       "      <td>...</td>\n",
       "      <td>185</td>\n",
       "      <td>511</td>\n",
       "      <td>-125</td>\n",
       "      <td>389</td>\n",
       "      <td>-37</td>\n",
       "      <td>793</td>\n",
       "      <td>329</td>\n",
       "      <td>36</td>\n",
       "      <td>191</td>\n",
       "      <td>-37</td>\n",
       "    </tr>\n",
       "    <tr>\n",
       "      <th>2</th>\n",
       "      <td>-139</td>\n",
       "      <td>-73</td>\n",
       "      <td>-1</td>\n",
       "      <td>283</td>\n",
       "      <td>-264</td>\n",
       "      <td>-400</td>\n",
       "      <td>-330</td>\n",
       "      <td>-168</td>\n",
       "      <td>101</td>\n",
       "      <td>74</td>\n",
       "      <td>...</td>\n",
       "      <td>169</td>\n",
       "      <td>837</td>\n",
       "      <td>-36</td>\n",
       "      <td>442</td>\n",
       "      <td>-17</td>\n",
       "      <td>782</td>\n",
       "      <td>295</td>\n",
       "      <td>11</td>\n",
       "      <td>76</td>\n",
       "      <td>-14</td>\n",
       "    </tr>\n",
       "    <tr>\n",
       "      <th>3</th>\n",
       "      <td>-76</td>\n",
       "      <td>-49</td>\n",
       "      <td>-307</td>\n",
       "      <td>309</td>\n",
       "      <td>-376</td>\n",
       "      <td>-650</td>\n",
       "      <td>33</td>\n",
       "      <td>-367</td>\n",
       "      <td>206</td>\n",
       "      <td>-215</td>\n",
       "      <td>...</td>\n",
       "      <td>315</td>\n",
       "      <td>1199</td>\n",
       "      <td>33</td>\n",
       "      <td>168</td>\n",
       "      <td>52</td>\n",
       "      <td>1138</td>\n",
       "      <td>777</td>\n",
       "      <td>41</td>\n",
       "      <td>228</td>\n",
       "      <td>-41</td>\n",
       "    </tr>\n",
       "  </tbody>\n",
       "</table>\n",
       "<p>5 rows × 7129 columns</p>\n",
       "</div>"
      ],
      "text/plain": [
       "                                                      0     \\\n",
       "Gene Description       AFFX-BioB-5_at (endogenous control)   \n",
       "Gene Accession Number                       AFFX-BioB-5_at   \n",
       "1                                                     -214   \n",
       "2                                                     -139   \n",
       "3                                                      -76   \n",
       "\n",
       "                                                      1     \\\n",
       "Gene Description       AFFX-BioB-M_at (endogenous control)   \n",
       "Gene Accession Number                       AFFX-BioB-M_at   \n",
       "1                                                     -153   \n",
       "2                                                      -73   \n",
       "3                                                      -49   \n",
       "\n",
       "                                                      2     \\\n",
       "Gene Description       AFFX-BioB-3_at (endogenous control)   \n",
       "Gene Accession Number                       AFFX-BioB-3_at   \n",
       "1                                                      -58   \n",
       "2                                                       -1   \n",
       "3                                                     -307   \n",
       "\n",
       "                                                      3     \\\n",
       "Gene Description       AFFX-BioC-5_at (endogenous control)   \n",
       "Gene Accession Number                       AFFX-BioC-5_at   \n",
       "1                                                       88   \n",
       "2                                                      283   \n",
       "3                                                      309   \n",
       "\n",
       "                                                      4     \\\n",
       "Gene Description       AFFX-BioC-3_at (endogenous control)   \n",
       "Gene Accession Number                       AFFX-BioC-3_at   \n",
       "1                                                     -295   \n",
       "2                                                     -264   \n",
       "3                                                     -376   \n",
       "\n",
       "                                                       5     \\\n",
       "Gene Description       AFFX-BioDn-5_at (endogenous control)   \n",
       "Gene Accession Number                       AFFX-BioDn-5_at   \n",
       "1                                                      -558   \n",
       "2                                                      -400   \n",
       "3                                                      -650   \n",
       "\n",
       "                                                       6     \\\n",
       "Gene Description       AFFX-BioDn-3_at (endogenous control)   \n",
       "Gene Accession Number                       AFFX-BioDn-3_at   \n",
       "1                                                       199   \n",
       "2                                                      -330   \n",
       "3                                                        33   \n",
       "\n",
       "                                                      7     \\\n",
       "Gene Description       AFFX-CreX-5_at (endogenous control)   \n",
       "Gene Accession Number                       AFFX-CreX-5_at   \n",
       "1                                                     -176   \n",
       "2                                                     -168   \n",
       "3                                                     -367   \n",
       "\n",
       "                                                      8     \\\n",
       "Gene Description       AFFX-CreX-3_at (endogenous control)   \n",
       "Gene Accession Number                       AFFX-CreX-3_at   \n",
       "1                                                      252   \n",
       "2                                                      101   \n",
       "3                                                      206   \n",
       "\n",
       "                                                      9     ...  \\\n",
       "Gene Description       AFFX-BioB-5_st (endogenous control)  ...   \n",
       "Gene Accession Number                       AFFX-BioB-5_st  ...   \n",
       "1                                                      206  ...   \n",
       "2                                                       74  ...   \n",
       "3                                                     -215  ...   \n",
       "\n",
       "                                                            7119  \\\n",
       "Gene Description       Transcription factor Stat5b (stat5b) mRNA   \n",
       "Gene Accession Number                                  U48730_at   \n",
       "1                                                            185   \n",
       "2                                                            169   \n",
       "3                                                            315   \n",
       "\n",
       "                                                      7120  \\\n",
       "Gene Description       Breast epithelial antigen BA46 mRNA   \n",
       "Gene Accession Number                            U58516_at   \n",
       "1                                                      511   \n",
       "2                                                      837   \n",
       "3                                                     1199   \n",
       "\n",
       "                                                                    7121  \\\n",
       "Gene Description       GB DEF = Calcium/calmodulin-dependent protein ...   \n",
       "Gene Accession Number                                          U73738_at   \n",
       "1                                                                   -125   \n",
       "2                                                                    -36   \n",
       "3                                                                     33   \n",
       "\n",
       "                                        7122  \\\n",
       "Gene Description       TUBULIN ALPHA-4 CHAIN   \n",
       "Gene Accession Number              X06956_at   \n",
       "1                                        389   \n",
       "2                                        442   \n",
       "3                                        168   \n",
       "\n",
       "                                                                    7123  \\\n",
       "Gene Description       CYP4B1 Cytochrome P450; subfamily IVB; polypep...   \n",
       "Gene Accession Number                                          X16699_at   \n",
       "1                                                                    -37   \n",
       "2                                                                    -17   \n",
       "3                                                                     52   \n",
       "\n",
       "                                                                    7124  \\\n",
       "Gene Description       PTGER3 Prostaglandin E receptor 3 (subtype EP3...   \n",
       "Gene Accession Number                                          X83863_at   \n",
       "1                                                                    793   \n",
       "2                                                                    782   \n",
       "3                                                                   1138   \n",
       "\n",
       "                                                                    7125  \\\n",
       "Gene Description       HMG2 High-mobility group (nonhistone chromosom...   \n",
       "Gene Accession Number                                          Z17240_at   \n",
       "1                                                                    329   \n",
       "2                                                                    295   \n",
       "3                                                                    777   \n",
       "\n",
       "                                                                7126  \\\n",
       "Gene Description       RB1 Retinoblastoma 1 (including osteosarcoma)   \n",
       "Gene Accession Number                                    L49218_f_at   \n",
       "1                                                                 36   \n",
       "2                                                                 11   \n",
       "3                                                                 41   \n",
       "\n",
       "                                                                    7127  \\\n",
       "Gene Description       GB DEF = Glycophorin Sta (type A) exons 3 and ...   \n",
       "Gene Accession Number                                        M71243_f_at   \n",
       "1                                                                    191   \n",
       "2                                                                     76   \n",
       "3                                                                    228   \n",
       "\n",
       "                                            7128  \n",
       "Gene Description       GB DEF = mRNA (clone 1A7)  \n",
       "Gene Accession Number                Z78285_f_at  \n",
       "1                                            -37  \n",
       "2                                            -14  \n",
       "3                                            -41  \n",
       "\n",
       "[5 rows x 7129 columns]"
      ]
     },
     "execution_count": 13,
     "metadata": {},
     "output_type": "execute_result"
    }
   ],
   "source": [
    "X_train.head()\n"
   ]
  },
  {
   "cell_type": "code",
   "execution_count": 14,
   "id": "1bdfb7b5",
   "metadata": {
    "execution": {
     "iopub.execute_input": "2021-11-29T15:49:19.212905Z",
     "iopub.status.busy": "2021-11-29T15:49:19.212235Z",
     "iopub.status.idle": "2021-11-29T15:49:19.228825Z",
     "shell.execute_reply": "2021-11-29T15:49:19.228240Z",
     "shell.execute_reply.started": "2021-11-28T17:04:34.256090Z"
    },
    "papermill": {
     "duration": 0.057162,
     "end_time": "2021-11-29T15:49:19.228978",
     "exception": false,
     "start_time": "2021-11-29T15:49:19.171816",
     "status": "completed"
    },
    "tags": []
   },
   "outputs": [],
   "source": [
    "X_train.columns = X_train.iloc[1]\n",
    "X_test.columns = X_test.iloc[1]\n",
    "\n",
    "X_train = X_train.drop(['Gene Description', 'Gene Accession Number'])\n",
    "X_test = X_test.drop(['Gene Description', 'Gene Accession Number'])"
   ]
  },
  {
   "cell_type": "code",
   "execution_count": 15,
   "id": "debefebf",
   "metadata": {
    "execution": {
     "iopub.execute_input": "2021-11-29T15:49:19.302226Z",
     "iopub.status.busy": "2021-11-29T15:49:19.301162Z",
     "iopub.status.idle": "2021-11-29T15:49:19.321746Z",
     "shell.execute_reply": "2021-11-29T15:49:19.322356Z",
     "shell.execute_reply.started": "2021-11-28T17:04:34.274899Z"
    },
    "papermill": {
     "duration": 0.061313,
     "end_time": "2021-11-29T15:49:19.322526",
     "exception": false,
     "start_time": "2021-11-29T15:49:19.261213",
     "status": "completed"
    },
    "tags": []
   },
   "outputs": [
    {
     "data": {
      "text/html": [
       "<div>\n",
       "<style scoped>\n",
       "    .dataframe tbody tr th:only-of-type {\n",
       "        vertical-align: middle;\n",
       "    }\n",
       "\n",
       "    .dataframe tbody tr th {\n",
       "        vertical-align: top;\n",
       "    }\n",
       "\n",
       "    .dataframe thead th {\n",
       "        text-align: right;\n",
       "    }\n",
       "</style>\n",
       "<table border=\"1\" class=\"dataframe\">\n",
       "  <thead>\n",
       "    <tr style=\"text-align: right;\">\n",
       "      <th>Gene Accession Number</th>\n",
       "      <th>AFFX-BioB-5_at</th>\n",
       "      <th>AFFX-BioB-M_at</th>\n",
       "      <th>AFFX-BioB-3_at</th>\n",
       "      <th>AFFX-BioC-5_at</th>\n",
       "      <th>AFFX-BioC-3_at</th>\n",
       "      <th>AFFX-BioDn-5_at</th>\n",
       "      <th>AFFX-BioDn-3_at</th>\n",
       "      <th>AFFX-CreX-5_at</th>\n",
       "      <th>AFFX-CreX-3_at</th>\n",
       "      <th>AFFX-BioB-5_st</th>\n",
       "      <th>...</th>\n",
       "      <th>U48730_at</th>\n",
       "      <th>U58516_at</th>\n",
       "      <th>U73738_at</th>\n",
       "      <th>X06956_at</th>\n",
       "      <th>X16699_at</th>\n",
       "      <th>X83863_at</th>\n",
       "      <th>Z17240_at</th>\n",
       "      <th>L49218_f_at</th>\n",
       "      <th>M71243_f_at</th>\n",
       "      <th>Z78285_f_at</th>\n",
       "    </tr>\n",
       "  </thead>\n",
       "  <tbody>\n",
       "    <tr>\n",
       "      <th>1</th>\n",
       "      <td>-214</td>\n",
       "      <td>-153</td>\n",
       "      <td>-58</td>\n",
       "      <td>88</td>\n",
       "      <td>-295</td>\n",
       "      <td>-558</td>\n",
       "      <td>199</td>\n",
       "      <td>-176</td>\n",
       "      <td>252</td>\n",
       "      <td>206</td>\n",
       "      <td>...</td>\n",
       "      <td>185</td>\n",
       "      <td>511</td>\n",
       "      <td>-125</td>\n",
       "      <td>389</td>\n",
       "      <td>-37</td>\n",
       "      <td>793</td>\n",
       "      <td>329</td>\n",
       "      <td>36</td>\n",
       "      <td>191</td>\n",
       "      <td>-37</td>\n",
       "    </tr>\n",
       "    <tr>\n",
       "      <th>2</th>\n",
       "      <td>-139</td>\n",
       "      <td>-73</td>\n",
       "      <td>-1</td>\n",
       "      <td>283</td>\n",
       "      <td>-264</td>\n",
       "      <td>-400</td>\n",
       "      <td>-330</td>\n",
       "      <td>-168</td>\n",
       "      <td>101</td>\n",
       "      <td>74</td>\n",
       "      <td>...</td>\n",
       "      <td>169</td>\n",
       "      <td>837</td>\n",
       "      <td>-36</td>\n",
       "      <td>442</td>\n",
       "      <td>-17</td>\n",
       "      <td>782</td>\n",
       "      <td>295</td>\n",
       "      <td>11</td>\n",
       "      <td>76</td>\n",
       "      <td>-14</td>\n",
       "    </tr>\n",
       "    <tr>\n",
       "      <th>3</th>\n",
       "      <td>-76</td>\n",
       "      <td>-49</td>\n",
       "      <td>-307</td>\n",
       "      <td>309</td>\n",
       "      <td>-376</td>\n",
       "      <td>-650</td>\n",
       "      <td>33</td>\n",
       "      <td>-367</td>\n",
       "      <td>206</td>\n",
       "      <td>-215</td>\n",
       "      <td>...</td>\n",
       "      <td>315</td>\n",
       "      <td>1199</td>\n",
       "      <td>33</td>\n",
       "      <td>168</td>\n",
       "      <td>52</td>\n",
       "      <td>1138</td>\n",
       "      <td>777</td>\n",
       "      <td>41</td>\n",
       "      <td>228</td>\n",
       "      <td>-41</td>\n",
       "    </tr>\n",
       "    <tr>\n",
       "      <th>4</th>\n",
       "      <td>-135</td>\n",
       "      <td>-114</td>\n",
       "      <td>265</td>\n",
       "      <td>12</td>\n",
       "      <td>-419</td>\n",
       "      <td>-585</td>\n",
       "      <td>158</td>\n",
       "      <td>-253</td>\n",
       "      <td>49</td>\n",
       "      <td>31</td>\n",
       "      <td>...</td>\n",
       "      <td>240</td>\n",
       "      <td>835</td>\n",
       "      <td>218</td>\n",
       "      <td>174</td>\n",
       "      <td>-110</td>\n",
       "      <td>627</td>\n",
       "      <td>170</td>\n",
       "      <td>-50</td>\n",
       "      <td>126</td>\n",
       "      <td>-91</td>\n",
       "    </tr>\n",
       "    <tr>\n",
       "      <th>5</th>\n",
       "      <td>-106</td>\n",
       "      <td>-125</td>\n",
       "      <td>-76</td>\n",
       "      <td>168</td>\n",
       "      <td>-230</td>\n",
       "      <td>-284</td>\n",
       "      <td>4</td>\n",
       "      <td>-122</td>\n",
       "      <td>70</td>\n",
       "      <td>252</td>\n",
       "      <td>...</td>\n",
       "      <td>156</td>\n",
       "      <td>649</td>\n",
       "      <td>57</td>\n",
       "      <td>504</td>\n",
       "      <td>-26</td>\n",
       "      <td>250</td>\n",
       "      <td>314</td>\n",
       "      <td>14</td>\n",
       "      <td>56</td>\n",
       "      <td>-25</td>\n",
       "    </tr>\n",
       "  </tbody>\n",
       "</table>\n",
       "<p>5 rows × 7129 columns</p>\n",
       "</div>"
      ],
      "text/plain": [
       "Gene Accession Number AFFX-BioB-5_at AFFX-BioB-M_at AFFX-BioB-3_at  \\\n",
       "1                               -214           -153            -58   \n",
       "2                               -139            -73             -1   \n",
       "3                                -76            -49           -307   \n",
       "4                               -135           -114            265   \n",
       "5                               -106           -125            -76   \n",
       "\n",
       "Gene Accession Number AFFX-BioC-5_at AFFX-BioC-3_at AFFX-BioDn-5_at  \\\n",
       "1                                 88           -295            -558   \n",
       "2                                283           -264            -400   \n",
       "3                                309           -376            -650   \n",
       "4                                 12           -419            -585   \n",
       "5                                168           -230            -284   \n",
       "\n",
       "Gene Accession Number AFFX-BioDn-3_at AFFX-CreX-5_at AFFX-CreX-3_at  \\\n",
       "1                                 199           -176            252   \n",
       "2                                -330           -168            101   \n",
       "3                                  33           -367            206   \n",
       "4                                 158           -253             49   \n",
       "5                                   4           -122             70   \n",
       "\n",
       "Gene Accession Number AFFX-BioB-5_st  ... U48730_at U58516_at U73738_at  \\\n",
       "1                                206  ...       185       511      -125   \n",
       "2                                 74  ...       169       837       -36   \n",
       "3                               -215  ...       315      1199        33   \n",
       "4                                 31  ...       240       835       218   \n",
       "5                                252  ...       156       649        57   \n",
       "\n",
       "Gene Accession Number X06956_at X16699_at X83863_at Z17240_at L49218_f_at  \\\n",
       "1                           389       -37       793       329          36   \n",
       "2                           442       -17       782       295          11   \n",
       "3                           168        52      1138       777          41   \n",
       "4                           174      -110       627       170         -50   \n",
       "5                           504       -26       250       314          14   \n",
       "\n",
       "Gene Accession Number M71243_f_at Z78285_f_at  \n",
       "1                             191         -37  \n",
       "2                              76         -14  \n",
       "3                             228         -41  \n",
       "4                             126         -91  \n",
       "5                              56         -25  \n",
       "\n",
       "[5 rows x 7129 columns]"
      ]
     },
     "execution_count": 15,
     "metadata": {},
     "output_type": "execute_result"
    }
   ],
   "source": [
    "X_train.head()"
   ]
  },
  {
   "cell_type": "code",
   "execution_count": 16,
   "id": "b8ce0d46",
   "metadata": {
    "execution": {
     "iopub.execute_input": "2021-11-29T15:49:19.392546Z",
     "iopub.status.busy": "2021-11-29T15:49:19.391563Z",
     "iopub.status.idle": "2021-11-29T15:49:19.417244Z",
     "shell.execute_reply": "2021-11-29T15:49:19.416569Z",
     "shell.execute_reply.started": "2021-11-28T17:04:34.306065Z"
    },
    "papermill": {
     "duration": 0.061545,
     "end_time": "2021-11-29T15:49:19.417388",
     "exception": false,
     "start_time": "2021-11-29T15:49:19.355843",
     "status": "completed"
    },
    "tags": []
   },
   "outputs": [],
   "source": [
    "X_train.index = X_train.index.astype(int)\n",
    "X_train.sort_index(inplace=True)\n",
    "\n",
    "X_test.index = X_test.index.astype(int)\n",
    "X_test.sort_index(inplace=True)"
   ]
  },
  {
   "cell_type": "code",
   "execution_count": 17,
   "id": "c4e5c36f",
   "metadata": {
    "execution": {
     "iopub.execute_input": "2021-11-29T15:49:19.487184Z",
     "iopub.status.busy": "2021-11-29T15:49:19.486507Z",
     "iopub.status.idle": "2021-11-29T15:49:19.508815Z",
     "shell.execute_reply": "2021-11-29T15:49:19.509328Z",
     "shell.execute_reply.started": "2021-11-28T17:04:34.327469Z"
    },
    "papermill": {
     "duration": 0.058946,
     "end_time": "2021-11-29T15:49:19.509532",
     "exception": false,
     "start_time": "2021-11-29T15:49:19.450586",
     "status": "completed"
    },
    "tags": []
   },
   "outputs": [
    {
     "data": {
      "text/html": [
       "<div>\n",
       "<style scoped>\n",
       "    .dataframe tbody tr th:only-of-type {\n",
       "        vertical-align: middle;\n",
       "    }\n",
       "\n",
       "    .dataframe tbody tr th {\n",
       "        vertical-align: top;\n",
       "    }\n",
       "\n",
       "    .dataframe thead th {\n",
       "        text-align: right;\n",
       "    }\n",
       "</style>\n",
       "<table border=\"1\" class=\"dataframe\">\n",
       "  <thead>\n",
       "    <tr style=\"text-align: right;\">\n",
       "      <th>Gene Accession Number</th>\n",
       "      <th>AFFX-BioB-5_at</th>\n",
       "      <th>AFFX-BioB-M_at</th>\n",
       "      <th>AFFX-BioB-3_at</th>\n",
       "      <th>AFFX-BioC-5_at</th>\n",
       "      <th>AFFX-BioC-3_at</th>\n",
       "      <th>AFFX-BioDn-5_at</th>\n",
       "      <th>AFFX-BioDn-3_at</th>\n",
       "      <th>AFFX-CreX-5_at</th>\n",
       "      <th>AFFX-CreX-3_at</th>\n",
       "      <th>AFFX-BioB-5_st</th>\n",
       "      <th>...</th>\n",
       "      <th>U48730_at</th>\n",
       "      <th>U58516_at</th>\n",
       "      <th>U73738_at</th>\n",
       "      <th>X06956_at</th>\n",
       "      <th>X16699_at</th>\n",
       "      <th>X83863_at</th>\n",
       "      <th>Z17240_at</th>\n",
       "      <th>L49218_f_at</th>\n",
       "      <th>M71243_f_at</th>\n",
       "      <th>Z78285_f_at</th>\n",
       "    </tr>\n",
       "  </thead>\n",
       "  <tbody>\n",
       "    <tr>\n",
       "      <th>1</th>\n",
       "      <td>-214</td>\n",
       "      <td>-153</td>\n",
       "      <td>-58</td>\n",
       "      <td>88</td>\n",
       "      <td>-295</td>\n",
       "      <td>-558</td>\n",
       "      <td>199</td>\n",
       "      <td>-176</td>\n",
       "      <td>252</td>\n",
       "      <td>206</td>\n",
       "      <td>...</td>\n",
       "      <td>185</td>\n",
       "      <td>511</td>\n",
       "      <td>-125</td>\n",
       "      <td>389</td>\n",
       "      <td>-37</td>\n",
       "      <td>793</td>\n",
       "      <td>329</td>\n",
       "      <td>36</td>\n",
       "      <td>191</td>\n",
       "      <td>-37</td>\n",
       "    </tr>\n",
       "    <tr>\n",
       "      <th>2</th>\n",
       "      <td>-139</td>\n",
       "      <td>-73</td>\n",
       "      <td>-1</td>\n",
       "      <td>283</td>\n",
       "      <td>-264</td>\n",
       "      <td>-400</td>\n",
       "      <td>-330</td>\n",
       "      <td>-168</td>\n",
       "      <td>101</td>\n",
       "      <td>74</td>\n",
       "      <td>...</td>\n",
       "      <td>169</td>\n",
       "      <td>837</td>\n",
       "      <td>-36</td>\n",
       "      <td>442</td>\n",
       "      <td>-17</td>\n",
       "      <td>782</td>\n",
       "      <td>295</td>\n",
       "      <td>11</td>\n",
       "      <td>76</td>\n",
       "      <td>-14</td>\n",
       "    </tr>\n",
       "    <tr>\n",
       "      <th>3</th>\n",
       "      <td>-76</td>\n",
       "      <td>-49</td>\n",
       "      <td>-307</td>\n",
       "      <td>309</td>\n",
       "      <td>-376</td>\n",
       "      <td>-650</td>\n",
       "      <td>33</td>\n",
       "      <td>-367</td>\n",
       "      <td>206</td>\n",
       "      <td>-215</td>\n",
       "      <td>...</td>\n",
       "      <td>315</td>\n",
       "      <td>1199</td>\n",
       "      <td>33</td>\n",
       "      <td>168</td>\n",
       "      <td>52</td>\n",
       "      <td>1138</td>\n",
       "      <td>777</td>\n",
       "      <td>41</td>\n",
       "      <td>228</td>\n",
       "      <td>-41</td>\n",
       "    </tr>\n",
       "    <tr>\n",
       "      <th>4</th>\n",
       "      <td>-135</td>\n",
       "      <td>-114</td>\n",
       "      <td>265</td>\n",
       "      <td>12</td>\n",
       "      <td>-419</td>\n",
       "      <td>-585</td>\n",
       "      <td>158</td>\n",
       "      <td>-253</td>\n",
       "      <td>49</td>\n",
       "      <td>31</td>\n",
       "      <td>...</td>\n",
       "      <td>240</td>\n",
       "      <td>835</td>\n",
       "      <td>218</td>\n",
       "      <td>174</td>\n",
       "      <td>-110</td>\n",
       "      <td>627</td>\n",
       "      <td>170</td>\n",
       "      <td>-50</td>\n",
       "      <td>126</td>\n",
       "      <td>-91</td>\n",
       "    </tr>\n",
       "    <tr>\n",
       "      <th>5</th>\n",
       "      <td>-106</td>\n",
       "      <td>-125</td>\n",
       "      <td>-76</td>\n",
       "      <td>168</td>\n",
       "      <td>-230</td>\n",
       "      <td>-284</td>\n",
       "      <td>4</td>\n",
       "      <td>-122</td>\n",
       "      <td>70</td>\n",
       "      <td>252</td>\n",
       "      <td>...</td>\n",
       "      <td>156</td>\n",
       "      <td>649</td>\n",
       "      <td>57</td>\n",
       "      <td>504</td>\n",
       "      <td>-26</td>\n",
       "      <td>250</td>\n",
       "      <td>314</td>\n",
       "      <td>14</td>\n",
       "      <td>56</td>\n",
       "      <td>-25</td>\n",
       "    </tr>\n",
       "  </tbody>\n",
       "</table>\n",
       "<p>5 rows × 7129 columns</p>\n",
       "</div>"
      ],
      "text/plain": [
       "Gene Accession Number AFFX-BioB-5_at AFFX-BioB-M_at AFFX-BioB-3_at  \\\n",
       "1                               -214           -153            -58   \n",
       "2                               -139            -73             -1   \n",
       "3                                -76            -49           -307   \n",
       "4                               -135           -114            265   \n",
       "5                               -106           -125            -76   \n",
       "\n",
       "Gene Accession Number AFFX-BioC-5_at AFFX-BioC-3_at AFFX-BioDn-5_at  \\\n",
       "1                                 88           -295            -558   \n",
       "2                                283           -264            -400   \n",
       "3                                309           -376            -650   \n",
       "4                                 12           -419            -585   \n",
       "5                                168           -230            -284   \n",
       "\n",
       "Gene Accession Number AFFX-BioDn-3_at AFFX-CreX-5_at AFFX-CreX-3_at  \\\n",
       "1                                 199           -176            252   \n",
       "2                                -330           -168            101   \n",
       "3                                  33           -367            206   \n",
       "4                                 158           -253             49   \n",
       "5                                   4           -122             70   \n",
       "\n",
       "Gene Accession Number AFFX-BioB-5_st  ... U48730_at U58516_at U73738_at  \\\n",
       "1                                206  ...       185       511      -125   \n",
       "2                                 74  ...       169       837       -36   \n",
       "3                               -215  ...       315      1199        33   \n",
       "4                                 31  ...       240       835       218   \n",
       "5                                252  ...       156       649        57   \n",
       "\n",
       "Gene Accession Number X06956_at X16699_at X83863_at Z17240_at L49218_f_at  \\\n",
       "1                           389       -37       793       329          36   \n",
       "2                           442       -17       782       295          11   \n",
       "3                           168        52      1138       777          41   \n",
       "4                           174      -110       627       170         -50   \n",
       "5                           504       -26       250       314          14   \n",
       "\n",
       "Gene Accession Number M71243_f_at Z78285_f_at  \n",
       "1                             191         -37  \n",
       "2                              76         -14  \n",
       "3                             228         -41  \n",
       "4                             126         -91  \n",
       "5                              56         -25  \n",
       "\n",
       "[5 rows x 7129 columns]"
      ]
     },
     "execution_count": 17,
     "metadata": {},
     "output_type": "execute_result"
    }
   ],
   "source": [
    "X_train.head()"
   ]
  },
  {
   "cell_type": "code",
   "execution_count": 18,
   "id": "5086dc9e",
   "metadata": {
    "execution": {
     "iopub.execute_input": "2021-11-29T15:49:19.583375Z",
     "iopub.status.busy": "2021-11-29T15:49:19.582698Z",
     "iopub.status.idle": "2021-11-29T15:49:19.583999Z",
     "shell.execute_reply": "2021-11-29T15:49:19.584587Z",
     "shell.execute_reply.started": "2021-11-28T17:04:34.354766Z"
    },
    "papermill": {
     "duration": 0.041045,
     "end_time": "2021-11-29T15:49:19.584772",
     "exception": false,
     "start_time": "2021-11-29T15:49:19.543727",
     "status": "completed"
    },
    "tags": []
   },
   "outputs": [],
   "source": [
    "y_train = y['cancer'][:38]\n",
    "y_test = y['cancer'][38:]"
   ]
  },
  {
   "cell_type": "code",
   "execution_count": 19,
   "id": "00360ac4",
   "metadata": {
    "execution": {
     "iopub.execute_input": "2021-11-29T15:49:19.655870Z",
     "iopub.status.busy": "2021-11-29T15:49:19.655164Z",
     "iopub.status.idle": "2021-11-29T15:49:19.866777Z",
     "shell.execute_reply": "2021-11-29T15:49:19.865503Z",
     "shell.execute_reply.started": "2021-11-28T17:04:34.360054Z"
    },
    "papermill": {
     "duration": 0.248472,
     "end_time": "2021-11-29T15:49:19.866931",
     "exception": false,
     "start_time": "2021-11-29T15:49:19.618459",
     "status": "completed"
    },
    "tags": []
   },
   "outputs": [],
   "source": [
    "scaler = StandardScaler()\n",
    "X_train_scaled = scaler.fit_transform(X_train)\n",
    "X_test_scaled = scaler.transform(X_test)"
   ]
  },
  {
   "cell_type": "code",
   "execution_count": 20,
   "id": "66273503",
   "metadata": {
    "execution": {
     "iopub.execute_input": "2021-11-29T15:49:19.958191Z",
     "iopub.status.busy": "2021-11-29T15:49:19.957348Z",
     "iopub.status.idle": "2021-11-29T15:49:23.112735Z",
     "shell.execute_reply": "2021-11-29T15:49:23.112089Z",
     "shell.execute_reply.started": "2021-11-28T17:04:34.567577Z"
    },
    "papermill": {
     "duration": 3.211648,
     "end_time": "2021-11-29T15:49:23.112877",
     "exception": false,
     "start_time": "2021-11-29T15:49:19.901229",
     "status": "completed"
    },
    "tags": []
   },
   "outputs": [
    {
     "name": "stderr",
     "output_type": "stream",
     "text": [
      "/opt/conda/lib/python3.7/site-packages/seaborn/distributions.py:2619: FutureWarning: `distplot` is a deprecated function and will be removed in a future version. Please adapt your code to use either `displot` (a figure-level function with similar flexibility) or `histplot` (an axes-level function for histograms).\n",
      "  warnings.warn(msg, FutureWarning)\n",
      "/opt/conda/lib/python3.7/site-packages/seaborn/distributions.py:2619: FutureWarning: `distplot` is a deprecated function and will be removed in a future version. Please adapt your code to use either `displot` (a figure-level function with similar flexibility) or `histplot` (an axes-level function for histograms).\n",
      "  warnings.warn(msg, FutureWarning)\n"
     ]
    },
    {
     "data": {
      "image/png": "[encoded data removed]",
      "text/plain": [
       "<Figure size 1080x360 with 2 Axes>"
      ]
     },
     "metadata": {
      "needs_background": "light"
     },
     "output_type": "display_data"
    }
   ],
   "source": [
    "fig, ax = plt.subplots(ncols=2, figsize=(15,5))\n",
    "sns.distplot(np.concatenate(X_train.values), ax=ax[0]).set_title('Original Data')\n",
    "sns.distplot(np.concatenate(X_train_scaled), ax=ax[1]).set_title('Scaled Data')\n",
    "plt.tight_layout\n",
    "plt.show()"
   ]
  },
  {
   "cell_type": "code",
   "execution_count": 21,
   "id": "d125bec9",
   "metadata": {
    "execution": {
     "iopub.execute_input": "2021-11-29T15:49:23.191543Z",
     "iopub.status.busy": "2021-11-29T15:49:23.190825Z",
     "iopub.status.idle": "2021-11-29T15:49:23.237684Z",
     "shell.execute_reply": "2021-11-29T15:49:23.239209Z",
     "shell.execute_reply.started": "2021-11-28T17:04:37.651177Z"
    },
    "papermill": {
     "duration": 0.090929,
     "end_time": "2021-11-29T15:49:23.239501",
     "exception": false,
     "start_time": "2021-11-29T15:49:23.148572",
     "status": "completed"
    },
    "tags": []
   },
   "outputs": [
    {
     "name": "stdout",
     "output_type": "stream",
     "text": [
      "(38, 32)\n",
      "(34, 32)\n"
     ]
    }
   ],
   "source": [
    "pca = PCA(n_components = 0.95)\n",
    "X_train_pca = pca.fit_transform(X_train_scaled)\n",
    "X_test_pca = pca.transform(X_test_scaled)\n",
    "print(X_train_pca.shape)\n",
    "print(X_test_pca.shape)"
   ]
  },
  {
   "cell_type": "code",
   "execution_count": 22,
   "id": "dd327761",
   "metadata": {
    "execution": {
     "iopub.execute_input": "2021-11-29T15:49:23.373071Z",
     "iopub.status.busy": "2021-11-29T15:49:23.372316Z",
     "iopub.status.idle": "2021-11-29T15:49:23.635288Z",
     "shell.execute_reply": "2021-11-29T15:49:23.635769Z",
     "shell.execute_reply.started": "2021-11-28T17:04:37.703755Z"
    },
    "papermill": {
     "duration": 0.328256,
     "end_time": "2021-11-29T15:49:23.635940",
     "exception": false,
     "start_time": "2021-11-29T15:49:23.307684",
     "status": "completed"
    },
    "tags": []
   },
   "outputs": [
    {
     "name": "stderr",
     "output_type": "stream",
     "text": [
      "/opt/conda/lib/python3.7/site-packages/ipykernel_launcher.py:5: MatplotlibDeprecationWarning: Axes3D(fig) adding itself to the figure is deprecated since 3.4. Pass the keyword argument auto_add_to_figure=False and use fig.add_axes(ax) to suppress this warning. The default value of auto_add_to_figure will change to False in mpl3.5 and True values will no longer work in 3.6.  This is consistent with other Axes classes.\n",
      "  \"\"\"\n"
     ]
    },
    {
     "data": {
      "image/png": "[encoded data removed]",
      "text/plain": [
       "<Figure size 432x288 with 1 Axes>"
      ]
     },
     "metadata": {
      "needs_background": "light"
     },
     "output_type": "display_data"
    }
   ],
   "source": [
    "pca3 = PCA(n_components = 3).fit_transform(X_train_scaled)\n",
    "colors = np.where(y_train==0, 'red', 'blue')\n",
    "plt.clf()\n",
    "fig = plt.figure(1, figsize=(10,6 ))\n",
    "ax = Axes3D(fig, elev=-150, azim=110,)\n",
    "ax.scatter(pca3[:, 0], pca3[:, 1], pca3[:, 2], c=colors, cmap=plt.cm.Paired,linewidths=10)\n",
    "ax.set_title(\"First three PCA directions\")\n",
    "ax.set_xlabel(\"PC1\")\n",
    "ax.w_xaxis.set_ticklabels([])\n",
    "ax.set_ylabel(\"PC2\")\n",
    "ax.w_yaxis.set_ticklabels([])\n",
    "ax.set_zlabel(\"PC3\")\n",
    "ax.w_zaxis.set_ticklabels([])\n",
    "plt.show()"
   ]
  },
  {
   "cell_type": "code",
   "execution_count": 23,
   "id": "713cca64",
   "metadata": {
    "execution": {
     "iopub.execute_input": "2021-11-29T15:49:23.714541Z",
     "iopub.status.busy": "2021-11-29T15:49:23.713909Z",
     "iopub.status.idle": "2021-11-29T15:49:23.844094Z",
     "shell.execute_reply": "2021-11-29T15:49:23.844824Z",
     "shell.execute_reply.started": "2021-11-28T17:07:02.008866Z"
    },
    "papermill": {
     "duration": 0.171157,
     "end_time": "2021-11-29T15:49:23.845053",
     "exception": false,
     "start_time": "2021-11-29T15:49:23.673896",
     "status": "completed"
    },
    "tags": []
   },
   "outputs": [
    {
     "name": "stderr",
     "output_type": "stream",
     "text": [
      "\n",
      "User settings:\n",
      "\n",
      "   KMP_AFFINITY=granularity=fine,verbose,compact,1,0\n",
      "   KMP_BLOCKTIME=0\n",
      "   KMP_DUPLICATE_LIB_OK=True\n",
      "   KMP_INIT_AT_FORK=FALSE\n",
      "   KMP_SETTINGS=1\n",
      "   KMP_WARNINGS=0\n",
      "\n",
      "Effective settings:\n",
      "\n",
      "   KMP_ABORT_DELAY=0\n",
      "   KMP_ADAPTIVE_LOCK_PROPS='1,1024'\n",
      "   KMP_ALIGN_ALLOC=64\n",
      "   KMP_ALL_THREADPRIVATE=128\n",
      "   KMP_ATOMIC_MODE=2\n",
      "   KMP_BLOCKTIME=0\n",
      "   KMP_CPUINFO_FILE: value is not defined\n",
      "   KMP_DETERMINISTIC_REDUCTION=false\n",
      "   KMP_DEVICE_THREAD_LIMIT=2147483647\n",
      "   KMP_DISP_NUM_BUFFERS=7\n",
      "   KMP_DUPLICATE_LIB_OK=true\n",
      "   KMP_ENABLE_TASK_THROTTLING=true\n",
      "   KMP_FORCE_REDUCTION: value is not defined\n",
      "   KMP_FOREIGN_THREADS_THREADPRIVATE=true\n",
      "   KMP_FORKJOIN_BARRIER='2,2'\n",
      "   KMP_FORKJOIN_BARRIER_PATTERN='hyper,hyper'\n",
      "   KMP_GTID_MODE=3\n",
      "   KMP_HANDLE_SIGNALS=false\n",
      "   KMP_HOT_TEAMS_MAX_LEVEL=1\n",
      "   KMP_HOT_TEAMS_MODE=0\n",
      "   KMP_INIT_AT_FORK=true\n",
      "   KMP_LIBRARY=throughput\n",
      "   KMP_LOCK_KIND=queuing\n",
      "   KMP_MALLOC_POOL_INCR=1M\n",
      "   KMP_NUM_LOCKS_IN_BLOCK=1\n",
      "   KMP_PLAIN_BARRIER='2,2'\n",
      "   KMP_PLAIN_BARRIER_PATTERN='hyper,hyper'\n",
      "   KMP_REDUCTION_BARRIER='1,1'\n",
      "   KMP_REDUCTION_BARRIER_PATTERN='hyper,hyper'\n",
      "   KMP_SCHEDULE='static,balanced;guided,iterative'\n",
      "   KMP_SETTINGS=true\n",
      "   KMP_SPIN_BACKOFF_PARAMS='4096,100'\n",
      "   KMP_STACKOFFSET=64\n",
      "   KMP_STACKPAD=0\n",
      "   KMP_STACKSIZE=8M\n",
      "   KMP_STORAGE_MAP=false\n",
      "   KMP_TASKING=2\n",
      "   KMP_TASKLOOP_MIN_TASKS=0\n",
      "   KMP_TASK_STEALING_CONSTRAINT=1\n",
      "   KMP_TEAMS_THREAD_LIMIT=4\n",
      "   KMP_TOPOLOGY_METHOD=all\n",
      "   KMP_USE_YIELD=1\n",
      "   KMP_VERSION=false\n",
      "   KMP_WARNINGS=false\n",
      "   OMP_AFFINITY_FORMAT='OMP: pid %P tid %i thread %n bound to OS proc set {%A}'\n",
      "   OMP_ALLOCATOR=omp_default_mem_alloc\n",
      "   OMP_CANCELLATION=false\n",
      "   OMP_DEFAULT_DEVICE=0\n",
      "   OMP_DISPLAY_AFFINITY=false\n",
      "   OMP_DISPLAY_ENV=false\n",
      "   OMP_DYNAMIC=false\n",
      "   OMP_MAX_ACTIVE_LEVELS=1\n",
      "   OMP_MAX_TASK_PRIORITY=0\n",
      "   OMP_NESTED: deprecated; max-active-levels-var=1\n",
      "   OMP_NUM_THREADS: value is not defined\n",
      "   OMP_PLACES: value is not defined\n",
      "   OMP_PROC_BIND='intel'\n",
      "   OMP_SCHEDULE='static'\n",
      "   OMP_STACKSIZE=8M\n",
      "   OMP_TARGET_OFFLOAD=DEFAULT\n",
      "   OMP_THREAD_LIMIT=2147483647\n",
      "   OMP_WAIT_POLICY=PASSIVE\n",
      "   KMP_AFFINITY='verbose,warnings,respect,granularity=fine,compact,1,0'\n",
      "\n",
      "2021-11-29 15:49:23.760343: I tensorflow/core/common_runtime/process_util.cc:146] Creating new thread pool with default inter op setting: 2. Tune using inter_op_parallelism_threads for best performance.\n"
     ]
    }
   ],
   "source": [
    "NN_model = keras.Sequential([\n",
    "    layers.Dense(32, activation='relu', input_shape=X_train_pca[1].shape),\n",
    "    layers.Dense(16, activation='relu'),\n",
    "    layers.Dense(1, activation='sigmoid')\n",
    "])"
   ]
  },
  {
   "cell_type": "code",
   "execution_count": 24,
   "id": "a97ded54",
   "metadata": {
    "execution": {
     "iopub.execute_input": "2021-11-29T15:49:23.929023Z",
     "iopub.status.busy": "2021-11-29T15:49:23.927984Z",
     "iopub.status.idle": "2021-11-29T15:49:23.942250Z",
     "shell.execute_reply": "2021-11-29T15:49:23.942818Z",
     "shell.execute_reply.started": "2021-11-28T17:07:50.519505Z"
    },
    "papermill": {
     "duration": 0.057925,
     "end_time": "2021-11-29T15:49:23.942996",
     "exception": false,
     "start_time": "2021-11-29T15:49:23.885071",
     "status": "completed"
    },
    "tags": []
   },
   "outputs": [],
   "source": [
    "NN_model.compile(\n",
    "    loss='binary_crossentropy',\n",
    "    optimizer='adam',\n",
    "    metrics=['binary_accuracy']\n",
    ")"
   ]
  },
  {
   "cell_type": "code",
   "execution_count": 25,
   "id": "1cd07476",
   "metadata": {
    "execution": {
     "iopub.execute_input": "2021-11-29T15:49:24.023009Z",
     "iopub.status.busy": "2021-11-29T15:49:24.022033Z",
     "iopub.status.idle": "2021-11-29T15:49:24.026295Z",
     "shell.execute_reply": "2021-11-29T15:49:24.026861Z",
     "shell.execute_reply.started": "2021-11-28T17:08:29.423923Z"
    },
    "papermill": {
     "duration": 0.045763,
     "end_time": "2021-11-29T15:49:24.027036",
     "exception": false,
     "start_time": "2021-11-29T15:49:23.981273",
     "status": "completed"
    },
    "tags": []
   },
   "outputs": [],
   "source": [
    "early_stopping = keras.callbacks.EarlyStopping(\n",
    "    patience=5,\n",
    "    min_delta=0.005,\n",
    "    restore_best_weights=True,\n",
    ")"
   ]
  },
  {
   "cell_type": "code",
   "execution_count": 26,
   "id": "a0a89eda",
   "metadata": {
    "execution": {
     "iopub.execute_input": "2021-11-29T15:49:24.107256Z",
     "iopub.status.busy": "2021-11-29T15:49:24.106231Z",
     "iopub.status.idle": "2021-11-29T15:49:26.341814Z",
     "shell.execute_reply": "2021-11-29T15:49:26.340544Z",
     "shell.execute_reply.started": "2021-11-28T17:09:50.366336Z"
    },
    "papermill": {
     "duration": 2.277093,
     "end_time": "2021-11-29T15:49:26.342152",
     "exception": false,
     "start_time": "2021-11-29T15:49:24.065059",
     "status": "completed"
    },
    "tags": []
   },
   "outputs": [
    {
     "name": "stderr",
     "output_type": "stream",
     "text": [
      "2021-11-29 15:49:24.193092: I tensorflow/compiler/mlir/mlir_graph_optimization_pass.cc:185] None of the MLIR Optimization Passes are enabled (registered 2)\n"
     ]
    },
    {
     "name": "stdout",
     "output_type": "stream",
     "text": [
      "Epoch 1/200\n",
      "5/5 [==============================] - 1s 63ms/step - loss: 1.7310 - binary_accuracy: 0.7368 - val_loss: 1.1281 - val_binary_accuracy: 0.7059\n",
      "Epoch 2/200\n",
      "5/5 [==============================] - 0s 12ms/step - loss: 1.2294 - binary_accuracy: 0.7632 - val_loss: 0.9606 - val_binary_accuracy: 0.7353\n",
      "Epoch 3/200\n",
      "5/5 [==============================] - 0s 12ms/step - loss: 0.8397 - binary_accuracy: 0.8158 - val_loss: 0.8433 - val_binary_accuracy: 0.7353\n",
      "Epoch 4/200\n",
      "5/5 [==============================] - 0s 12ms/step - loss: 0.5935 - binary_accuracy: 0.8684 - val_loss: 0.7554 - val_binary_accuracy: 0.7647\n",
      "Epoch 5/200\n",
      "5/5 [==============================] - 0s 13ms/step - loss: 0.3975 - binary_accuracy: 0.8947 - val_loss: 0.6962 - val_binary_accuracy: 0.7941\n",
      "Epoch 6/200\n",
      "5/5 [==============================] - 0s 12ms/step - loss: 0.2753 - binary_accuracy: 0.9211 - val_loss: 0.6532 - val_binary_accuracy: 0.8235\n",
      "Epoch 7/200\n",
      "5/5 [==============================] - 0s 12ms/step - loss: 0.1603 - binary_accuracy: 0.9211 - val_loss: 0.6250 - val_binary_accuracy: 0.8235\n",
      "Epoch 8/200\n",
      "5/5 [==============================] - 0s 12ms/step - loss: 0.0948 - binary_accuracy: 0.9737 - val_loss: 0.6039 - val_binary_accuracy: 0.8235\n",
      "Epoch 9/200\n",
      "5/5 [==============================] - 0s 13ms/step - loss: 0.0734 - binary_accuracy: 0.9737 - val_loss: 0.5867 - val_binary_accuracy: 0.8235\n",
      "Epoch 10/200\n",
      "5/5 [==============================] - 0s 12ms/step - loss: 0.0359 - binary_accuracy: 0.9737 - val_loss: 0.5762 - val_binary_accuracy: 0.8529\n",
      "Epoch 11/200\n",
      "5/5 [==============================] - 0s 12ms/step - loss: 0.0226 - binary_accuracy: 1.0000 - val_loss: 0.5705 - val_binary_accuracy: 0.8529\n",
      "Epoch 12/200\n",
      "5/5 [==============================] - 0s 12ms/step - loss: 0.0143 - binary_accuracy: 1.0000 - val_loss: 0.5676 - val_binary_accuracy: 0.8529\n",
      "Epoch 13/200\n",
      "5/5 [==============================] - 0s 12ms/step - loss: 0.0100 - binary_accuracy: 1.0000 - val_loss: 0.5666 - val_binary_accuracy: 0.8529\n",
      "Epoch 14/200\n",
      "5/5 [==============================] - 0s 12ms/step - loss: 0.0090 - binary_accuracy: 1.0000 - val_loss: 0.5666 - val_binary_accuracy: 0.8529\n",
      "Epoch 15/200\n",
      "5/5 [==============================] - 0s 12ms/step - loss: 0.0069 - binary_accuracy: 1.0000 - val_loss: 0.5669 - val_binary_accuracy: 0.8529\n",
      "Epoch 16/200\n",
      "5/5 [==============================] - 0s 13ms/step - loss: 0.0056 - binary_accuracy: 1.0000 - val_loss: 0.5670 - val_binary_accuracy: 0.8529\n"
     ]
    }
   ],
   "source": [
    "train_history = NN_model.fit(\n",
    "    X_train_pca, y_train,\n",
    "    validation_data=(X_test_pca, y_test),\n",
    "    batch_size = 8,\n",
    "    epochs = 200,\n",
    "    callbacks=[early_stopping]\n",
    ")"
   ]
  },
  {
   "cell_type": "code",
   "execution_count": 27,
   "id": "c029e27f",
   "metadata": {
    "execution": {
     "iopub.execute_input": "2021-11-29T15:49:26.465374Z",
     "iopub.status.busy": "2021-11-29T15:49:26.464363Z",
     "iopub.status.idle": "2021-11-29T15:49:26.625321Z",
     "shell.execute_reply": "2021-11-29T15:49:26.625993Z",
     "shell.execute_reply.started": "2021-11-28T17:37:32.583553Z"
    },
    "papermill": {
     "duration": 0.222447,
     "end_time": "2021-11-29T15:49:26.626183",
     "exception": false,
     "start_time": "2021-11-29T15:49:26.403736",
     "status": "completed"
    },
    "tags": []
   },
   "outputs": [
    {
     "name": "stdout",
     "output_type": "stream",
     "text": [
      "Neural Network accuracy:  0.588\n"
     ]
    }
   ],
   "source": [
    "#pred = NN_model.layers.predict_classes(X_test_pca)\n",
    "#print('Neural Network accuracy: ', round(accuracy_score(y_test, pred), 3))\n",
    "predict_x=NN_model.predict(X_test_pca) \n",
    "classes_x=np.argmax(predict_x,axis=1)\n",
    "print('Neural Network accuracy: ', round(accuracy_score(y_test, classes_x), 3))"
   ]
  },
  {
   "cell_type": "code",
   "execution_count": 28,
   "id": "acd23596",
   "metadata": {
    "execution": {
     "iopub.execute_input": "2021-11-29T15:49:26.734916Z",
     "iopub.status.busy": "2021-11-29T15:49:26.733953Z",
     "iopub.status.idle": "2021-11-29T15:49:27.024690Z",
     "shell.execute_reply": "2021-11-29T15:49:27.025212Z",
     "shell.execute_reply.started": "2021-11-28T17:37:36.916398Z"
    },
    "papermill": {
     "duration": 0.345477,
     "end_time": "2021-11-29T15:49:27.025400",
     "exception": false,
     "start_time": "2021-11-29T15:49:26.679923",
     "status": "completed"
    },
    "tags": []
   },
   "outputs": [
    {
     "data": {
      "image/png": "[encoded data removed]",
      "text/plain": [
       "<Figure size 432x288 with 2 Axes>"
      ]
     },
     "metadata": {
      "needs_background": "light"
     },
     "output_type": "display_data"
    }
   ],
   "source": [
    "cm_nn = confusion_matrix(y_test, classes_x)\n",
    "\n",
    "ax = plt.subplot()\n",
    "sns.heatmap(cm_nn, annot=True, ax = ax, fmt='g', cmap='Greens') \n",
    "\n",
    "# Labels, title and ticks\n",
    "ax.set_xlabel('Predicted labels')\n",
    "ax.set_ylabel('True labels') \n",
    "ax.set_title('Neural Network Confusion Matrix') \n",
    "ax.xaxis.set_ticklabels(labels) \n",
    "ax.yaxis.set_ticklabels(labels, rotation=360);"
   ]
  },
  {
   "cell_type": "markdown",
   "id": "a2967e39",
   "metadata": {
    "papermill": {
     "duration": 0.049776,
     "end_time": "2021-11-29T15:49:27.184139",
     "exception": false,
     "start_time": "2021-11-29T15:49:27.134363",
     "status": "completed"
    },
    "tags": []
   },
   "source": [
    "SVM"
   ]
  },
  {
   "cell_type": "code",
   "execution_count": 29,
   "id": "220d2a80",
   "metadata": {
    "execution": {
     "iopub.execute_input": "2021-11-29T15:49:27.288079Z",
     "iopub.status.busy": "2021-11-29T15:49:27.287098Z",
     "iopub.status.idle": "2021-11-29T15:49:27.510440Z",
     "shell.execute_reply": "2021-11-29T15:49:27.509897Z",
     "shell.execute_reply.started": "2021-11-28T18:01:00.051498Z"
    },
    "papermill": {
     "duration": 0.276733,
     "end_time": "2021-11-29T15:49:27.510590",
     "exception": false,
     "start_time": "2021-11-29T15:49:27.233857",
     "status": "completed"
    },
    "tags": []
   },
   "outputs": [
    {
     "name": "stdout",
     "output_type": "stream",
     "text": [
      "Before Upsampling:-\n",
      "Counter({0: 27, 1: 11})\n",
      "After Upsampling:-\n",
      "Counter({0: 27, 1: 27})\n"
     ]
    }
   ],
   "source": [
    "from sklearn.utils import resample\n",
    "from collections import Counter\n",
    "\n",
    "print(\"Before Upsampling:-\")\n",
    "print(Counter(y_train))\n",
    "\n",
    "\n",
    "# Let's use SMOTE to oversample\n",
    "from imblearn.over_sampling import SMOTE\n",
    "oversample = SMOTE()\n",
    "X_train_ov, y_train_ov = oversample.fit_resample(X_train_pca,y_train)\n",
    "\n",
    "print(\"After Upsampling:-\")\n",
    "print(Counter(y_train_ov))"
   ]
  },
  {
   "cell_type": "markdown",
   "id": "7ede3bba",
   "metadata": {
    "papermill": {
     "duration": 0.050434,
     "end_time": "2021-11-29T15:49:27.611832",
     "exception": false,
     "start_time": "2021-11-29T15:49:27.561398",
     "status": "completed"
    },
    "tags": []
   },
   "source": [
    "Selecting best SVC for applying SVM:"
   ]
  },
  {
   "cell_type": "code",
   "execution_count": 30,
   "id": "4d987069",
   "metadata": {
    "execution": {
     "iopub.execute_input": "2021-11-29T15:49:27.724379Z",
     "iopub.status.busy": "2021-11-29T15:49:27.723613Z",
     "iopub.status.idle": "2021-11-29T15:49:31.176709Z",
     "shell.execute_reply": "2021-11-29T15:49:31.177187Z",
     "shell.execute_reply.started": "2021-11-28T18:02:49.500525Z"
    },
    "papermill": {
     "duration": 3.514257,
     "end_time": "2021-11-29T15:49:31.177361",
     "exception": false,
     "start_time": "2021-11-29T15:49:27.663104",
     "status": "completed"
    },
    "tags": []
   },
   "outputs": [
    {
     "name": "stdout",
     "output_type": "stream",
     "text": [
      "Fitting 5 folds for each of 40 candidates, totalling 200 fits\n"
     ]
    },
    {
     "name": "stderr",
     "output_type": "stream",
     "text": [
      "[Parallel(n_jobs=-1)]: Using backend LokyBackend with 4 concurrent workers.\n",
      "[Parallel(n_jobs=-1)]: Done  56 tasks      | elapsed:    3.1s\n",
      "[Parallel(n_jobs=-1)]: Done 200 out of 200 | elapsed:    3.4s finished\n"
     ]
    },
    {
     "data": {
      "text/plain": [
       "SVC(C=1, kernel='linear')"
      ]
     },
     "execution_count": 30,
     "metadata": {},
     "output_type": "execute_result"
    }
   ],
   "source": [
    "from sklearn.svm import SVC\n",
    "from sklearn.model_selection import GridSearchCV\n",
    "# do a grid search\n",
    "svc_params = [{'C': [1, 10, 100, 1000], 'kernel': ['linear']},\n",
    "              {'C': [1, 10, 100, 1000], 'kernel': ['rbf'], 'gamma': [0.1, 0.2, 0.3, 0.4, 0.5, 0.6, 0.7, 0.8, 0.9]}]\n",
    "\n",
    "search = GridSearchCV(SVC(), svc_params, n_jobs=-1, verbose=1)\n",
    "search.fit(X_train_ov, y_train_ov)\n",
    "\n",
    "best_accuracy = search.best_score_ #to get best score\n",
    "best_parameters = search.best_params_ #to get best parameters\n",
    "# select best svc\n",
    "best_svc = search.best_estimator_\n",
    "best_svc"
   ]
  },
  {
   "cell_type": "markdown",
   "id": "c9586518",
   "metadata": {
    "papermill": {
     "duration": 0.051528,
     "end_time": "2021-11-29T15:49:31.280822",
     "exception": false,
     "start_time": "2021-11-29T15:49:31.229294",
     "status": "completed"
    },
    "tags": []
   },
   "source": [
    "SVM model"
   ]
  },
  {
   "cell_type": "code",
   "execution_count": 31,
   "id": "84c96ffb",
   "metadata": {
    "execution": {
     "iopub.execute_input": "2021-11-29T15:49:31.394489Z",
     "iopub.status.busy": "2021-11-29T15:49:31.393799Z",
     "iopub.status.idle": "2021-11-29T15:49:31.405822Z",
     "shell.execute_reply": "2021-11-29T15:49:31.405004Z",
     "shell.execute_reply.started": "2021-11-28T18:08:26.714333Z"
    },
    "papermill": {
     "duration": 0.072874,
     "end_time": "2021-11-29T15:49:31.406020",
     "exception": false,
     "start_time": "2021-11-29T15:49:31.333146",
     "status": "completed"
    },
    "tags": []
   },
   "outputs": [
    {
     "name": "stdout",
     "output_type": "stream",
     "text": [
      "The accuracy of SVM is 0.8529411764705882\n",
      "\n",
      "Classification report :\n",
      "               precision    recall  f1-score   support\n",
      "\n",
      "           0       0.80      1.00      0.89        20\n",
      "           1       1.00      0.64      0.78        14\n",
      "\n",
      "    accuracy                           0.85        34\n",
      "   macro avg       0.90      0.82      0.84        34\n",
      "weighted avg       0.88      0.85      0.85        34\n",
      "\n"
     ]
    }
   ],
   "source": [
    "#build SVM model with best parameters\n",
    "from sklearn.metrics import recall_score, precision_score, classification_report,accuracy_score,confusion_matrix, roc_curve, auc, roc_curve,accuracy_score,plot_confusion_matrix\n",
    "svc_model = SVC(C=1, kernel='linear',probability=True)\n",
    "\n",
    "svc_model.fit(X_train_ov, y_train_ov)\n",
    "\n",
    "prediction=svc_model.predict(X_test_pca)\n",
    "\n",
    "acc_svc = accuracy_score(prediction,y_test)\n",
    "print('The accuracy of SVM is', acc_svc)\n",
    "print (\"\\nClassification report :\\n\",(classification_report(y_test,prediction)))"
   ]
  },
  {
   "cell_type": "code",
   "execution_count": 32,
   "id": "8d2f54fa",
   "metadata": {
    "execution": {
     "iopub.execute_input": "2021-11-29T15:49:31.538519Z",
     "iopub.status.busy": "2021-11-29T15:49:31.529100Z",
     "iopub.status.idle": "2021-11-29T15:49:31.802866Z",
     "shell.execute_reply": "2021-11-29T15:49:31.803353Z",
     "shell.execute_reply.started": "2021-11-28T18:06:39.221431Z"
    },
    "papermill": {
     "duration": 0.344348,
     "end_time": "2021-11-29T15:49:31.803530",
     "exception": false,
     "start_time": "2021-11-29T15:49:31.459182",
     "status": "completed"
    },
    "tags": []
   },
   "outputs": [
    {
     "data": {
      "text/plain": [
       "Text(0.5, 1.0, 'CONFUSION MATRIX')"
      ]
     },
     "execution_count": 32,
     "metadata": {},
     "output_type": "execute_result"
    },
    {
     "data": {
      "image/png": "[encoded data removed]",
      "text/plain": [
       "<Figure size 936x720 with 2 Axes>"
      ]
     },
     "metadata": {
      "needs_background": "light"
     },
     "output_type": "display_data"
    }
   ],
   "source": [
    "#Confusion matrix\n",
    "plt.figure(figsize=(13,10))\n",
    "plt.subplot(221)\n",
    "sns.heatmap(confusion_matrix(y_test,prediction),annot=True, cmap='Greens', fmt = \"d\",linecolor=\"k\",linewidths=3)\n",
    "plt.title(\"CONFUSION MATRIX\",fontsize=20)"
   ]
  },
  {
   "cell_type": "code",
   "execution_count": 33,
   "id": "6bf976a2",
   "metadata": {
    "execution": {
     "iopub.execute_input": "2021-11-29T15:49:31.915561Z",
     "iopub.status.busy": "2021-11-29T15:49:31.914534Z",
     "iopub.status.idle": "2021-11-29T15:49:32.149296Z",
     "shell.execute_reply": "2021-11-29T15:49:32.149892Z",
     "shell.execute_reply.started": "2021-11-28T18:08:36.717731Z"
    },
    "papermill": {
     "duration": 0.292686,
     "end_time": "2021-11-29T15:49:32.150070",
     "exception": false,
     "start_time": "2021-11-29T15:49:31.857384",
     "status": "completed"
    },
    "tags": []
   },
   "outputs": [
    {
     "data": {
      "text/plain": [
       "Text(0.5, 1.0, 'ROC - CURVE & AREA UNDER CURVE')"
      ]
     },
     "execution_count": 33,
     "metadata": {},
     "output_type": "execute_result"
    },
    {
     "data": {
      "image/png": "[encoded data removed]",
      "text/plain": [
       "<Figure size 432x288 with 1 Axes>"
      ]
     },
     "metadata": {
      "needs_background": "light"
     },
     "output_type": "display_data"
    }
   ],
   "source": [
    "#ROC curve and Area under the curve plotting\n",
    "predicting_probabilites = svc_model.predict_proba(X_test_pca)[:,1]\n",
    "fpr,tpr,thresholds = roc_curve(y_test,predicting_probabilites)\n",
    "plt.subplot(222)\n",
    "plt.plot(fpr,tpr,label = (\"Area_under the curve :\",auc(fpr,tpr)),color = \"r\")\n",
    "plt.plot([1,0],[1,0],linestyle = \"dashed\",color =\"k\")\n",
    "plt.legend(loc = \"best\")\n",
    "plt.title(\"ROC - CURVE & AREA UNDER CURVE\",fontsize=20)"
   ]
  }
 ],
 "metadata": {
  "kernelspec": {
   "display_name": "Python 3",
   "language": "python",
   "name": "python3"
  },
  "language_info": {
   "codemirror_mode": {
    "name": "ipython",
    "version": 3
   },
   "file_extension": ".py",
   "mimetype": "text/x-python",
   "name": "python",
   "nbconvert_exporter": "python",
   "pygments_lexer": "ipython3",
   "version": "3.7.10"
  },
  "papermill": {
   "default_parameters": {},
   "duration": 34.716363,
   "end_time": "2021-11-29T15:49:34.912706",
   "environment_variables": {},
   "exception": null,
   "input_path": "__notebook__.ipynb",
   "output_path": "__notebook__.ipynb",
   "parameters": {},
   "start_time": "2021-11-29T15:49:00.196343",
   "version": "2.3.3"
  }
 },
 "nbformat": 4,
 "nbformat_minor": 5
}

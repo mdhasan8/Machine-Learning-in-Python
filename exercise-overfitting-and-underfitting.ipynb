{
 "cells": [
  {
   "cell_type": "markdown",
   "id": "bbf7538b",
   "metadata": {
    "papermill": {
     "duration": 0.030756,
     "end_time": "2021-10-21T07:13:56.926830",
     "exception": false,
     "start_time": "2021-10-21T07:13:56.896074",
     "status": "completed"
    },
    "tags": []
   },
   "source": [
    "**This notebook is an exercise in the [Intro to Deep Learning](https://www.kaggle.com/learn/intro-to-deep-learning) course.  You can reference the tutorial at [this link](https://www.kaggle.com/ryanholbrook/overfitting-and-underfitting).**\n",
    "\n",
    "---\n"
   ]
  },
  {
   "cell_type": "markdown",
   "id": "49bc9630",
   "metadata": {
    "papermill": {
     "duration": 0.027177,
     "end_time": "2021-10-21T07:13:56.985604",
     "exception": false,
     "start_time": "2021-10-21T07:13:56.958427",
     "status": "completed"
    },
    "tags": []
   },
   "source": [
    "# Introduction #\n",
    "\n",
    "In this exercise, you’ll learn how to improve training outcomes by including an early stopping callback to prevent overfitting.\n",
    "\n",
    "When you're ready, run this next cell to set everything up!"
   ]
  },
  {
   "cell_type": "code",
   "execution_count": 1,
   "id": "658f8a6c",
   "metadata": {
    "execution": {
     "iopub.execute_input": "2021-10-21T07:13:57.038584Z",
     "iopub.status.busy": "2021-10-21T07:13:57.037557Z",
     "iopub.status.idle": "2021-10-21T07:13:57.073426Z",
     "shell.execute_reply": "2021-10-21T07:13:57.072551Z",
     "shell.execute_reply.started": "2021-10-21T07:04:43.389115Z"
    },
    "papermill": {
     "duration": 0.066128,
     "end_time": "2021-10-21T07:13:57.073636",
     "exception": false,
     "start_time": "2021-10-21T07:13:57.007508",
     "status": "completed"
    },
    "tags": []
   },
   "outputs": [],
   "source": [
    "# Setup plotting\n",
    "import matplotlib.pyplot as plt\n",
    "plt.style.use('seaborn-whitegrid')\n",
    "# Set Matplotlib defaults\n",
    "plt.rc('figure', autolayout=True)\n",
    "plt.rc('axes', labelweight='bold', labelsize='large',\n",
    "       titleweight='bold', titlesize=18, titlepad=10)\n",
    "plt.rc('animation', html='html5')\n",
    "\n",
    "# Setup feedback system\n",
    "from learntools.core import binder\n",
    "binder.bind(globals())\n",
    "from learntools.deep_learning_intro.ex4 import *"
   ]
  },
  {
   "cell_type": "markdown",
   "id": "add8b3d5",
   "metadata": {
    "papermill": {
     "duration": 0.015921,
     "end_time": "2021-10-21T07:13:57.105666",
     "exception": false,
     "start_time": "2021-10-21T07:13:57.089745",
     "status": "completed"
    },
    "tags": []
   },
   "source": [
    "First load the *Spotify* dataset. Your task will be to predict the popularity of a song based on various audio features, like `'tempo'`, `'danceability'`, and `'mode'`."
   ]
  },
  {
   "cell_type": "code",
   "execution_count": 2,
   "id": "c15fe6b0",
   "metadata": {
    "execution": {
     "iopub.execute_input": "2021-10-21T07:13:57.150189Z",
     "iopub.status.busy": "2021-10-21T07:13:57.147117Z",
     "iopub.status.idle": "2021-10-21T07:14:05.275080Z",
     "shell.execute_reply": "2021-10-21T07:14:05.274195Z",
     "shell.execute_reply.started": "2021-10-21T07:06:25.215426Z"
    },
    "papermill": {
     "duration": 8.152604,
     "end_time": "2021-10-21T07:14:05.275286",
     "exception": false,
     "start_time": "2021-10-21T07:13:57.122682",
     "status": "completed"
    },
    "tags": []
   },
   "outputs": [
    {
     "name": "stdout",
     "output_type": "stream",
     "text": [
      "Input shape: [18]\n"
     ]
    }
   ],
   "source": [
    "import pandas as pd\n",
    "from sklearn.preprocessing import StandardScaler, OneHotEncoder\n",
    "from sklearn.compose import make_column_transformer\n",
    "from sklearn.model_selection import GroupShuffleSplit\n",
    "\n",
    "from tensorflow import keras\n",
    "from tensorflow.keras import layers\n",
    "from tensorflow.keras import callbacks\n",
    "\n",
    "spotify = pd.read_csv('../input/dl-course-data/spotify.csv')\n",
    "\n",
    "X = spotify.copy().dropna()\n",
    "y = X.pop('track_popularity')\n",
    "artists = X['track_artist']\n",
    "\n",
    "features_num = ['danceability', 'energy', 'key', 'loudness', 'mode',\n",
    "                'speechiness', 'acousticness', 'instrumentalness',\n",
    "                'liveness', 'valence', 'tempo', 'duration_ms']\n",
    "features_cat = ['playlist_genre']\n",
    "\n",
    "preprocessor = make_column_transformer(\n",
    "    (StandardScaler(), features_num),\n",
    "    (OneHotEncoder(), features_cat),\n",
    ")\n",
    "\n",
    "# We'll do a \"grouped\" split to keep all of an artist's songs in one\n",
    "# split or the other. This is to help prevent signal leakage.\n",
    "def group_split(X, y, group, train_size=0.75):\n",
    "    splitter = GroupShuffleSplit(train_size=train_size)\n",
    "    train, test = next(splitter.split(X, y, groups=group))\n",
    "    return (X.iloc[train], X.iloc[test], y.iloc[train], y.iloc[test])\n",
    "\n",
    "X_train, X_valid, y_train, y_valid = group_split(X, y, artists)\n",
    "\n",
    "X_train = preprocessor.fit_transform(X_train)\n",
    "X_valid = preprocessor.transform(X_valid)\n",
    "y_train = y_train / 100 # popularity is on a scale 0-100, so this rescales to 0-1.\n",
    "y_valid = y_valid / 100\n",
    "\n",
    "input_shape = [X_train.shape[1]]\n",
    "print(\"Input shape: {}\".format(input_shape))"
   ]
  },
  {
   "cell_type": "markdown",
   "id": "137b2939",
   "metadata": {
    "papermill": {
     "duration": 0.016181,
     "end_time": "2021-10-21T07:14:05.309603",
     "exception": false,
     "start_time": "2021-10-21T07:14:05.293422",
     "status": "completed"
    },
    "tags": []
   },
   "source": [
    "Let's start with the simplest network, a linear model. This model has low capacity.\n",
    "\n",
    "Run this next cell without any changes to train a linear model on the *Spotify* dataset."
   ]
  },
  {
   "cell_type": "code",
   "execution_count": 3,
   "id": "534973a5",
   "metadata": {
    "execution": {
     "iopub.execute_input": "2021-10-21T07:14:05.349910Z",
     "iopub.status.busy": "2021-10-21T07:14:05.349351Z",
     "iopub.status.idle": "2021-10-21T07:14:19.985650Z",
     "shell.execute_reply": "2021-10-21T07:14:19.985141Z",
     "shell.execute_reply.started": "2021-10-21T07:08:01.735128Z"
    },
    "lines_to_next_cell": 0,
    "papermill": {
     "duration": 14.659773,
     "end_time": "2021-10-21T07:14:19.985853",
     "exception": false,
     "start_time": "2021-10-21T07:14:05.326080",
     "status": "completed"
    },
    "tags": []
   },
   "outputs": [
    {
     "name": "stderr",
     "output_type": "stream",
     "text": [
      "2021-10-21 07:14:05.621112: I tensorflow/stream_executor/cuda/cuda_gpu_executor.cc:937] successful NUMA node read from SysFS had negative value (-1), but there must be at least one NUMA node, so returning NUMA node zero\n",
      "2021-10-21 07:14:05.764732: I tensorflow/stream_executor/cuda/cuda_gpu_executor.cc:937] successful NUMA node read from SysFS had negative value (-1), but there must be at least one NUMA node, so returning NUMA node zero\n",
      "2021-10-21 07:14:05.765807: I tensorflow/stream_executor/cuda/cuda_gpu_executor.cc:937] successful NUMA node read from SysFS had negative value (-1), but there must be at least one NUMA node, so returning NUMA node zero\n",
      "2021-10-21 07:14:05.768509: I tensorflow/core/platform/cpu_feature_guard.cc:142] This TensorFlow binary is optimized with oneAPI Deep Neural Network Library (oneDNN) to use the following CPU instructions in performance-critical operations:  AVX2 FMA\n",
      "To enable them in other operations, rebuild TensorFlow with the appropriate compiler flags.\n",
      "2021-10-21 07:14:05.770131: I tensorflow/stream_executor/cuda/cuda_gpu_executor.cc:937] successful NUMA node read from SysFS had negative value (-1), but there must be at least one NUMA node, so returning NUMA node zero\n",
      "2021-10-21 07:14:05.771177: I tensorflow/stream_executor/cuda/cuda_gpu_executor.cc:937] successful NUMA node read from SysFS had negative value (-1), but there must be at least one NUMA node, so returning NUMA node zero\n",
      "2021-10-21 07:14:05.772119: I tensorflow/stream_executor/cuda/cuda_gpu_executor.cc:937] successful NUMA node read from SysFS had negative value (-1), but there must be at least one NUMA node, so returning NUMA node zero\n",
      "2021-10-21 07:14:09.795302: I tensorflow/stream_executor/cuda/cuda_gpu_executor.cc:937] successful NUMA node read from SysFS had negative value (-1), but there must be at least one NUMA node, so returning NUMA node zero\n",
      "2021-10-21 07:14:09.796355: I tensorflow/stream_executor/cuda/cuda_gpu_executor.cc:937] successful NUMA node read from SysFS had negative value (-1), but there must be at least one NUMA node, so returning NUMA node zero\n",
      "2021-10-21 07:14:09.797389: I tensorflow/stream_executor/cuda/cuda_gpu_executor.cc:937] successful NUMA node read from SysFS had negative value (-1), but there must be at least one NUMA node, so returning NUMA node zero\n",
      "2021-10-21 07:14:09.798259: I tensorflow/core/common_runtime/gpu/gpu_device.cc:1510] Created device /job:localhost/replica:0/task:0/device:GPU:0 with 15403 MB memory:  -> device: 0, name: Tesla P100-PCIE-16GB, pci bus id: 0000:00:04.0, compute capability: 6.0\n",
      "2021-10-21 07:14:10.322345: I tensorflow/compiler/mlir/mlir_graph_optimization_pass.cc:185] None of the MLIR Optimization Passes are enabled (registered 2)\n"
     ]
    },
    {
     "name": "stdout",
     "output_type": "stream",
     "text": [
      "Minimum Validation Loss: 0.1930\n"
     ]
    },
    {
     "data": {
      "image/png": "[encoded data removed]",
      "text/plain": [
       "<Figure size 432x288 with 1 Axes>"
      ]
     },
     "metadata": {},
     "output_type": "display_data"
    }
   ],
   "source": [
    "model = keras.Sequential([\n",
    "    layers.Dense(1, input_shape=input_shape),\n",
    "])\n",
    "model.compile(\n",
    "    optimizer='adam',\n",
    "    loss='mae',\n",
    ")\n",
    "history = model.fit(\n",
    "    X_train, y_train,\n",
    "    validation_data=(X_valid, y_valid),\n",
    "    batch_size=512,\n",
    "    epochs=50,\n",
    "    verbose=0, # suppress output since we'll plot the curves\n",
    ")\n",
    "history_df = pd.DataFrame(history.history)\n",
    "history_df.loc[0:, ['loss', 'val_loss']].plot()\n",
    "print(\"Minimum Validation Loss: {:0.4f}\".format(history_df['val_loss'].min()));"
   ]
  },
  {
   "cell_type": "markdown",
   "id": "eefc83c9",
   "metadata": {
    "papermill": {
     "duration": 0.018149,
     "end_time": "2021-10-21T07:14:20.021384",
     "exception": false,
     "start_time": "2021-10-21T07:14:20.003235",
     "status": "completed"
    },
    "tags": []
   },
   "source": [
    "It's not uncommon for the curves to follow a \"hockey stick\" pattern like you see here. This makes the final part of training hard to see, so let's start at epoch 10 instead:"
   ]
  },
  {
   "cell_type": "code",
   "execution_count": 4,
   "id": "5324802a",
   "metadata": {
    "execution": {
     "iopub.execute_input": "2021-10-21T07:14:20.111161Z",
     "iopub.status.busy": "2021-10-21T07:14:20.076428Z",
     "iopub.status.idle": "2021-10-21T07:14:20.438004Z",
     "shell.execute_reply": "2021-10-21T07:14:20.438680Z",
     "shell.execute_reply.started": "2021-10-21T07:08:56.014635Z"
    },
    "papermill": {
     "duration": 0.399186,
     "end_time": "2021-10-21T07:14:20.438863",
     "exception": false,
     "start_time": "2021-10-21T07:14:20.039677",
     "status": "completed"
    },
    "tags": []
   },
   "outputs": [
    {
     "name": "stdout",
     "output_type": "stream",
     "text": [
      "Minimum Validation Loss: 0.1930\n"
     ]
    },
    {
     "data": {
      "image/png": "[encoded data removed]",
      "text/plain": [
       "<Figure size 432x288 with 1 Axes>"
      ]
     },
     "metadata": {},
     "output_type": "display_data"
    }
   ],
   "source": [
    "# Start the plot at epoch 10\n",
    "history_df.loc[10:, ['loss', 'val_loss']].plot()\n",
    "print(\"Minimum Validation Loss: {:0.4f}\".format(history_df['val_loss'].min()));"
   ]
  },
  {
   "cell_type": "markdown",
   "id": "c74a23ee",
   "metadata": {
    "papermill": {
     "duration": 0.019297,
     "end_time": "2021-10-21T07:14:20.477742",
     "exception": false,
     "start_time": "2021-10-21T07:14:20.458445",
     "status": "completed"
    },
    "tags": []
   },
   "source": [
    "# 1) Evaluate Baseline\n",
    "\n",
    "What do you think? Would you say this model is underfitting, overfitting, just right?"
   ]
  },
  {
   "cell_type": "code",
   "execution_count": 5,
   "id": "a037b05d",
   "metadata": {
    "execution": {
     "iopub.execute_input": "2021-10-21T07:14:20.522015Z",
     "iopub.status.busy": "2021-10-21T07:14:20.520997Z",
     "iopub.status.idle": "2021-10-21T07:14:20.526556Z",
     "shell.execute_reply": "2021-10-21T07:14:20.527115Z",
     "shell.execute_reply.started": "2021-10-21T07:09:19.171256Z"
    },
    "papermill": {
     "duration": 0.030329,
     "end_time": "2021-10-21T07:14:20.527284",
     "exception": false,
     "start_time": "2021-10-21T07:14:20.496955",
     "status": "completed"
    },
    "tags": []
   },
   "outputs": [
    {
     "data": {
      "application/javascript": [
       "parent.postMessage({\"jupyterEvent\": \"custom.exercise_interaction\", \"data\": {\"outcomeType\": 1, \"valueTowardsCompletion\": 0.25, \"interactionType\": 1, \"questionType\": 4, \"questionId\": \"1_Q1\", \"learnToolsVersion\": \"0.3.4\", \"failureMessage\": \"\", \"exceptionClass\": \"\", \"trace\": \"\"}}, \"*\")"
      ],
      "text/plain": [
       "<IPython.core.display.Javascript object>"
      ]
     },
     "metadata": {},
     "output_type": "display_data"
    },
    {
     "data": {
      "text/markdown": [
       "<span style=\"color:#33cc33\">Correct:</span> \n",
       "\n",
       "The gap between these curves is quite small and the validation loss never increases, so it's more likely that the network is underfitting than overfitting. It would be worth experimenting with more capacity to see if that's the case."
      ],
      "text/plain": [
       "Correct: \n",
       "\n",
       "The gap between these curves is quite small and the validation loss never increases, so it's more likely that the network is underfitting than overfitting. It would be worth experimenting with more capacity to see if that's the case."
      ]
     },
     "metadata": {},
     "output_type": "display_data"
    }
   ],
   "source": [
    "# View the solution (Run this cell to receive credit!)\n",
    "q_1.check()"
   ]
  },
  {
   "cell_type": "markdown",
   "id": "fc008479",
   "metadata": {
    "papermill": {
     "duration": 0.019524,
     "end_time": "2021-10-21T07:14:20.565954",
     "exception": false,
     "start_time": "2021-10-21T07:14:20.546430",
     "status": "completed"
    },
    "tags": []
   },
   "source": [
    "Now let's add some capacity to our network. We'll add three hidden layers with 128 units each. Run the next cell to train the network and see the learning curves."
   ]
  },
  {
   "cell_type": "code",
   "execution_count": 6,
   "id": "c9ca4cf0",
   "metadata": {
    "execution": {
     "iopub.execute_input": "2021-10-21T07:14:20.618247Z",
     "iopub.status.busy": "2021-10-21T07:14:20.617179Z",
     "iopub.status.idle": "2021-10-21T07:14:31.529455Z",
     "shell.execute_reply": "2021-10-21T07:14:31.529979Z",
     "shell.execute_reply.started": "2021-10-21T07:09:54.177620Z"
    },
    "papermill": {
     "duration": 10.943562,
     "end_time": "2021-10-21T07:14:31.530177",
     "exception": false,
     "start_time": "2021-10-21T07:14:20.586615",
     "status": "completed"
    },
    "tags": []
   },
   "outputs": [
    {
     "name": "stdout",
     "output_type": "stream",
     "text": [
      "Epoch 1/50\n",
      "49/49 [==============================] - 1s 6ms/step - loss: 0.2652 - val_loss: 0.2064\n",
      "Epoch 2/50\n",
      "49/49 [==============================] - 0s 3ms/step - loss: 0.2026 - val_loss: 0.1989\n",
      "Epoch 3/50\n",
      "49/49 [==============================] - 0s 3ms/step - loss: 0.1965 - val_loss: 0.1969\n",
      "Epoch 4/50\n",
      "49/49 [==============================] - 0s 4ms/step - loss: 0.1938 - val_loss: 0.1958\n",
      "Epoch 5/50\n",
      "49/49 [==============================] - 0s 3ms/step - loss: 0.1914 - val_loss: 0.1959\n",
      "Epoch 6/50\n",
      "49/49 [==============================] - 0s 4ms/step - loss: 0.1897 - val_loss: 0.1951\n",
      "Epoch 7/50\n",
      "49/49 [==============================] - 0s 4ms/step - loss: 0.1889 - val_loss: 0.1979\n",
      "Epoch 8/50\n",
      "49/49 [==============================] - 0s 4ms/step - loss: 0.1878 - val_loss: 0.1946\n",
      "Epoch 9/50\n",
      "49/49 [==============================] - 0s 4ms/step - loss: 0.1865 - val_loss: 0.1957\n",
      "Epoch 10/50\n",
      "49/49 [==============================] - 0s 4ms/step - loss: 0.1847 - val_loss: 0.1940\n",
      "Epoch 11/50\n",
      "49/49 [==============================] - 0s 4ms/step - loss: 0.1845 - val_loss: 0.1961\n",
      "Epoch 12/50\n",
      "49/49 [==============================] - 0s 3ms/step - loss: 0.1835 - val_loss: 0.1958\n",
      "Epoch 13/50\n",
      "49/49 [==============================] - 0s 3ms/step - loss: 0.1829 - val_loss: 0.1964\n",
      "Epoch 14/50\n",
      "49/49 [==============================] - 0s 3ms/step - loss: 0.1824 - val_loss: 0.1952\n",
      "Epoch 15/50\n",
      "49/49 [==============================] - 0s 4ms/step - loss: 0.1812 - val_loss: 0.1948\n",
      "Epoch 16/50\n",
      "49/49 [==============================] - 0s 4ms/step - loss: 0.1805 - val_loss: 0.1959\n",
      "Epoch 17/50\n",
      "49/49 [==============================] - 0s 4ms/step - loss: 0.1794 - val_loss: 0.1962\n",
      "Epoch 18/50\n",
      "49/49 [==============================] - 0s 4ms/step - loss: 0.1792 - val_loss: 0.1963\n",
      "Epoch 19/50\n",
      "49/49 [==============================] - 0s 4ms/step - loss: 0.1787 - val_loss: 0.1967\n",
      "Epoch 20/50\n",
      "49/49 [==============================] - 0s 4ms/step - loss: 0.1779 - val_loss: 0.1961\n",
      "Epoch 21/50\n",
      "49/49 [==============================] - 0s 4ms/step - loss: 0.1774 - val_loss: 0.1966\n",
      "Epoch 22/50\n",
      "49/49 [==============================] - 0s 3ms/step - loss: 0.1769 - val_loss: 0.1965\n",
      "Epoch 23/50\n",
      "49/49 [==============================] - 0s 4ms/step - loss: 0.1766 - val_loss: 0.1973\n",
      "Epoch 24/50\n",
      "49/49 [==============================] - 0s 3ms/step - loss: 0.1756 - val_loss: 0.1982\n",
      "Epoch 25/50\n",
      "49/49 [==============================] - 0s 3ms/step - loss: 0.1754 - val_loss: 0.1971\n",
      "Epoch 26/50\n",
      "49/49 [==============================] - 0s 3ms/step - loss: 0.1744 - val_loss: 0.1975\n",
      "Epoch 27/50\n",
      "49/49 [==============================] - 0s 3ms/step - loss: 0.1742 - val_loss: 0.1999\n",
      "Epoch 28/50\n",
      "49/49 [==============================] - 0s 4ms/step - loss: 0.1741 - val_loss: 0.1977\n",
      "Epoch 29/50\n",
      "49/49 [==============================] - 0s 5ms/step - loss: 0.1728 - val_loss: 0.1973\n",
      "Epoch 30/50\n",
      "49/49 [==============================] - 0s 4ms/step - loss: 0.1723 - val_loss: 0.1975\n",
      "Epoch 31/50\n",
      "49/49 [==============================] - 0s 4ms/step - loss: 0.1722 - val_loss: 0.1988\n",
      "Epoch 32/50\n",
      "49/49 [==============================] - 0s 4ms/step - loss: 0.1718 - val_loss: 0.1991\n",
      "Epoch 33/50\n",
      "49/49 [==============================] - 0s 5ms/step - loss: 0.1706 - val_loss: 0.1978\n",
      "Epoch 34/50\n",
      "49/49 [==============================] - 0s 4ms/step - loss: 0.1707 - val_loss: 0.1993\n",
      "Epoch 35/50\n",
      "49/49 [==============================] - 0s 3ms/step - loss: 0.1706 - val_loss: 0.1995\n",
      "Epoch 36/50\n",
      "49/49 [==============================] - 0s 4ms/step - loss: 0.1701 - val_loss: 0.1996\n",
      "Epoch 37/50\n",
      "49/49 [==============================] - 0s 4ms/step - loss: 0.1689 - val_loss: 0.2000\n",
      "Epoch 38/50\n",
      "49/49 [==============================] - 0s 5ms/step - loss: 0.1689 - val_loss: 0.2005\n",
      "Epoch 39/50\n",
      "49/49 [==============================] - 0s 5ms/step - loss: 0.1687 - val_loss: 0.2010\n",
      "Epoch 40/50\n",
      "49/49 [==============================] - 0s 5ms/step - loss: 0.1679 - val_loss: 0.1995\n",
      "Epoch 41/50\n",
      "49/49 [==============================] - 0s 4ms/step - loss: 0.1672 - val_loss: 0.1999\n",
      "Epoch 42/50\n",
      "49/49 [==============================] - 0s 4ms/step - loss: 0.1668 - val_loss: 0.2013\n",
      "Epoch 43/50\n",
      "49/49 [==============================] - 0s 7ms/step - loss: 0.1668 - val_loss: 0.2017\n",
      "Epoch 44/50\n",
      "49/49 [==============================] - 0s 5ms/step - loss: 0.1657 - val_loss: 0.2009\n",
      "Epoch 45/50\n",
      "49/49 [==============================] - 0s 4ms/step - loss: 0.1660 - val_loss: 0.2023\n",
      "Epoch 46/50\n",
      "49/49 [==============================] - 0s 3ms/step - loss: 0.1650 - val_loss: 0.2023\n",
      "Epoch 47/50\n",
      "49/49 [==============================] - 0s 3ms/step - loss: 0.1652 - val_loss: 0.2022\n",
      "Epoch 48/50\n",
      "49/49 [==============================] - 0s 4ms/step - loss: 0.1641 - val_loss: 0.2024\n",
      "Epoch 49/50\n",
      "49/49 [==============================] - 0s 3ms/step - loss: 0.1629 - val_loss: 0.2028\n",
      "Epoch 50/50\n",
      "49/49 [==============================] - 0s 4ms/step - loss: 0.1630 - val_loss: 0.2028\n",
      "Minimum Validation Loss: 0.1940\n"
     ]
    },
    {
     "data": {
      "image/png": "[encoded data removed]",
      "text/plain": [
       "<Figure size 432x288 with 1 Axes>"
      ]
     },
     "metadata": {},
     "output_type": "display_data"
    }
   ],
   "source": [
    "model = keras.Sequential([\n",
    "    layers.Dense(128, activation='relu', input_shape=input_shape),\n",
    "    layers.Dense(64, activation='relu'),\n",
    "    layers.Dense(1)\n",
    "])\n",
    "model.compile(\n",
    "    optimizer='adam',\n",
    "    loss='mae',\n",
    ")\n",
    "history = model.fit(\n",
    "    X_train, y_train,\n",
    "    validation_data=(X_valid, y_valid),\n",
    "    batch_size=512,\n",
    "    epochs=50,\n",
    ")\n",
    "history_df = pd.DataFrame(history.history)\n",
    "history_df.loc[:, ['loss', 'val_loss']].plot()\n",
    "print(\"Minimum Validation Loss: {:0.4f}\".format(history_df['val_loss'].min()));"
   ]
  },
  {
   "cell_type": "markdown",
   "id": "5a6a5a5c",
   "metadata": {
    "papermill": {
     "duration": 0.091587,
     "end_time": "2021-10-21T07:14:31.714399",
     "exception": false,
     "start_time": "2021-10-21T07:14:31.622812",
     "status": "completed"
    },
    "tags": []
   },
   "source": [
    "# 2) Add Capacity\n",
    "\n",
    "What is your evaluation of these curves? Underfitting, overfitting, just right?"
   ]
  },
  {
   "cell_type": "code",
   "execution_count": 7,
   "id": "41b3e89d",
   "metadata": {
    "execution": {
     "iopub.execute_input": "2021-10-21T07:14:31.896124Z",
     "iopub.status.busy": "2021-10-21T07:14:31.895017Z",
     "iopub.status.idle": "2021-10-21T07:14:31.901766Z",
     "shell.execute_reply": "2021-10-21T07:14:31.901248Z",
     "shell.execute_reply.started": "2021-10-21T07:10:38.784164Z"
    },
    "papermill": {
     "duration": 0.098386,
     "end_time": "2021-10-21T07:14:31.901887",
     "exception": false,
     "start_time": "2021-10-21T07:14:31.803501",
     "status": "completed"
    },
    "tags": []
   },
   "outputs": [
    {
     "data": {
      "application/javascript": [
       "parent.postMessage({\"jupyterEvent\": \"custom.exercise_interaction\", \"data\": {\"outcomeType\": 1, \"valueTowardsCompletion\": 0.25, \"interactionType\": 1, \"questionType\": 4, \"questionId\": \"2_Q2\", \"learnToolsVersion\": \"0.3.4\", \"failureMessage\": \"\", \"exceptionClass\": \"\", \"trace\": \"\"}}, \"*\")"
      ],
      "text/plain": [
       "<IPython.core.display.Javascript object>"
      ]
     },
     "metadata": {},
     "output_type": "display_data"
    },
    {
     "data": {
      "text/markdown": [
       "<span style=\"color:#33cc33\">Correct:</span> \n",
       "\n",
       "Now the validation loss begins to rise very early, while the training loss continues to decrease. This indicates that the network has begun to overfit. At this point, we would need to try something to prevent it, either by reducing the number of units or through a method like early stopping. (We'll see another in the next lesson!)"
      ],
      "text/plain": [
       "Correct: \n",
       "\n",
       "Now the validation loss begins to rise very early, while the training loss continues to decrease. This indicates that the network has begun to overfit. At this point, we would need to try something to prevent it, either by reducing the number of units or through a method like early stopping. (We'll see another in the next lesson!)"
      ]
     },
     "metadata": {},
     "output_type": "display_data"
    }
   ],
   "source": [
    "# View the solution (Run this cell to receive credit!)\n",
    "q_2.check()"
   ]
  },
  {
   "cell_type": "markdown",
   "id": "4548a079",
   "metadata": {
    "papermill": {
     "duration": 0.129019,
     "end_time": "2021-10-21T07:14:32.119893",
     "exception": false,
     "start_time": "2021-10-21T07:14:31.990874",
     "status": "completed"
    },
    "tags": []
   },
   "source": [
    "# 3) Define Early Stopping Callback\n",
    "\n",
    "Now define an early stopping callback that waits 5 epochs (`patience'`) for a change in validation loss of at least `0.001` (`min_delta`) and keeps the weights with the best loss (`restore_best_weights`)."
   ]
  },
  {
   "cell_type": "code",
   "execution_count": 8,
   "id": "49f30947",
   "metadata": {
    "execution": {
     "iopub.execute_input": "2021-10-21T07:14:32.318795Z",
     "iopub.status.busy": "2021-10-21T07:14:32.317754Z",
     "iopub.status.idle": "2021-10-21T07:14:32.324910Z",
     "shell.execute_reply": "2021-10-21T07:14:32.325494Z",
     "shell.execute_reply.started": "2021-10-21T07:12:13.966231Z"
    },
    "lines_to_next_cell": 0,
    "papermill": {
     "duration": 0.108759,
     "end_time": "2021-10-21T07:14:32.325682",
     "exception": false,
     "start_time": "2021-10-21T07:14:32.216923",
     "status": "completed"
    },
    "tags": []
   },
   "outputs": [
    {
     "data": {
      "application/javascript": [
       "parent.postMessage({\"jupyterEvent\": \"custom.exercise_interaction\", \"data\": {\"outcomeType\": 1, \"valueTowardsCompletion\": 0.25, \"interactionType\": 1, \"questionType\": 2, \"questionId\": \"3_Q3\", \"learnToolsVersion\": \"0.3.4\", \"failureMessage\": \"\", \"exceptionClass\": \"\", \"trace\": \"\"}}, \"*\")"
      ],
      "text/plain": [
       "<IPython.core.display.Javascript object>"
      ]
     },
     "metadata": {},
     "output_type": "display_data"
    },
    {
     "data": {
      "text/markdown": [
       "<span style=\"color:#33cc33\">Correct</span>"
      ],
      "text/plain": [
       "Correct"
      ]
     },
     "metadata": {},
     "output_type": "display_data"
    }
   ],
   "source": [
    "from tensorflow.keras import callbacks\n",
    "\n",
    "# YOUR CODE HERE: define an early stopping callback\n",
    "early_stopping = callbacks.EarlyStopping(\n",
    "    min_delta=0.001, # minimium amount of change to count as an improvement\n",
    "    patience=5, # how many epochs to wait before stopping\n",
    "    restore_best_weights=True,\n",
    ")\n",
    "\n",
    "# Check your answer\n",
    "q_3.check()"
   ]
  },
  {
   "cell_type": "code",
   "execution_count": 9,
   "id": "aed82db9",
   "metadata": {
    "execution": {
     "iopub.execute_input": "2021-10-21T07:14:32.510559Z",
     "iopub.status.busy": "2021-10-21T07:14:32.509524Z",
     "iopub.status.idle": "2021-10-21T07:14:32.511884Z",
     "shell.execute_reply": "2021-10-21T07:14:32.512504Z"
    },
    "papermill": {
     "duration": 0.096241,
     "end_time": "2021-10-21T07:14:32.512684",
     "exception": false,
     "start_time": "2021-10-21T07:14:32.416443",
     "status": "completed"
    },
    "tags": []
   },
   "outputs": [],
   "source": [
    "# Lines below will give you a hint or solution code\n",
    "#q_3.hint()\n",
    "#q_3.solution()"
   ]
  },
  {
   "cell_type": "markdown",
   "id": "b7ec1d00",
   "metadata": {
    "papermill": {
     "duration": 0.091053,
     "end_time": "2021-10-21T07:14:32.693154",
     "exception": false,
     "start_time": "2021-10-21T07:14:32.602101",
     "status": "completed"
    },
    "tags": []
   },
   "source": [
    "Now run this cell to train the model and get the learning curves. Notice the `callbacks` argument in `model.fit`."
   ]
  },
  {
   "cell_type": "code",
   "execution_count": 10,
   "id": "b0821ddd",
   "metadata": {
    "execution": {
     "iopub.execute_input": "2021-10-21T07:14:32.885639Z",
     "iopub.status.busy": "2021-10-21T07:14:32.878275Z",
     "iopub.status.idle": "2021-10-21T07:14:36.798566Z",
     "shell.execute_reply": "2021-10-21T07:14:36.799084Z",
     "shell.execute_reply.started": "2021-10-21T07:12:48.659472Z"
    },
    "papermill": {
     "duration": 4.016582,
     "end_time": "2021-10-21T07:14:36.799276",
     "exception": false,
     "start_time": "2021-10-21T07:14:32.782694",
     "status": "completed"
    },
    "tags": []
   },
   "outputs": [
    {
     "name": "stdout",
     "output_type": "stream",
     "text": [
      "Epoch 1/50\n",
      "49/49 [==============================] - 1s 6ms/step - loss: 0.2439 - val_loss: 0.2049\n",
      "Epoch 2/50\n",
      "49/49 [==============================] - 0s 5ms/step - loss: 0.2037 - val_loss: 0.1994\n",
      "Epoch 3/50\n",
      "49/49 [==============================] - 0s 4ms/step - loss: 0.1985 - val_loss: 0.1973\n",
      "Epoch 4/50\n",
      "49/49 [==============================] - 0s 5ms/step - loss: 0.1951 - val_loss: 0.1961\n",
      "Epoch 5/50\n",
      "49/49 [==============================] - 0s 5ms/step - loss: 0.1931 - val_loss: 0.1950\n",
      "Epoch 6/50\n",
      "49/49 [==============================] - 0s 5ms/step - loss: 0.1905 - val_loss: 0.1943\n",
      "Epoch 7/50\n",
      "49/49 [==============================] - 0s 4ms/step - loss: 0.1893 - val_loss: 0.1961\n",
      "Epoch 8/50\n",
      "49/49 [==============================] - 0s 5ms/step - loss: 0.1879 - val_loss: 0.1949\n",
      "Epoch 9/50\n",
      "49/49 [==============================] - 0s 4ms/step - loss: 0.1868 - val_loss: 0.1935\n",
      "Epoch 10/50\n",
      "49/49 [==============================] - 0s 4ms/step - loss: 0.1856 - val_loss: 0.1951\n",
      "Epoch 11/50\n",
      "49/49 [==============================] - 0s 4ms/step - loss: 0.1849 - val_loss: 0.1944\n",
      "Epoch 12/50\n",
      "49/49 [==============================] - 0s 4ms/step - loss: 0.1841 - val_loss: 0.1941\n",
      "Epoch 13/50\n",
      "49/49 [==============================] - 0s 5ms/step - loss: 0.1833 - val_loss: 0.1939\n",
      "Epoch 14/50\n",
      "49/49 [==============================] - 0s 4ms/step - loss: 0.1822 - val_loss: 0.1947\n",
      "Minimum Validation Loss: 0.1935\n"
     ]
    },
    {
     "data": {
      "image/png": "[encoded data removed]",
      "text/plain": [
       "<Figure size 432x288 with 1 Axes>"
      ]
     },
     "metadata": {},
     "output_type": "display_data"
    }
   ],
   "source": [
    "model = keras.Sequential([\n",
    "    layers.Dense(128, activation='relu', input_shape=input_shape),\n",
    "    layers.Dense(64, activation='relu'),    \n",
    "    layers.Dense(1)\n",
    "])\n",
    "model.compile(\n",
    "    optimizer='adam',\n",
    "    loss='mae',\n",
    ")\n",
    "history = model.fit(\n",
    "    X_train, y_train,\n",
    "    validation_data=(X_valid, y_valid),\n",
    "    batch_size=512,\n",
    "    epochs=50,\n",
    "    callbacks=[early_stopping]\n",
    ")\n",
    "history_df = pd.DataFrame(history.history)\n",
    "history_df.loc[:, ['loss', 'val_loss']].plot()\n",
    "print(\"Minimum Validation Loss: {:0.4f}\".format(history_df['val_loss'].min()));"
   ]
  },
  {
   "cell_type": "markdown",
   "id": "991e4209",
   "metadata": {
    "papermill": {
     "duration": 0.110166,
     "end_time": "2021-10-21T07:14:37.021560",
     "exception": false,
     "start_time": "2021-10-21T07:14:36.911394",
     "status": "completed"
    },
    "tags": []
   },
   "source": [
    "# 4) Train and Interpret\n",
    "\n",
    "Was this an improvement compared to training without early stopping?"
   ]
  },
  {
   "cell_type": "code",
   "execution_count": 11,
   "id": "14a77290",
   "metadata": {
    "execution": {
     "iopub.execute_input": "2021-10-21T07:14:37.250094Z",
     "iopub.status.busy": "2021-10-21T07:14:37.246554Z",
     "iopub.status.idle": "2021-10-21T07:14:37.257915Z",
     "shell.execute_reply": "2021-10-21T07:14:37.258676Z",
     "shell.execute_reply.started": "2021-10-21T07:13:11.062052Z"
    },
    "papermill": {
     "duration": 0.128731,
     "end_time": "2021-10-21T07:14:37.258848",
     "exception": false,
     "start_time": "2021-10-21T07:14:37.130117",
     "status": "completed"
    },
    "tags": []
   },
   "outputs": [
    {
     "data": {
      "application/javascript": [
       "parent.postMessage({\"jupyterEvent\": \"custom.exercise_interaction\", \"data\": {\"outcomeType\": 1, \"valueTowardsCompletion\": 0.25, \"interactionType\": 1, \"questionType\": 4, \"questionId\": \"4_Q4\", \"learnToolsVersion\": \"0.3.4\", \"failureMessage\": \"\", \"exceptionClass\": \"\", \"trace\": \"\"}}, \"*\")"
      ],
      "text/plain": [
       "<IPython.core.display.Javascript object>"
      ]
     },
     "metadata": {},
     "output_type": "display_data"
    },
    {
     "data": {
      "text/markdown": [
       "<span style=\"color:#33cc33\">Correct:</span> \n",
       "\n",
       "The early stopping callback did stop the training once the network began overfitting. Moreover, by including `restore_best_weights` we still get to keep the model where validation loss was lowest."
      ],
      "text/plain": [
       "Correct: \n",
       "\n",
       "The early stopping callback did stop the training once the network began overfitting. Moreover, by including `restore_best_weights` we still get to keep the model where validation loss was lowest."
      ]
     },
     "metadata": {},
     "output_type": "display_data"
    }
   ],
   "source": [
    "# View the solution (Run this cell to receive credit!)\n",
    "q_4.check()"
   ]
  },
  {
   "cell_type": "markdown",
   "id": "0c0d9d63",
   "metadata": {
    "papermill": {
     "duration": 0.119014,
     "end_time": "2021-10-21T07:14:37.493895",
     "exception": false,
     "start_time": "2021-10-21T07:14:37.374881",
     "status": "completed"
    },
    "tags": []
   },
   "source": [
    "If you like, try experimenting with `patience` and `min_delta` to see what difference it might make.\n",
    "\n",
    "# Keep Going #\n",
    "\n",
    "Move on to [**learn about a couple of special layers**](https://www.kaggle.com/ryanholbrook/dropout-and-batch-normalization): batch normalization and dropout."
   ]
  }
 ],
 "metadata": {
  "kernelspec": {
   "display_name": "Python 3",
   "language": "python",
   "name": "python3"
  },
  "language_info": {
   "codemirror_mode": {
    "name": "ipython",
    "version": 3
   },
   "file_extension": ".py",
   "mimetype": "text/x-python",
   "name": "python",
   "nbconvert_exporter": "python",
   "pygments_lexer": "ipython3",
   "version": "3.7.10"
  },
  "papermill": {
   "default_parameters": {},
   "duration": 53.919328,
   "end_time": "2021-10-21T07:14:41.010326",
   "environment_variables": {},
   "exception": null,
   "input_path": "__notebook__.ipynb",
   "output_path": "__notebook__.ipynb",
   "parameters": {},
   "start_time": "2021-10-21T07:13:47.090998",
   "version": "2.3.3"
  }
 },
 "nbformat": 4,
 "nbformat_minor": 5
}

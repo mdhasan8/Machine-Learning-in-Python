{
 "cells": [
  {
   "cell_type": "markdown",
   "id": "1a750e4b",
   "metadata": {
    "papermill": {
     "duration": 0.022607,
     "end_time": "2021-08-28T06:10:37.486894",
     "exception": false,
     "start_time": "2021-08-28T06:10:37.464287",
     "status": "completed"
    },
    "tags": []
   },
   "source": [
    "**This notebook is an exercise in the [Intermediate Machine Learning](https://www.kaggle.com/learn/intermediate-machine-learning) course.  You can reference the tutorial at [this link](https://www.kaggle.com/alexisbcook/categorical-variables).**\n",
    "\n",
    "---\n"
   ]
  },
  {
   "cell_type": "markdown",
   "id": "e7048ab3",
   "metadata": {
    "papermill": {
     "duration": 0.021361,
     "end_time": "2021-08-28T06:10:37.531974",
     "exception": false,
     "start_time": "2021-08-28T06:10:37.510613",
     "status": "completed"
    },
    "tags": []
   },
   "source": [
    "By encoding **categorical variables**, you'll obtain your best results thus far!\n",
    "\n",
    "# Setup\n",
    "\n",
    "The questions below will give you feedback on your work. Run the following cell to set up the feedback system."
   ]
  },
  {
   "cell_type": "code",
   "execution_count": 1,
   "id": "7ab38013",
   "metadata": {
    "execution": {
     "iopub.execute_input": "2021-08-28T06:10:37.579553Z",
     "iopub.status.busy": "2021-08-28T06:10:37.578529Z",
     "iopub.status.idle": "2021-08-28T06:10:37.721484Z",
     "shell.execute_reply": "2021-08-28T06:10:37.722138Z",
     "shell.execute_reply.started": "2021-08-28T04:59:41.361793Z"
    },
    "papermill": {
     "duration": 0.168975,
     "end_time": "2021-08-28T06:10:37.722837",
     "exception": false,
     "start_time": "2021-08-28T06:10:37.553862",
     "status": "completed"
    },
    "tags": []
   },
   "outputs": [
    {
     "name": "stdout",
     "output_type": "stream",
     "text": [
      "Setup Complete\n"
     ]
    }
   ],
   "source": [
    "# Set up code checking\n",
    "import os\n",
    "if not os.path.exists(\"../input/train.csv\"):\n",
    "    os.symlink(\"../input/home-data-for-ml-course/train.csv\", \"../input/train.csv\")  \n",
    "    os.symlink(\"../input/home-data-for-ml-course/test.csv\", \"../input/test.csv\") \n",
    "from learntools.core import binder\n",
    "binder.bind(globals())\n",
    "from learntools.ml_intermediate.ex3 import *\n",
    "print(\"Setup Complete\")"
   ]
  },
  {
   "cell_type": "markdown",
   "id": "89edec98",
   "metadata": {
    "papermill": {
     "duration": 0.022225,
     "end_time": "2021-08-28T06:10:37.772155",
     "exception": false,
     "start_time": "2021-08-28T06:10:37.749930",
     "status": "completed"
    },
    "tags": []
   },
   "source": [
    "In this exercise, you will work with data from the [Housing Prices Competition for Kaggle Learn Users](https://www.kaggle.com/c/home-data-for-ml-course). \n",
    "\n",
    "![Ames Housing dataset image](https://i.imgur.com/lTJVG4e.png)\n",
    "\n",
    "Run the next code cell without changes to load the training and validation sets in `X_train`, `X_valid`, `y_train`, and `y_valid`.  The test set is loaded in `X_test`."
   ]
  },
  {
   "cell_type": "code",
   "execution_count": 2,
   "id": "33a5cb70",
   "metadata": {
    "execution": {
     "iopub.execute_input": "2021-08-28T06:10:37.820286Z",
     "iopub.status.busy": "2021-08-28T06:10:37.819666Z",
     "iopub.status.idle": "2021-08-28T06:10:38.801002Z",
     "shell.execute_reply": "2021-08-28T06:10:38.800529Z",
     "shell.execute_reply.started": "2021-08-28T04:59:41.506332Z"
    },
    "papermill": {
     "duration": 1.006394,
     "end_time": "2021-08-28T06:10:38.801136",
     "exception": false,
     "start_time": "2021-08-28T06:10:37.794742",
     "status": "completed"
    },
    "tags": []
   },
   "outputs": [],
   "source": [
    "import pandas as pd\n",
    "from sklearn.model_selection import train_test_split\n",
    "\n",
    "# Read the data\n",
    "X = pd.read_csv('../input/train.csv', index_col='Id') \n",
    "X_test = pd.read_csv('../input/test.csv', index_col='Id')\n",
    "\n",
    "# Remove rows with missing target, separate target from predictors\n",
    "X.dropna(axis=0, subset=['SalePrice'], inplace=True)\n",
    "y = X.SalePrice\n",
    "X.drop(['SalePrice'], axis=1, inplace=True)\n",
    "\n",
    "# To keep things simple, we'll drop columns with missing values\n",
    "cols_with_missing = [col for col in X.columns if X[col].isnull().any()] \n",
    "X.drop(cols_with_missing, axis=1, inplace=True)\n",
    "X_test.drop(cols_with_missing, axis=1, inplace=True)\n",
    "\n",
    "# Break off validation set from training data\n",
    "X_train, X_valid, y_train, y_valid = train_test_split(X, y,\n",
    "                                                      train_size=0.8, test_size=0.2,\n",
    "                                                      random_state=0)"
   ]
  },
  {
   "cell_type": "markdown",
   "id": "ca456775",
   "metadata": {
    "papermill": {
     "duration": 0.021839,
     "end_time": "2021-08-28T06:10:38.846789",
     "exception": false,
     "start_time": "2021-08-28T06:10:38.824950",
     "status": "completed"
    },
    "tags": []
   },
   "source": [
    "Use the next code cell to print the first five rows of the data."
   ]
  },
  {
   "cell_type": "code",
   "execution_count": 3,
   "id": "4bf1340d",
   "metadata": {
    "execution": {
     "iopub.execute_input": "2021-08-28T06:10:38.899882Z",
     "iopub.status.busy": "2021-08-28T06:10:38.899035Z",
     "iopub.status.idle": "2021-08-28T06:10:38.922925Z",
     "shell.execute_reply": "2021-08-28T06:10:38.923367Z",
     "shell.execute_reply.started": "2021-08-28T04:59:42.564064Z"
    },
    "papermill": {
     "duration": 0.054735,
     "end_time": "2021-08-28T06:10:38.923522",
     "exception": false,
     "start_time": "2021-08-28T06:10:38.868787",
     "status": "completed"
    },
    "tags": []
   },
   "outputs": [
    {
     "data": {
      "text/html": [
       "<div>\n",
       "<style scoped>\n",
       "    .dataframe tbody tr th:only-of-type {\n",
       "        vertical-align: middle;\n",
       "    }\n",
       "\n",
       "    .dataframe tbody tr th {\n",
       "        vertical-align: top;\n",
       "    }\n",
       "\n",
       "    .dataframe thead th {\n",
       "        text-align: right;\n",
       "    }\n",
       "</style>\n",
       "<table border=\"1\" class=\"dataframe\">\n",
       "  <thead>\n",
       "    <tr style=\"text-align: right;\">\n",
       "      <th></th>\n",
       "      <th>MSSubClass</th>\n",
       "      <th>MSZoning</th>\n",
       "      <th>LotArea</th>\n",
       "      <th>Street</th>\n",
       "      <th>LotShape</th>\n",
       "      <th>LandContour</th>\n",
       "      <th>Utilities</th>\n",
       "      <th>LotConfig</th>\n",
       "      <th>LandSlope</th>\n",
       "      <th>Neighborhood</th>\n",
       "      <th>...</th>\n",
       "      <th>OpenPorchSF</th>\n",
       "      <th>EnclosedPorch</th>\n",
       "      <th>3SsnPorch</th>\n",
       "      <th>ScreenPorch</th>\n",
       "      <th>PoolArea</th>\n",
       "      <th>MiscVal</th>\n",
       "      <th>MoSold</th>\n",
       "      <th>YrSold</th>\n",
       "      <th>SaleType</th>\n",
       "      <th>SaleCondition</th>\n",
       "    </tr>\n",
       "    <tr>\n",
       "      <th>Id</th>\n",
       "      <th></th>\n",
       "      <th></th>\n",
       "      <th></th>\n",
       "      <th></th>\n",
       "      <th></th>\n",
       "      <th></th>\n",
       "      <th></th>\n",
       "      <th></th>\n",
       "      <th></th>\n",
       "      <th></th>\n",
       "      <th></th>\n",
       "      <th></th>\n",
       "      <th></th>\n",
       "      <th></th>\n",
       "      <th></th>\n",
       "      <th></th>\n",
       "      <th></th>\n",
       "      <th></th>\n",
       "      <th></th>\n",
       "      <th></th>\n",
       "      <th></th>\n",
       "    </tr>\n",
       "  </thead>\n",
       "  <tbody>\n",
       "    <tr>\n",
       "      <th>619</th>\n",
       "      <td>20</td>\n",
       "      <td>RL</td>\n",
       "      <td>11694</td>\n",
       "      <td>Pave</td>\n",
       "      <td>Reg</td>\n",
       "      <td>Lvl</td>\n",
       "      <td>AllPub</td>\n",
       "      <td>Inside</td>\n",
       "      <td>Gtl</td>\n",
       "      <td>NridgHt</td>\n",
       "      <td>...</td>\n",
       "      <td>108</td>\n",
       "      <td>0</td>\n",
       "      <td>0</td>\n",
       "      <td>260</td>\n",
       "      <td>0</td>\n",
       "      <td>0</td>\n",
       "      <td>7</td>\n",
       "      <td>2007</td>\n",
       "      <td>New</td>\n",
       "      <td>Partial</td>\n",
       "    </tr>\n",
       "    <tr>\n",
       "      <th>871</th>\n",
       "      <td>20</td>\n",
       "      <td>RL</td>\n",
       "      <td>6600</td>\n",
       "      <td>Pave</td>\n",
       "      <td>Reg</td>\n",
       "      <td>Lvl</td>\n",
       "      <td>AllPub</td>\n",
       "      <td>Inside</td>\n",
       "      <td>Gtl</td>\n",
       "      <td>NAmes</td>\n",
       "      <td>...</td>\n",
       "      <td>0</td>\n",
       "      <td>0</td>\n",
       "      <td>0</td>\n",
       "      <td>0</td>\n",
       "      <td>0</td>\n",
       "      <td>0</td>\n",
       "      <td>8</td>\n",
       "      <td>2009</td>\n",
       "      <td>WD</td>\n",
       "      <td>Normal</td>\n",
       "    </tr>\n",
       "    <tr>\n",
       "      <th>93</th>\n",
       "      <td>30</td>\n",
       "      <td>RL</td>\n",
       "      <td>13360</td>\n",
       "      <td>Pave</td>\n",
       "      <td>IR1</td>\n",
       "      <td>HLS</td>\n",
       "      <td>AllPub</td>\n",
       "      <td>Inside</td>\n",
       "      <td>Gtl</td>\n",
       "      <td>Crawfor</td>\n",
       "      <td>...</td>\n",
       "      <td>0</td>\n",
       "      <td>44</td>\n",
       "      <td>0</td>\n",
       "      <td>0</td>\n",
       "      <td>0</td>\n",
       "      <td>0</td>\n",
       "      <td>8</td>\n",
       "      <td>2009</td>\n",
       "      <td>WD</td>\n",
       "      <td>Normal</td>\n",
       "    </tr>\n",
       "    <tr>\n",
       "      <th>818</th>\n",
       "      <td>20</td>\n",
       "      <td>RL</td>\n",
       "      <td>13265</td>\n",
       "      <td>Pave</td>\n",
       "      <td>IR1</td>\n",
       "      <td>Lvl</td>\n",
       "      <td>AllPub</td>\n",
       "      <td>CulDSac</td>\n",
       "      <td>Gtl</td>\n",
       "      <td>Mitchel</td>\n",
       "      <td>...</td>\n",
       "      <td>59</td>\n",
       "      <td>0</td>\n",
       "      <td>0</td>\n",
       "      <td>0</td>\n",
       "      <td>0</td>\n",
       "      <td>0</td>\n",
       "      <td>7</td>\n",
       "      <td>2008</td>\n",
       "      <td>WD</td>\n",
       "      <td>Normal</td>\n",
       "    </tr>\n",
       "    <tr>\n",
       "      <th>303</th>\n",
       "      <td>20</td>\n",
       "      <td>RL</td>\n",
       "      <td>13704</td>\n",
       "      <td>Pave</td>\n",
       "      <td>IR1</td>\n",
       "      <td>Lvl</td>\n",
       "      <td>AllPub</td>\n",
       "      <td>Corner</td>\n",
       "      <td>Gtl</td>\n",
       "      <td>CollgCr</td>\n",
       "      <td>...</td>\n",
       "      <td>81</td>\n",
       "      <td>0</td>\n",
       "      <td>0</td>\n",
       "      <td>0</td>\n",
       "      <td>0</td>\n",
       "      <td>0</td>\n",
       "      <td>1</td>\n",
       "      <td>2006</td>\n",
       "      <td>WD</td>\n",
       "      <td>Normal</td>\n",
       "    </tr>\n",
       "  </tbody>\n",
       "</table>\n",
       "<p>5 rows × 60 columns</p>\n",
       "</div>"
      ],
      "text/plain": [
       "     MSSubClass MSZoning  LotArea Street LotShape LandContour Utilities  \\\n",
       "Id                                                                        \n",
       "619          20       RL    11694   Pave      Reg         Lvl    AllPub   \n",
       "871          20       RL     6600   Pave      Reg         Lvl    AllPub   \n",
       "93           30       RL    13360   Pave      IR1         HLS    AllPub   \n",
       "818          20       RL    13265   Pave      IR1         Lvl    AllPub   \n",
       "303          20       RL    13704   Pave      IR1         Lvl    AllPub   \n",
       "\n",
       "    LotConfig LandSlope Neighborhood  ... OpenPorchSF EnclosedPorch 3SsnPorch  \\\n",
       "Id                                    ...                                       \n",
       "619    Inside       Gtl      NridgHt  ...         108             0         0   \n",
       "871    Inside       Gtl        NAmes  ...           0             0         0   \n",
       "93     Inside       Gtl      Crawfor  ...           0            44         0   \n",
       "818   CulDSac       Gtl      Mitchel  ...          59             0         0   \n",
       "303    Corner       Gtl      CollgCr  ...          81             0         0   \n",
       "\n",
       "    ScreenPorch  PoolArea  MiscVal  MoSold  YrSold SaleType SaleCondition  \n",
       "Id                                                                         \n",
       "619         260         0        0       7    2007      New       Partial  \n",
       "871           0         0        0       8    2009       WD        Normal  \n",
       "93            0         0        0       8    2009       WD        Normal  \n",
       "818           0         0        0       7    2008       WD        Normal  \n",
       "303           0         0        0       1    2006       WD        Normal  \n",
       "\n",
       "[5 rows x 60 columns]"
      ]
     },
     "execution_count": 3,
     "metadata": {},
     "output_type": "execute_result"
    }
   ],
   "source": [
    "X_train.head()"
   ]
  },
  {
   "cell_type": "markdown",
   "id": "40ea10e8",
   "metadata": {
    "papermill": {
     "duration": 0.022574,
     "end_time": "2021-08-28T06:10:38.968514",
     "exception": false,
     "start_time": "2021-08-28T06:10:38.945940",
     "status": "completed"
    },
    "tags": []
   },
   "source": [
    "Notice that the dataset contains both numerical and categorical variables.  You'll need to encode the categorical data before training a model.\n",
    "\n",
    "To compare different models, you'll use the same `score_dataset()` function from the tutorial.  This function reports the [mean absolute error](https://en.wikipedia.org/wiki/Mean_absolute_error) (MAE) from a random forest model."
   ]
  },
  {
   "cell_type": "code",
   "execution_count": 4,
   "id": "7f231b65",
   "metadata": {
    "execution": {
     "iopub.execute_input": "2021-08-28T06:10:39.020495Z",
     "iopub.status.busy": "2021-08-28T06:10:39.019795Z",
     "iopub.status.idle": "2021-08-28T06:10:39.201661Z",
     "shell.execute_reply": "2021-08-28T06:10:39.201100Z",
     "shell.execute_reply.started": "2021-08-28T04:59:42.602481Z"
    },
    "papermill": {
     "duration": 0.210449,
     "end_time": "2021-08-28T06:10:39.201800",
     "exception": false,
     "start_time": "2021-08-28T06:10:38.991351",
     "status": "completed"
    },
    "tags": []
   },
   "outputs": [],
   "source": [
    "from sklearn.ensemble import RandomForestRegressor\n",
    "from sklearn.metrics import mean_absolute_error\n",
    "\n",
    "# function for comparing different approaches\n",
    "def score_dataset(X_train, X_valid, y_train, y_valid):\n",
    "    model = RandomForestRegressor(n_estimators=100, random_state=0)\n",
    "    model.fit(X_train, y_train)\n",
    "    preds = model.predict(X_valid)\n",
    "    return mean_absolute_error(y_valid, preds)"
   ]
  },
  {
   "cell_type": "markdown",
   "id": "4aa6b897",
   "metadata": {
    "papermill": {
     "duration": 0.02213,
     "end_time": "2021-08-28T06:10:39.246716",
     "exception": false,
     "start_time": "2021-08-28T06:10:39.224586",
     "status": "completed"
    },
    "tags": []
   },
   "source": [
    "# Step 1: Drop columns with categorical data\n",
    "\n",
    "You'll get started with the most straightforward approach.  Use the code cell below to preprocess the data in `X_train` and `X_valid` to remove columns with categorical data.  Set the preprocessed DataFrames to `drop_X_train` and `drop_X_valid`, respectively.  "
   ]
  },
  {
   "cell_type": "code",
   "execution_count": 5,
   "id": "e4ff15e6",
   "metadata": {
    "execution": {
     "iopub.execute_input": "2021-08-28T06:10:39.305286Z",
     "iopub.status.busy": "2021-08-28T06:10:39.304659Z",
     "iopub.status.idle": "2021-08-28T06:10:39.309322Z",
     "shell.execute_reply": "2021-08-28T06:10:39.309817Z",
     "shell.execute_reply.started": "2021-08-28T04:59:42.808819Z"
    },
    "papermill": {
     "duration": 0.039572,
     "end_time": "2021-08-28T06:10:39.310070",
     "exception": false,
     "start_time": "2021-08-28T06:10:39.270498",
     "status": "completed"
    },
    "tags": []
   },
   "outputs": [
    {
     "data": {
      "application/javascript": [
       "parent.postMessage({\"jupyterEvent\": \"custom.exercise_interaction\", \"data\": {\"outcomeType\": 1, \"valueTowardsCompletion\": 0.5, \"interactionType\": 1, \"questionType\": 2, \"questionId\": \"1_Drop\", \"learnToolsVersion\": \"0.3.4\", \"failureMessage\": \"\", \"exceptionClass\": \"\", \"trace\": \"\"}}, \"*\")"
      ],
      "text/plain": [
       "<IPython.core.display.Javascript object>"
      ]
     },
     "metadata": {},
     "output_type": "display_data"
    },
    {
     "data": {
      "text/markdown": [
       "<span style=\"color:#33cc33\">Correct</span>"
      ],
      "text/plain": [
       "Correct"
      ]
     },
     "metadata": {},
     "output_type": "display_data"
    }
   ],
   "source": [
    "# Fill in the lines below: drop columns in training and validation data\n",
    "drop_X_train = X_train.select_dtypes(exclude = [\"object\"])\n",
    "drop_X_valid = X_valid.select_dtypes(exclude = [\"object\"])\n",
    "\n",
    "# Check your answers\n",
    "step_1.check()"
   ]
  },
  {
   "cell_type": "code",
   "execution_count": 6,
   "id": "dd9d9296",
   "metadata": {
    "execution": {
     "iopub.execute_input": "2021-08-28T06:10:39.360427Z",
     "iopub.status.busy": "2021-08-28T06:10:39.359823Z",
     "iopub.status.idle": "2021-08-28T06:10:39.362698Z",
     "shell.execute_reply": "2021-08-28T06:10:39.363184Z",
     "shell.execute_reply.started": "2021-08-28T04:59:42.827082Z"
    },
    "papermill": {
     "duration": 0.029372,
     "end_time": "2021-08-28T06:10:39.363361",
     "exception": false,
     "start_time": "2021-08-28T06:10:39.333989",
     "status": "completed"
    },
    "tags": []
   },
   "outputs": [],
   "source": [
    "# Lines below will give you a hint or solution code\n",
    "#step_1.hint()\n",
    "#step_1.solution()"
   ]
  },
  {
   "cell_type": "markdown",
   "id": "2ddc1691",
   "metadata": {
    "papermill": {
     "duration": 0.023242,
     "end_time": "2021-08-28T06:10:39.410132",
     "exception": false,
     "start_time": "2021-08-28T06:10:39.386890",
     "status": "completed"
    },
    "tags": []
   },
   "source": [
    "Run the next code cell to get the MAE for this approach."
   ]
  },
  {
   "cell_type": "code",
   "execution_count": 7,
   "id": "8b8ee5df",
   "metadata": {
    "execution": {
     "iopub.execute_input": "2021-08-28T06:10:39.459765Z",
     "iopub.status.busy": "2021-08-28T06:10:39.459167Z",
     "iopub.status.idle": "2021-08-28T06:10:40.680908Z",
     "shell.execute_reply": "2021-08-28T06:10:40.680434Z",
     "shell.execute_reply.started": "2021-08-28T04:59:42.832659Z"
    },
    "papermill": {
     "duration": 1.24738,
     "end_time": "2021-08-28T06:10:40.681035",
     "exception": false,
     "start_time": "2021-08-28T06:10:39.433655",
     "status": "completed"
    },
    "tags": []
   },
   "outputs": [
    {
     "name": "stdout",
     "output_type": "stream",
     "text": [
      "MAE from Approach 1 (Drop categorical variables):\n",
      "17837.82570776256\n"
     ]
    }
   ],
   "source": [
    "print(\"MAE from Approach 1 (Drop categorical variables):\")\n",
    "print(score_dataset(drop_X_train, drop_X_valid, y_train, y_valid))"
   ]
  },
  {
   "cell_type": "markdown",
   "id": "4f05bdd1",
   "metadata": {
    "papermill": {
     "duration": 0.023485,
     "end_time": "2021-08-28T06:10:40.728417",
     "exception": false,
     "start_time": "2021-08-28T06:10:40.704932",
     "status": "completed"
    },
    "tags": []
   },
   "source": [
    "Before jumping into ordinal encoding, we'll investigate the dataset.  Specifically, we'll look at the `'Condition2'` column.  The code cell below prints the unique entries in both the training and validation sets."
   ]
  },
  {
   "cell_type": "code",
   "execution_count": 8,
   "id": "0931c1ac",
   "metadata": {
    "execution": {
     "iopub.execute_input": "2021-08-28T06:10:40.786443Z",
     "iopub.status.busy": "2021-08-28T06:10:40.785852Z",
     "iopub.status.idle": "2021-08-28T06:10:40.788295Z",
     "shell.execute_reply": "2021-08-28T06:10:40.788732Z",
     "shell.execute_reply.started": "2021-08-28T04:59:44.098287Z"
    },
    "papermill": {
     "duration": 0.036981,
     "end_time": "2021-08-28T06:10:40.788886",
     "exception": false,
     "start_time": "2021-08-28T06:10:40.751905",
     "status": "completed"
    },
    "tags": []
   },
   "outputs": [
    {
     "name": "stdout",
     "output_type": "stream",
     "text": [
      "Unique values in 'Condition2' column in training data: ['Norm' 'PosA' 'Feedr' 'PosN' 'Artery' 'RRAe']\n",
      "\n",
      "Unique values in 'Condition2' column in validation data: ['Norm' 'RRAn' 'RRNn' 'Artery' 'Feedr' 'PosN']\n"
     ]
    }
   ],
   "source": [
    "print(\"Unique values in 'Condition2' column in training data:\", X_train['Condition2'].unique())\n",
    "print(\"\\nUnique values in 'Condition2' column in validation data:\", X_valid['Condition2'].unique())"
   ]
  },
  {
   "cell_type": "markdown",
   "id": "b26bc551",
   "metadata": {
    "papermill": {
     "duration": 0.023551,
     "end_time": "2021-08-28T06:10:40.836364",
     "exception": false,
     "start_time": "2021-08-28T06:10:40.812813",
     "status": "completed"
    },
    "tags": []
   },
   "source": [
    "# Step 2: Ordinal encoding\n",
    "\n",
    "### Part A\n",
    "\n",
    "If you now write code to: \n",
    "- fit an ordinal encoder to the training data, and then \n",
    "- use it to transform both the training and validation data, \n",
    "\n",
    "you'll get an error.  Can you see why this is the case?  (_You'll need  to use the above output to answer this question._)"
   ]
  },
  {
   "cell_type": "code",
   "execution_count": 9,
   "id": "5493afbf",
   "metadata": {
    "execution": {
     "iopub.execute_input": "2021-08-28T06:10:40.887367Z",
     "iopub.status.busy": "2021-08-28T06:10:40.886795Z",
     "iopub.status.idle": "2021-08-28T06:10:40.893301Z",
     "shell.execute_reply": "2021-08-28T06:10:40.892741Z",
     "shell.execute_reply.started": "2021-08-28T04:59:44.108899Z"
    },
    "papermill": {
     "duration": 0.032987,
     "end_time": "2021-08-28T06:10:40.893434",
     "exception": false,
     "start_time": "2021-08-28T06:10:40.860447",
     "status": "completed"
    },
    "tags": []
   },
   "outputs": [
    {
     "data": {
      "application/javascript": [
       "parent.postMessage({\"jupyterEvent\": \"custom.exercise_interaction\", \"data\": {\"outcomeType\": 1, \"valueTowardsCompletion\": 0.5, \"interactionType\": 1, \"questionType\": 4, \"questionId\": \"2.1_LabelA\", \"learnToolsVersion\": \"0.3.4\", \"failureMessage\": \"\", \"exceptionClass\": \"\", \"trace\": \"\"}}, \"*\")"
      ],
      "text/plain": [
       "<IPython.core.display.Javascript object>"
      ]
     },
     "metadata": {},
     "output_type": "display_data"
    },
    {
     "data": {
      "text/markdown": [
       "<span style=\"color:#33cc33\">Correct:</span> \n",
       "\n",
       "Fitting an ordinal encoder to a column in the training data creates a corresponding integer-valued label for each unique value **that appears in the training data**. In the case that the validation data contains values that don't also appear in the training data, the encoder will throw an error, because these values won't have an integer assigned to them.  Notice that the `'Condition2'` column in the validation data contains the values `'RRAn'` and `'RRNn'`, but these don't appear in the training data -- thus, if we try to use an ordinal encoder with scikit-learn, the code will throw an error."
      ],
      "text/plain": [
       "Correct: \n",
       "\n",
       "Fitting an ordinal encoder to a column in the training data creates a corresponding integer-valued label for each unique value **that appears in the training data**. In the case that the validation data contains values that don't also appear in the training data, the encoder will throw an error, because these values won't have an integer assigned to them.  Notice that the `'Condition2'` column in the validation data contains the values `'RRAn'` and `'RRNn'`, but these don't appear in the training data -- thus, if we try to use an ordinal encoder with scikit-learn, the code will throw an error."
      ]
     },
     "metadata": {},
     "output_type": "display_data"
    }
   ],
   "source": [
    "# Check your answer (Run this code cell to receive credit!)\n",
    "step_2.a.check()"
   ]
  },
  {
   "cell_type": "code",
   "execution_count": 10,
   "id": "45975f4b",
   "metadata": {
    "execution": {
     "iopub.execute_input": "2021-08-28T06:10:40.946824Z",
     "iopub.status.busy": "2021-08-28T06:10:40.946267Z",
     "iopub.status.idle": "2021-08-28T06:10:40.948956Z",
     "shell.execute_reply": "2021-08-28T06:10:40.948502Z",
     "shell.execute_reply.started": "2021-08-28T04:59:44.123378Z"
    },
    "papermill": {
     "duration": 0.030548,
     "end_time": "2021-08-28T06:10:40.949089",
     "exception": false,
     "start_time": "2021-08-28T06:10:40.918541",
     "status": "completed"
    },
    "tags": []
   },
   "outputs": [],
   "source": [
    "#step_2.a.hint()"
   ]
  },
  {
   "cell_type": "markdown",
   "id": "4483d510",
   "metadata": {
    "papermill": {
     "duration": 0.025311,
     "end_time": "2021-08-28T06:10:40.999100",
     "exception": false,
     "start_time": "2021-08-28T06:10:40.973789",
     "status": "completed"
    },
    "tags": []
   },
   "source": [
    "This is a common problem that you'll encounter with real-world data, and there are many approaches to fixing this issue.  For instance, you can write a custom ordinal encoder to deal with new categories.  The simplest approach, however, is to drop the problematic categorical columns.  \n",
    "\n",
    "Run the code cell below to save the problematic columns to a Python list `bad_label_cols`.  Likewise, columns that can be safely ordinal encoded are stored in `good_label_cols`."
   ]
  },
  {
   "cell_type": "code",
   "execution_count": 11,
   "id": "70f3c7a9",
   "metadata": {
    "execution": {
     "iopub.execute_input": "2021-08-28T06:10:41.061568Z",
     "iopub.status.busy": "2021-08-28T06:10:41.060921Z",
     "iopub.status.idle": "2021-08-28T06:10:41.064487Z",
     "shell.execute_reply": "2021-08-28T06:10:41.065038Z",
     "shell.execute_reply.started": "2021-08-28T04:59:44.130380Z"
    },
    "papermill": {
     "duration": 0.041145,
     "end_time": "2021-08-28T06:10:41.065199",
     "exception": false,
     "start_time": "2021-08-28T06:10:41.024054",
     "status": "completed"
    },
    "tags": []
   },
   "outputs": [
    {
     "name": "stdout",
     "output_type": "stream",
     "text": [
      "Categorical columns that will be ordinal encoded: ['MSZoning', 'Street', 'LotShape', 'LandContour', 'Utilities', 'LotConfig', 'LandSlope', 'Neighborhood', 'Condition1', 'BldgType', 'HouseStyle', 'RoofStyle', 'Exterior1st', 'Exterior2nd', 'ExterQual', 'ExterCond', 'Foundation', 'Heating', 'HeatingQC', 'CentralAir', 'KitchenQual', 'PavedDrive', 'SaleType', 'SaleCondition']\n",
      "\n",
      "Categorical columns that will be dropped from the dataset: ['Condition2', 'RoofMatl', 'Functional']\n"
     ]
    }
   ],
   "source": [
    "# Categorical columns in the training data\n",
    "object_cols = [col for col in X_train.columns if X_train[col].dtype == \"object\"]\n",
    "\n",
    "# Columns that can be safely ordinal encoded\n",
    "good_label_cols = [col for col in object_cols if \n",
    "                   set(X_valid[col]).issubset(set(X_train[col]))]\n",
    "        \n",
    "# Problematic columns that will be dropped from the dataset\n",
    "bad_label_cols = list(set(object_cols)-set(good_label_cols))\n",
    "        \n",
    "print('Categorical columns that will be ordinal encoded:', good_label_cols)\n",
    "print('\\nCategorical columns that will be dropped from the dataset:', bad_label_cols)"
   ]
  },
  {
   "cell_type": "markdown",
   "id": "87c6d63e",
   "metadata": {
    "papermill": {
     "duration": 0.024928,
     "end_time": "2021-08-28T06:10:41.115251",
     "exception": false,
     "start_time": "2021-08-28T06:10:41.090323",
     "status": "completed"
    },
    "tags": []
   },
   "source": [
    "### Part B\n",
    "\n",
    "Use the next code cell to ordinal encode the data in `X_train` and `X_valid`.  Set the preprocessed DataFrames to `label_X_train` and `label_X_valid`, respectively.  \n",
    "- We have provided code below to drop the categorical columns in `bad_label_cols` from the dataset. \n",
    "- You should ordinal encode the categorical columns in `good_label_cols`.  "
   ]
  },
  {
   "cell_type": "code",
   "execution_count": 12,
   "id": "f6db78c0",
   "metadata": {
    "execution": {
     "iopub.execute_input": "2021-08-28T06:10:41.172423Z",
     "iopub.status.busy": "2021-08-28T06:10:41.171570Z",
     "iopub.status.idle": "2021-08-28T06:10:41.218814Z",
     "shell.execute_reply": "2021-08-28T06:10:41.218249Z",
     "shell.execute_reply.started": "2021-08-28T05:51:06.948700Z"
    },
    "papermill": {
     "duration": 0.078198,
     "end_time": "2021-08-28T06:10:41.218948",
     "exception": false,
     "start_time": "2021-08-28T06:10:41.140750",
     "status": "completed"
    },
    "tags": []
   },
   "outputs": [
    {
     "data": {
      "application/javascript": [
       "parent.postMessage({\"jupyterEvent\": \"custom.exercise_interaction\", \"data\": {\"outcomeType\": 1, \"valueTowardsCompletion\": 0.5, \"interactionType\": 1, \"questionType\": 2, \"questionId\": \"2.2_LabelB\", \"learnToolsVersion\": \"0.3.4\", \"failureMessage\": \"\", \"exceptionClass\": \"\", \"trace\": \"\"}}, \"*\")"
      ],
      "text/plain": [
       "<IPython.core.display.Javascript object>"
      ]
     },
     "metadata": {},
     "output_type": "display_data"
    },
    {
     "data": {
      "text/markdown": [
       "<span style=\"color:#33cc33\">Correct</span>"
      ],
      "text/plain": [
       "Correct"
      ]
     },
     "metadata": {},
     "output_type": "display_data"
    }
   ],
   "source": [
    "from sklearn.preprocessing import OrdinalEncoder\n",
    "\n",
    "# Drop categorical columns that will not be encoded\n",
    "label_X_train = X_train.drop(bad_label_cols, axis=1)\n",
    "label_X_valid = X_valid.drop(bad_label_cols, axis=1)\n",
    "\n",
    "# Apply ordinal encoder \n",
    "ordinal_encoder = OrdinalEncoder() # Your code here\n",
    "label_X_train[good_label_cols] = ordinal_encoder.fit_transform(X_train[good_label_cols])\n",
    "label_X_valid[good_label_cols] = ordinal_encoder.transform(X_valid[good_label_cols])\n",
    "# Check your answer\n",
    "step_2.b.check()"
   ]
  },
  {
   "cell_type": "code",
   "execution_count": 13,
   "id": "1297f6ca",
   "metadata": {
    "execution": {
     "iopub.execute_input": "2021-08-28T06:10:41.276069Z",
     "iopub.status.busy": "2021-08-28T06:10:41.275501Z",
     "iopub.status.idle": "2021-08-28T06:10:41.279502Z",
     "shell.execute_reply": "2021-08-28T06:10:41.279968Z",
     "shell.execute_reply.started": "2021-08-28T05:35:02.135402Z"
    },
    "papermill": {
     "duration": 0.03468,
     "end_time": "2021-08-28T06:10:41.280119",
     "exception": false,
     "start_time": "2021-08-28T06:10:41.245439",
     "status": "completed"
    },
    "tags": []
   },
   "outputs": [
    {
     "data": {
      "application/javascript": [
       "parent.postMessage({\"jupyterEvent\": \"custom.exercise_interaction\", \"data\": {\"interactionType\": 3, \"questionType\": 2, \"questionId\": \"2.2_LabelB\", \"learnToolsVersion\": \"0.3.4\", \"valueTowardsCompletion\": 0.0, \"failureMessage\": \"\", \"exceptionClass\": \"\", \"trace\": \"\", \"outcomeType\": 4}}, \"*\")"
      ],
      "text/plain": [
       "<IPython.core.display.Javascript object>"
      ]
     },
     "metadata": {},
     "output_type": "display_data"
    },
    {
     "data": {
      "text/markdown": [
       "<span style=\"color:#33cc99\">Solution:</span> \n",
       "```python\n",
       "# Drop categorical columns that will not be encoded\n",
       "label_X_train = X_train.drop(bad_label_cols, axis=1)\n",
       "label_X_valid = X_valid.drop(bad_label_cols, axis=1)\n",
       "\n",
       "# Apply ordinal encoder\n",
       "ordinal_encoder = OrdinalEncoder()\n",
       "label_X_train[good_label_cols] = ordinal_encoder.fit_transform(X_train[good_label_cols])\n",
       "label_X_valid[good_label_cols] = ordinal_encoder.transform(X_valid[good_label_cols])\n",
       "\n",
       "```"
      ],
      "text/plain": [
       "Solution: \n",
       "```python\n",
       "# Drop categorical columns that will not be encoded\n",
       "label_X_train = X_train.drop(bad_label_cols, axis=1)\n",
       "label_X_valid = X_valid.drop(bad_label_cols, axis=1)\n",
       "\n",
       "# Apply ordinal encoder\n",
       "ordinal_encoder = OrdinalEncoder()\n",
       "label_X_train[good_label_cols] = ordinal_encoder.fit_transform(X_train[good_label_cols])\n",
       "label_X_valid[good_label_cols] = ordinal_encoder.transform(X_valid[good_label_cols])\n",
       "\n",
       "```"
      ]
     },
     "metadata": {},
     "output_type": "display_data"
    }
   ],
   "source": [
    "# Lines below will give you a hint or solution code\n",
    "#step_2.b.hint()\n",
    "step_2.b.solution()"
   ]
  },
  {
   "cell_type": "markdown",
   "id": "4fa5310c",
   "metadata": {
    "papermill": {
     "duration": 0.027119,
     "end_time": "2021-08-28T06:10:41.333925",
     "exception": false,
     "start_time": "2021-08-28T06:10:41.306806",
     "status": "completed"
    },
    "tags": []
   },
   "source": [
    "Run the next code cell to get the MAE for this approach."
   ]
  },
  {
   "cell_type": "code",
   "execution_count": 14,
   "id": "cd7ee8e5",
   "metadata": {
    "execution": {
     "iopub.execute_input": "2021-08-28T06:10:41.389666Z",
     "iopub.status.busy": "2021-08-28T06:10:41.389067Z",
     "iopub.status.idle": "2021-08-28T06:10:42.939682Z",
     "shell.execute_reply": "2021-08-28T06:10:42.940106Z",
     "shell.execute_reply.started": "2021-08-28T05:51:15.049095Z"
    },
    "papermill": {
     "duration": 1.579754,
     "end_time": "2021-08-28T06:10:42.940311",
     "exception": false,
     "start_time": "2021-08-28T06:10:41.360557",
     "status": "completed"
    },
    "tags": []
   },
   "outputs": [
    {
     "name": "stdout",
     "output_type": "stream",
     "text": [
      "MAE from Approach 2 (Ordinal Encoding):\n",
      "17098.01649543379\n"
     ]
    }
   ],
   "source": [
    "print(\"MAE from Approach 2 (Ordinal Encoding):\") \n",
    "print(score_dataset(label_X_train, label_X_valid, y_train, y_valid))"
   ]
  },
  {
   "cell_type": "markdown",
   "id": "644845f5",
   "metadata": {
    "papermill": {
     "duration": 0.027803,
     "end_time": "2021-08-28T06:10:42.995956",
     "exception": false,
     "start_time": "2021-08-28T06:10:42.968153",
     "status": "completed"
    },
    "tags": []
   },
   "source": [
    "So far, you've tried two different approaches to dealing with categorical variables.  And, you've seen that encoding categorical data yields better results than removing columns from the dataset.\n",
    "\n",
    "Soon, you'll try one-hot encoding.  Before then, there's one additional topic we need to cover.  Begin by running the next code cell without changes.  "
   ]
  },
  {
   "cell_type": "code",
   "execution_count": 15,
   "id": "067080be",
   "metadata": {
    "execution": {
     "iopub.execute_input": "2021-08-28T06:10:43.056327Z",
     "iopub.status.busy": "2021-08-28T06:10:43.055737Z",
     "iopub.status.idle": "2021-08-28T06:10:43.068462Z",
     "shell.execute_reply": "2021-08-28T06:10:43.068946Z",
     "shell.execute_reply.started": "2021-08-28T05:54:55.806280Z"
    },
    "papermill": {
     "duration": 0.046078,
     "end_time": "2021-08-28T06:10:43.069100",
     "exception": false,
     "start_time": "2021-08-28T06:10:43.023022",
     "status": "completed"
    },
    "tags": []
   },
   "outputs": [
    {
     "data": {
      "text/plain": [
       "[('Street', 2),\n",
       " ('Utilities', 2),\n",
       " ('CentralAir', 2),\n",
       " ('LandSlope', 3),\n",
       " ('PavedDrive', 3),\n",
       " ('LotShape', 4),\n",
       " ('LandContour', 4),\n",
       " ('ExterQual', 4),\n",
       " ('KitchenQual', 4),\n",
       " ('MSZoning', 5),\n",
       " ('LotConfig', 5),\n",
       " ('BldgType', 5),\n",
       " ('ExterCond', 5),\n",
       " ('HeatingQC', 5),\n",
       " ('Condition2', 6),\n",
       " ('RoofStyle', 6),\n",
       " ('Foundation', 6),\n",
       " ('Heating', 6),\n",
       " ('Functional', 6),\n",
       " ('SaleCondition', 6),\n",
       " ('RoofMatl', 7),\n",
       " ('HouseStyle', 8),\n",
       " ('Condition1', 9),\n",
       " ('SaleType', 9),\n",
       " ('Exterior1st', 15),\n",
       " ('Exterior2nd', 16),\n",
       " ('Neighborhood', 25)]"
      ]
     },
     "execution_count": 15,
     "metadata": {},
     "output_type": "execute_result"
    }
   ],
   "source": [
    "# Get number of unique entries in each column with categorical data\n",
    "object_nunique = list(map(lambda col: X_train[col].nunique(), object_cols))\n",
    "d = dict(zip(object_cols, object_nunique))\n",
    "\n",
    "# Print number of unique entries by column, in ascending order\n",
    "sorted(d.items(), key=lambda x: x[1])"
   ]
  },
  {
   "cell_type": "markdown",
   "id": "10a62e4f",
   "metadata": {
    "papermill": {
     "duration": 0.027471,
     "end_time": "2021-08-28T06:10:43.123899",
     "exception": false,
     "start_time": "2021-08-28T06:10:43.096428",
     "status": "completed"
    },
    "tags": []
   },
   "source": [
    "# Step 3: Investigating cardinality\n",
    "\n",
    "### Part A\n",
    "\n",
    "The output above shows, for each column with categorical data, the number of unique values in the column.  For instance, the `'Street'` column in the training data has two unique values: `'Grvl'` and `'Pave'`, corresponding to a gravel road and a paved road, respectively.\n",
    "\n",
    "We refer to the number of unique entries of a categorical variable as the **cardinality** of that categorical variable.  For instance, the `'Street'` variable has cardinality 2.\n",
    "\n",
    "Use the output above to answer the questions below."
   ]
  },
  {
   "cell_type": "code",
   "execution_count": 16,
   "id": "c63f03e3",
   "metadata": {
    "execution": {
     "iopub.execute_input": "2021-08-28T06:10:43.183775Z",
     "iopub.status.busy": "2021-08-28T06:10:43.182859Z",
     "iopub.status.idle": "2021-08-28T06:10:43.188314Z",
     "shell.execute_reply": "2021-08-28T06:10:43.187745Z",
     "shell.execute_reply.started": "2021-08-28T05:58:30.868779Z"
    },
    "papermill": {
     "duration": 0.037458,
     "end_time": "2021-08-28T06:10:43.188445",
     "exception": false,
     "start_time": "2021-08-28T06:10:43.150987",
     "status": "completed"
    },
    "tags": []
   },
   "outputs": [
    {
     "data": {
      "application/javascript": [
       "parent.postMessage({\"jupyterEvent\": \"custom.exercise_interaction\", \"data\": {\"outcomeType\": 1, \"valueTowardsCompletion\": 0.5, \"interactionType\": 1, \"questionType\": 1, \"questionId\": \"3.1_CardinalityA\", \"learnToolsVersion\": \"0.3.4\", \"failureMessage\": \"\", \"exceptionClass\": \"\", \"trace\": \"\"}}, \"*\")"
      ],
      "text/plain": [
       "<IPython.core.display.Javascript object>"
      ]
     },
     "metadata": {},
     "output_type": "display_data"
    },
    {
     "data": {
      "text/markdown": [
       "<span style=\"color:#33cc33\">Correct</span>"
      ],
      "text/plain": [
       "Correct"
      ]
     },
     "metadata": {},
     "output_type": "display_data"
    }
   ],
   "source": [
    "# Fill in the line below: How many categorical variables in the training data\n",
    "# have cardinality greater than 10?\n",
    "high_cardinality_numcols = 3\n",
    "\n",
    "# Fill in the line below: How many columns are needed to one-hot encode the \n",
    "# 'Neighborhood' variable in the training data?\n",
    "num_cols_neighborhood = 25\n",
    "\n",
    "# Check your answers\n",
    "step_3.a.check()"
   ]
  },
  {
   "cell_type": "code",
   "execution_count": 17,
   "id": "2a27d57b",
   "metadata": {
    "execution": {
     "iopub.execute_input": "2021-08-28T06:10:43.248770Z",
     "iopub.status.busy": "2021-08-28T06:10:43.248102Z",
     "iopub.status.idle": "2021-08-28T06:10:43.251028Z",
     "shell.execute_reply": "2021-08-28T06:10:43.250558Z"
    },
    "papermill": {
     "duration": 0.034364,
     "end_time": "2021-08-28T06:10:43.251158",
     "exception": false,
     "start_time": "2021-08-28T06:10:43.216794",
     "status": "completed"
    },
    "tags": []
   },
   "outputs": [],
   "source": [
    "# Lines below will give you a hint or solution code\n",
    "#step_3.a.hint()\n",
    "#step_3.a.solution()"
   ]
  },
  {
   "cell_type": "markdown",
   "id": "96cc14c7",
   "metadata": {
    "papermill": {
     "duration": 0.027667,
     "end_time": "2021-08-28T06:10:43.306642",
     "exception": false,
     "start_time": "2021-08-28T06:10:43.278975",
     "status": "completed"
    },
    "tags": []
   },
   "source": [
    "### Part B\n",
    "\n",
    "For large datasets with many rows, one-hot encoding can greatly expand the size of the dataset.  For this reason, we typically will only one-hot encode columns with relatively low cardinality.  Then, high cardinality columns can either be dropped from the dataset, or we can use ordinal encoding.\n",
    "\n",
    "As an example, consider a dataset with 10,000 rows, and containing one categorical column with 100 unique entries.  \n",
    "- If this column is replaced with the corresponding one-hot encoding, how many entries are added to the dataset?  \n",
    "- If we instead replace the column with the ordinal encoding, how many entries are added?  \n",
    "\n",
    "Use your answers to fill in the lines below."
   ]
  },
  {
   "cell_type": "code",
   "execution_count": 18,
   "id": "5f092848",
   "metadata": {
    "execution": {
     "iopub.execute_input": "2021-08-28T06:10:43.368492Z",
     "iopub.status.busy": "2021-08-28T06:10:43.367762Z",
     "iopub.status.idle": "2021-08-28T06:10:43.372604Z",
     "shell.execute_reply": "2021-08-28T06:10:43.373001Z",
     "shell.execute_reply.started": "2021-08-28T06:03:39.870234Z"
    },
    "papermill": {
     "duration": 0.03766,
     "end_time": "2021-08-28T06:10:43.373159",
     "exception": false,
     "start_time": "2021-08-28T06:10:43.335499",
     "status": "completed"
    },
    "tags": []
   },
   "outputs": [
    {
     "data": {
      "application/javascript": [
       "parent.postMessage({\"jupyterEvent\": \"custom.exercise_interaction\", \"data\": {\"outcomeType\": 1, \"valueTowardsCompletion\": 0.5, \"interactionType\": 1, \"questionType\": 1, \"questionId\": \"3.2_CardinalityB\", \"learnToolsVersion\": \"0.3.4\", \"failureMessage\": \"\", \"exceptionClass\": \"\", \"trace\": \"\"}}, \"*\")"
      ],
      "text/plain": [
       "<IPython.core.display.Javascript object>"
      ]
     },
     "metadata": {},
     "output_type": "display_data"
    },
    {
     "data": {
      "text/markdown": [
       "<span style=\"color:#33cc33\">Correct</span>"
      ],
      "text/plain": [
       "Correct"
      ]
     },
     "metadata": {},
     "output_type": "display_data"
    }
   ],
   "source": [
    "# Fill in the line below: How many entries are added to the dataset by \n",
    "# replacing the column with a one-hot encoding?\n",
    "OH_entries_added = 1e4*100-1e4\n",
    "\n",
    "# Fill in the line below: How many entries are added to the dataset by\n",
    "# replacing the column with an ordinal encoding?\n",
    "label_entries_added = 0\n",
    "\n",
    "# Check your answers\n",
    "step_3.b.check()"
   ]
  },
  {
   "cell_type": "code",
   "execution_count": 19,
   "id": "4ef54483",
   "metadata": {
    "execution": {
     "iopub.execute_input": "2021-08-28T06:10:43.433422Z",
     "iopub.status.busy": "2021-08-28T06:10:43.432519Z",
     "iopub.status.idle": "2021-08-28T06:10:43.439366Z",
     "shell.execute_reply": "2021-08-28T06:10:43.439769Z",
     "shell.execute_reply.started": "2021-08-28T06:02:27.178246Z"
    },
    "papermill": {
     "duration": 0.038315,
     "end_time": "2021-08-28T06:10:43.439927",
     "exception": false,
     "start_time": "2021-08-28T06:10:43.401612",
     "status": "completed"
    },
    "tags": []
   },
   "outputs": [
    {
     "data": {
      "application/javascript": [
       "parent.postMessage({\"jupyterEvent\": \"custom.exercise_interaction\", \"data\": {\"interactionType\": 3, \"questionType\": 1, \"questionId\": \"3.2_CardinalityB\", \"learnToolsVersion\": \"0.3.4\", \"valueTowardsCompletion\": 0.0, \"failureMessage\": \"\", \"exceptionClass\": \"\", \"trace\": \"\", \"outcomeType\": 4}}, \"*\")"
      ],
      "text/plain": [
       "<IPython.core.display.Javascript object>"
      ]
     },
     "metadata": {},
     "output_type": "display_data"
    },
    {
     "data": {
      "text/markdown": [
       "<span style=\"color:#33cc99\">Solution:</span> \n",
       "```python\n",
       "# How many entries are added to the dataset by\n",
       "# replacing the column with a one-hot encoding?\n",
       "OH_entries_added = 1e4*100 - 1e4\n",
       "\n",
       "# How many entries are added to the dataset by\n",
       "# replacing the column with an ordinal encoding?\n",
       "label_entries_added = 0\n",
       "\n",
       "```"
      ],
      "text/plain": [
       "Solution: \n",
       "```python\n",
       "# How many entries are added to the dataset by\n",
       "# replacing the column with a one-hot encoding?\n",
       "OH_entries_added = 1e4*100 - 1e4\n",
       "\n",
       "# How many entries are added to the dataset by\n",
       "# replacing the column with an ordinal encoding?\n",
       "label_entries_added = 0\n",
       "\n",
       "```"
      ]
     },
     "metadata": {},
     "output_type": "display_data"
    }
   ],
   "source": [
    "# Lines below will give you a hint or solution code\n",
    "#step_3.b.hint()\n",
    "step_3.b.solution()"
   ]
  },
  {
   "cell_type": "markdown",
   "id": "a494508d",
   "metadata": {
    "papermill": {
     "duration": 0.028851,
     "end_time": "2021-08-28T06:10:43.497800",
     "exception": false,
     "start_time": "2021-08-28T06:10:43.468949",
     "status": "completed"
    },
    "tags": []
   },
   "source": [
    "Next, you'll experiment with one-hot encoding.  But, instead of encoding all of the categorical variables in the dataset, you'll only create a one-hot encoding for columns with cardinality less than 10.\n",
    "\n",
    "Run the code cell below without changes to set `low_cardinality_cols` to a Python list containing the columns that will be one-hot encoded.  Likewise, `high_cardinality_cols` contains a list of categorical columns that will be dropped from the dataset."
   ]
  },
  {
   "cell_type": "code",
   "execution_count": 20,
   "id": "d8ae7d22",
   "metadata": {
    "execution": {
     "iopub.execute_input": "2021-08-28T06:10:43.558667Z",
     "iopub.status.busy": "2021-08-28T06:10:43.558072Z",
     "iopub.status.idle": "2021-08-28T06:10:43.572465Z",
     "shell.execute_reply": "2021-08-28T06:10:43.572946Z",
     "shell.execute_reply.started": "2021-08-28T06:09:47.481198Z"
    },
    "papermill": {
     "duration": 0.046279,
     "end_time": "2021-08-28T06:10:43.573104",
     "exception": false,
     "start_time": "2021-08-28T06:10:43.526825",
     "status": "completed"
    },
    "tags": []
   },
   "outputs": [
    {
     "name": "stdout",
     "output_type": "stream",
     "text": [
      "Categorical columns that will be one-hot encoded: ['MSZoning', 'Street', 'LotShape', 'LandContour', 'Utilities', 'LotConfig', 'LandSlope', 'Condition1', 'Condition2', 'BldgType', 'HouseStyle', 'RoofStyle', 'RoofMatl', 'ExterQual', 'ExterCond', 'Foundation', 'Heating', 'HeatingQC', 'CentralAir', 'KitchenQual', 'Functional', 'PavedDrive', 'SaleType', 'SaleCondition']\n",
      "\n",
      "Categorical columns that will be dropped from the dataset: ['Neighborhood', 'Exterior1st', 'Exterior2nd']\n"
     ]
    }
   ],
   "source": [
    "# Columns that will be one-hot encoded\n",
    "low_cardinality_cols = [col for col in object_cols if X_train[col].nunique() < 10]\n",
    "\n",
    "# Columns that will be dropped from the dataset\n",
    "high_cardinality_cols = list(set(object_cols)-set(low_cardinality_cols))\n",
    "\n",
    "print('Categorical columns that will be one-hot encoded:', low_cardinality_cols)\n",
    "print('\\nCategorical columns that will be dropped from the dataset:', high_cardinality_cols)"
   ]
  },
  {
   "cell_type": "markdown",
   "id": "a7d0c6b8",
   "metadata": {
    "papermill": {
     "duration": 0.029327,
     "end_time": "2021-08-28T06:10:43.632164",
     "exception": false,
     "start_time": "2021-08-28T06:10:43.602837",
     "status": "completed"
    },
    "tags": []
   },
   "source": [
    "# Step 4: One-hot encoding\n",
    "\n",
    "Use the next code cell to one-hot encode the data in `X_train` and `X_valid`.  Set the preprocessed DataFrames to `OH_X_train` and `OH_X_valid`, respectively.  \n",
    "- The full list of categorical columns in the dataset can be found in the Python list `object_cols`.\n",
    "- You should only one-hot encode the categorical columns in `low_cardinality_cols`.  All other categorical columns should be dropped from the dataset. "
   ]
  },
  {
   "cell_type": "code",
   "execution_count": 21,
   "id": "4fd1ac16",
   "metadata": {
    "execution": {
     "iopub.execute_input": "2021-08-28T06:10:43.694081Z",
     "iopub.status.busy": "2021-08-28T06:10:43.693511Z",
     "iopub.status.idle": "2021-08-28T06:10:43.726507Z",
     "shell.execute_reply": "2021-08-28T06:10:43.726965Z",
     "shell.execute_reply.started": "2021-08-28T06:10:04.002667Z"
    },
    "papermill": {
     "duration": 0.065337,
     "end_time": "2021-08-28T06:10:43.727139",
     "exception": false,
     "start_time": "2021-08-28T06:10:43.661802",
     "status": "completed"
    },
    "tags": []
   },
   "outputs": [
    {
     "data": {
      "application/javascript": [
       "parent.postMessage({\"jupyterEvent\": \"custom.exercise_interaction\", \"data\": {\"outcomeType\": 1, \"valueTowardsCompletion\": 0.5, \"interactionType\": 1, \"questionType\": 2, \"questionId\": \"4_OneHot\", \"learnToolsVersion\": \"0.3.4\", \"failureMessage\": \"\", \"exceptionClass\": \"\", \"trace\": \"\"}}, \"*\")"
      ],
      "text/plain": [
       "<IPython.core.display.Javascript object>"
      ]
     },
     "metadata": {},
     "output_type": "display_data"
    },
    {
     "data": {
      "text/markdown": [
       "<span style=\"color:#33cc33\">Correct</span>"
      ],
      "text/plain": [
       "Correct"
      ]
     },
     "metadata": {},
     "output_type": "display_data"
    }
   ],
   "source": [
    "from sklearn.preprocessing import OneHotEncoder\n",
    "\n",
    "# Use as many lines of code as you need!\n",
    "OH_encoder = OneHotEncoder(handle_unknown='ignore', sparse=False)\n",
    "OH_cols_train = pd.DataFrame(OH_encoder.fit_transform(X_train[low_cardinality_cols]))\n",
    "OH_cols_valid = pd.DataFrame(OH_encoder.transform(X_valid[low_cardinality_cols]))\n",
    "\n",
    "# One-hot encoding removed index; put it back\n",
    "OH_cols_train.index = X_train.index\n",
    "OH_cols_valid.index = X_valid.index\n",
    "\n",
    "# Remove categorical columns (will replace with one-hot encoding)\n",
    "num_X_train = X_train.drop(object_cols, axis=1)\n",
    "num_X_valid = X_valid.drop(object_cols, axis=1)\n",
    "\n",
    "OH_X_train = pd.concat([num_X_train, OH_cols_train], axis=1) # Your code here\n",
    "OH_X_valid = pd.concat([num_X_valid, OH_cols_valid], axis=1) # Your code here\n",
    "\n",
    "# Check your answer\n",
    "step_4.check()"
   ]
  },
  {
   "cell_type": "code",
   "execution_count": 22,
   "id": "3d6a0749",
   "metadata": {
    "execution": {
     "iopub.execute_input": "2021-08-28T06:10:43.793550Z",
     "iopub.status.busy": "2021-08-28T06:10:43.792914Z",
     "iopub.status.idle": "2021-08-28T06:10:43.798415Z",
     "shell.execute_reply": "2021-08-28T06:10:43.798897Z",
     "shell.execute_reply.started": "2021-08-28T06:07:06.510473Z"
    },
    "papermill": {
     "duration": 0.040046,
     "end_time": "2021-08-28T06:10:43.799050",
     "exception": false,
     "start_time": "2021-08-28T06:10:43.759004",
     "status": "completed"
    },
    "tags": []
   },
   "outputs": [
    {
     "data": {
      "application/javascript": [
       "parent.postMessage({\"jupyterEvent\": \"custom.exercise_interaction\", \"data\": {\"interactionType\": 3, \"questionType\": 2, \"questionId\": \"4_OneHot\", \"learnToolsVersion\": \"0.3.4\", \"valueTowardsCompletion\": 0.0, \"failureMessage\": \"\", \"exceptionClass\": \"\", \"trace\": \"\", \"outcomeType\": 4}}, \"*\")"
      ],
      "text/plain": [
       "<IPython.core.display.Javascript object>"
      ]
     },
     "metadata": {},
     "output_type": "display_data"
    },
    {
     "data": {
      "text/markdown": [
       "<span style=\"color:#33cc99\">Solution:</span> \n",
       "```python\n",
       "# Apply one-hot encoder to each column with categorical data\n",
       "OH_encoder = OneHotEncoder(handle_unknown='ignore', sparse=False)\n",
       "OH_cols_train = pd.DataFrame(OH_encoder.fit_transform(X_train[low_cardinality_cols]))\n",
       "OH_cols_valid = pd.DataFrame(OH_encoder.transform(X_valid[low_cardinality_cols]))\n",
       "\n",
       "# One-hot encoding removed index; put it back\n",
       "OH_cols_train.index = X_train.index\n",
       "OH_cols_valid.index = X_valid.index\n",
       "\n",
       "# Remove categorical columns (will replace with one-hot encoding)\n",
       "num_X_train = X_train.drop(object_cols, axis=1)\n",
       "num_X_valid = X_valid.drop(object_cols, axis=1)\n",
       "\n",
       "# Add one-hot encoded columns to numerical features\n",
       "OH_X_train = pd.concat([num_X_train, OH_cols_train], axis=1)\n",
       "OH_X_valid = pd.concat([num_X_valid, OH_cols_valid], axis=1)\n",
       "\n",
       "\n",
       "```"
      ],
      "text/plain": [
       "Solution: \n",
       "```python\n",
       "# Apply one-hot encoder to each column with categorical data\n",
       "OH_encoder = OneHotEncoder(handle_unknown='ignore', sparse=False)\n",
       "OH_cols_train = pd.DataFrame(OH_encoder.fit_transform(X_train[low_cardinality_cols]))\n",
       "OH_cols_valid = pd.DataFrame(OH_encoder.transform(X_valid[low_cardinality_cols]))\n",
       "\n",
       "# One-hot encoding removed index; put it back\n",
       "OH_cols_train.index = X_train.index\n",
       "OH_cols_valid.index = X_valid.index\n",
       "\n",
       "# Remove categorical columns (will replace with one-hot encoding)\n",
       "num_X_train = X_train.drop(object_cols, axis=1)\n",
       "num_X_valid = X_valid.drop(object_cols, axis=1)\n",
       "\n",
       "# Add one-hot encoded columns to numerical features\n",
       "OH_X_train = pd.concat([num_X_train, OH_cols_train], axis=1)\n",
       "OH_X_valid = pd.concat([num_X_valid, OH_cols_valid], axis=1)\n",
       "\n",
       "\n",
       "```"
      ]
     },
     "metadata": {},
     "output_type": "display_data"
    }
   ],
   "source": [
    "# Lines below will give you a hint or solution code\n",
    "#step_4.hint()\n",
    "step_4.solution()"
   ]
  },
  {
   "cell_type": "markdown",
   "id": "de4b8229",
   "metadata": {
    "papermill": {
     "duration": 0.030547,
     "end_time": "2021-08-28T06:10:43.860825",
     "exception": false,
     "start_time": "2021-08-28T06:10:43.830278",
     "status": "completed"
    },
    "tags": []
   },
   "source": [
    "Run the next code cell to get the MAE for this approach."
   ]
  },
  {
   "cell_type": "code",
   "execution_count": 23,
   "id": "955006e5",
   "metadata": {
    "execution": {
     "iopub.execute_input": "2021-08-28T06:10:43.925592Z",
     "iopub.status.busy": "2021-08-28T06:10:43.924999Z",
     "iopub.status.idle": "2021-08-28T06:10:45.850727Z",
     "shell.execute_reply": "2021-08-28T06:10:45.849954Z"
    },
    "papermill": {
     "duration": 1.959261,
     "end_time": "2021-08-28T06:10:45.850924",
     "exception": false,
     "start_time": "2021-08-28T06:10:43.891663",
     "status": "completed"
    },
    "tags": []
   },
   "outputs": [
    {
     "name": "stdout",
     "output_type": "stream",
     "text": [
      "MAE from Approach 3 (One-Hot Encoding):\n",
      "17525.345719178084\n"
     ]
    }
   ],
   "source": [
    "print(\"MAE from Approach 3 (One-Hot Encoding):\") \n",
    "print(score_dataset(OH_X_train, OH_X_valid, y_train, y_valid))"
   ]
  },
  {
   "cell_type": "markdown",
   "id": "4da186ac",
   "metadata": {
    "papermill": {
     "duration": 0.031183,
     "end_time": "2021-08-28T06:10:45.914070",
     "exception": false,
     "start_time": "2021-08-28T06:10:45.882887",
     "status": "completed"
    },
    "tags": []
   },
   "source": [
    "# Generate test predictions and submit your results\n",
    "\n",
    "After you complete Step 4, if you'd like to use what you've learned to submit your results to the leaderboard, you'll need to preprocess the test data before generating predictions.\n",
    "\n",
    "**This step is completely optional, and you do not need to submit results to the leaderboard to successfully complete the exercise.**\n",
    "\n",
    "Check out the previous exercise if you need help with remembering how to [join the competition](https://www.kaggle.com/c/home-data-for-ml-course) or save your results to CSV.  Once you have generated a file with your results, follow the instructions below:\n",
    "1. Begin by clicking on the **Save Version** button in the top right corner of the window.  This will generate a pop-up window.  \n",
    "2. Ensure that the **Save and Run All** option is selected, and then click on the **Save** button.\n",
    "3. This generates a window in the bottom left corner of the notebook.  After it has finished running, click on the number to the right of the **Save Version** button.  This pulls up a list of versions on the right of the screen.  Click on the ellipsis **(...)** to the right of the most recent version, and select **Open in Viewer**.  This brings you into view mode of the same page. You will need to scroll down to get back to these instructions.\n",
    "4. Click on the **Output** tab on the right of the screen.  Then, click on the file you would like to submit, and click on the blue **Submit** button to submit your results to the leaderboard.\n",
    "\n",
    "You have now successfully submitted to the competition!\n",
    "\n",
    "If you want to keep working to improve your performance, select the **Edit** button in the top right of the screen. Then you can change your code and repeat the process. There's a lot of room to improve, and you will climb up the leaderboard as you work.\n"
   ]
  },
  {
   "cell_type": "code",
   "execution_count": 24,
   "id": "ce40753e",
   "metadata": {
    "execution": {
     "iopub.execute_input": "2021-08-28T06:10:45.980487Z",
     "iopub.status.busy": "2021-08-28T06:10:45.979925Z",
     "iopub.status.idle": "2021-08-28T06:10:45.982063Z",
     "shell.execute_reply": "2021-08-28T06:10:45.982584Z"
    },
    "papermill": {
     "duration": 0.037444,
     "end_time": "2021-08-28T06:10:45.982741",
     "exception": false,
     "start_time": "2021-08-28T06:10:45.945297",
     "status": "completed"
    },
    "tags": []
   },
   "outputs": [],
   "source": [
    "# (Optional) Your code here"
   ]
  },
  {
   "cell_type": "markdown",
   "id": "223dc92e",
   "metadata": {
    "papermill": {
     "duration": 0.03095,
     "end_time": "2021-08-28T06:10:46.045153",
     "exception": false,
     "start_time": "2021-08-28T06:10:46.014203",
     "status": "completed"
    },
    "tags": []
   },
   "source": [
    "# Keep going\n",
    "\n",
    "With missing value handling and categorical encoding, your modeling process is getting complex. This complexity gets worse when you want to save your model to use in the future. The key to managing this complexity is something called **pipelines**. \n",
    "\n",
    "**[Learn to use pipelines](https://www.kaggle.com/alexisbcook/pipelines)** to preprocess datasets with categorical variables, missing values and any other messiness your data throws at you."
   ]
  },
  {
   "cell_type": "markdown",
   "id": "e67a9582",
   "metadata": {
    "papermill": {
     "duration": 0.031381,
     "end_time": "2021-08-28T06:10:46.107861",
     "exception": false,
     "start_time": "2021-08-28T06:10:46.076480",
     "status": "completed"
    },
    "tags": []
   },
   "source": [
    "---\n",
    "\n",
    "\n",
    "\n",
    "\n",
    "*Have questions or comments? Visit the [Learn Discussion forum](https://www.kaggle.com/learn-forum/161289) to chat with other Learners.*"
   ]
  }
 ],
 "metadata": {
  "kernelspec": {
   "display_name": "Python 3",
   "language": "python",
   "name": "python3"
  },
  "language_info": {
   "codemirror_mode": {
    "name": "ipython",
    "version": 3
   },
   "file_extension": ".py",
   "mimetype": "text/x-python",
   "name": "python",
   "nbconvert_exporter": "python",
   "pygments_lexer": "ipython3",
   "version": "3.7.10"
  },
  "papermill": {
   "default_parameters": {},
   "duration": 16.303531,
   "end_time": "2021-08-28T06:10:46.849881",
   "environment_variables": {},
   "exception": null,
   "input_path": "__notebook__.ipynb",
   "output_path": "__notebook__.ipynb",
   "parameters": {},
   "start_time": "2021-08-28T06:10:30.546350",
   "version": "2.3.3"
  }
 },
 "nbformat": 4,
 "nbformat_minor": 5
}

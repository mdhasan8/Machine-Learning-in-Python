{
 "cells": [
  {
   "cell_type": "code",
   "execution_count": 1,
   "id": "cead044e",
   "metadata": {
    "_cell_guid": "b1076dfc-b9ad-4769-8c92-a6c4dae69d19",
    "_uuid": "8f2839f25d086af736a60e9eeb907d3b93b6e0e5",
    "execution": {
     "iopub.execute_input": "2021-11-24T18:21:14.685129Z",
     "iopub.status.busy": "2021-11-24T18:21:14.684388Z",
     "iopub.status.idle": "2021-11-24T18:21:14.705832Z",
     "shell.execute_reply": "2021-11-24T18:21:14.705010Z",
     "shell.execute_reply.started": "2021-11-24T17:17:58.673405Z"
    },
    "papermill": {
     "duration": 0.05825,
     "end_time": "2021-11-24T18:21:14.706015",
     "exception": false,
     "start_time": "2021-11-24T18:21:14.647765",
     "status": "completed"
    },
    "tags": []
   },
   "outputs": [
    {
     "name": "stdout",
     "output_type": "stream",
     "text": [
      "/kaggle/input/gene-expression/data_set_ALL_AML_independent.csv\n",
      "/kaggle/input/gene-expression/data_set_ALL_AML_train.csv\n",
      "/kaggle/input/gene-expression/actual.csv\n"
     ]
    }
   ],
   "source": [
    "# This Python 3 environment comes with many helpful analytics libraries installed\n",
    "# It is defined by the kaggle/python Docker image: https://github.com/kaggle/docker-python\n",
    "# For example, here's several helpful packages to load\n",
    "\n",
    "import numpy as np # linear algebra\n",
    "import pandas as pd # data processing, CSV file I/O (e.g. pd.read_csv)\n",
    "\n",
    "# Input data files are available in the read-only \"../input/\" directory\n",
    "# For example, running this (by clicking run or pressing Shift+Enter) will list all files under the input directory\n",
    "\n",
    "import os\n",
    "for dirname, _, filenames in os.walk('/kaggle/input'):\n",
    "    for filename in filenames:\n",
    "        print(os.path.join(dirname, filename))\n",
    "\n",
    "# You can write up to 20GB to the current directory (/kaggle/working/) that gets preserved as output when you create a version using \"Save & Run All\" \n",
    "# You can also write temporary files to /kaggle/temp/, but they won't be saved outside of the current session"
   ]
  },
  {
   "cell_type": "code",
   "execution_count": 2,
   "id": "5451122f",
   "metadata": {
    "execution": {
     "iopub.execute_input": "2021-11-24T18:21:14.751318Z",
     "iopub.status.busy": "2021-11-24T18:21:14.750342Z",
     "iopub.status.idle": "2021-11-24T18:21:21.713818Z",
     "shell.execute_reply": "2021-11-24T18:21:21.714477Z",
     "shell.execute_reply.started": "2021-11-24T17:18:53.398983Z"
    },
    "papermill": {
     "duration": 6.988517,
     "end_time": "2021-11-24T18:21:21.714689",
     "exception": false,
     "start_time": "2021-11-24T18:21:14.726172",
     "status": "completed"
    },
    "tags": []
   },
   "outputs": [],
   "source": [
    "import numpy as np\n",
    "np.random.seed(0)\n",
    "from tensorflow.random import set_seed\n",
    "set_seed(0)\n",
    "\n",
    "import pandas as pd\n",
    "from tensorflow import keras\n",
    "from sklearn.preprocessing import StandardScaler\n",
    "from sklearn.decomposition import PCA\n",
    "from tensorflow.keras import layers\n",
    "from sklearn.metrics import accuracy_score, confusion_matrix\n",
    "import matplotlib.pyplot as plt\n",
    "import seaborn as sns\n",
    "from mpl_toolkits.mplot3d import Axes3D"
   ]
  },
  {
   "cell_type": "code",
   "execution_count": 3,
   "id": "11cf35d9",
   "metadata": {
    "execution": {
     "iopub.execute_input": "2021-11-24T18:21:21.765648Z",
     "iopub.status.busy": "2021-11-24T18:21:21.764792Z",
     "iopub.status.idle": "2021-11-24T18:21:21.797582Z",
     "shell.execute_reply": "2021-11-24T18:21:21.798236Z",
     "shell.execute_reply.started": "2021-11-24T17:20:29.662949Z"
    },
    "papermill": {
     "duration": 0.063334,
     "end_time": "2021-11-24T18:21:21.798486",
     "exception": false,
     "start_time": "2021-11-24T18:21:21.735152",
     "status": "completed"
    },
    "tags": []
   },
   "outputs": [
    {
     "data": {
      "text/plain": [
       "(72, 2)"
      ]
     },
     "execution_count": 3,
     "metadata": {},
     "output_type": "execute_result"
    }
   ],
   "source": [
    "actual_df = pd.read_csv('../input/gene-expression/actual.csv')\n",
    "actual_df.head()\n",
    "actual_df.shape"
   ]
  },
  {
   "cell_type": "code",
   "execution_count": 4,
   "id": "b5231752",
   "metadata": {
    "execution": {
     "iopub.execute_input": "2021-11-24T18:21:21.845612Z",
     "iopub.status.busy": "2021-11-24T18:21:21.844904Z",
     "iopub.status.idle": "2021-11-24T18:21:21.862328Z",
     "shell.execute_reply": "2021-11-24T18:21:21.862984Z",
     "shell.execute_reply.started": "2021-11-24T17:21:04.334046Z"
    },
    "papermill": {
     "duration": 0.042292,
     "end_time": "2021-11-24T18:21:21.863204",
     "exception": false,
     "start_time": "2021-11-24T18:21:21.820912",
     "status": "completed"
    },
    "tags": []
   },
   "outputs": [
    {
     "data": {
      "text/plain": [
       "ALL    47\n",
       "AML    25\n",
       "Name: cancer, dtype: int64"
      ]
     },
     "execution_count": 4,
     "metadata": {},
     "output_type": "execute_result"
    }
   ],
   "source": [
    "actual_df['cancer'].value_counts()"
   ]
  },
  {
   "cell_type": "code",
   "execution_count": 5,
   "id": "280cd87a",
   "metadata": {
    "execution": {
     "iopub.execute_input": "2021-11-24T18:21:21.910388Z",
     "iopub.status.busy": "2021-11-24T18:21:21.909702Z",
     "iopub.status.idle": "2021-11-24T18:21:21.918192Z",
     "shell.execute_reply": "2021-11-24T18:21:21.918846Z",
     "shell.execute_reply.started": "2021-11-24T17:22:07.098368Z"
    },
    "papermill": {
     "duration": 0.034464,
     "end_time": "2021-11-24T18:21:21.919022",
     "exception": false,
     "start_time": "2021-11-24T18:21:21.884558",
     "status": "completed"
    },
    "tags": []
   },
   "outputs": [],
   "source": [
    "y = actual_df.replace({'ALL':0, 'AML':1})\n",
    "y = y.set_index('patient')\n",
    "labels = ['ALL', 'AML']"
   ]
  },
  {
   "cell_type": "code",
   "execution_count": 6,
   "id": "f3f403e5",
   "metadata": {
    "execution": {
     "iopub.execute_input": "2021-11-24T18:21:21.967409Z",
     "iopub.status.busy": "2021-11-24T18:21:21.964866Z",
     "iopub.status.idle": "2021-11-24T18:21:21.970290Z",
     "shell.execute_reply": "2021-11-24T18:21:21.971060Z",
     "shell.execute_reply.started": "2021-11-24T18:07:28.931288Z"
    },
    "papermill": {
     "duration": 0.03082,
     "end_time": "2021-11-24T18:21:21.971227",
     "exception": false,
     "start_time": "2021-11-24T18:21:21.940407",
     "status": "completed"
    },
    "tags": []
   },
   "outputs": [
    {
     "data": {
      "text/plain": [
       "pandas.core.frame.DataFrame"
      ]
     },
     "execution_count": 6,
     "metadata": {},
     "output_type": "execute_result"
    }
   ],
   "source": [
    "y.shape\n",
    "y.head()\n",
    "type(y)"
   ]
  },
  {
   "cell_type": "code",
   "execution_count": 7,
   "id": "baff38e3",
   "metadata": {
    "execution": {
     "iopub.execute_input": "2021-11-24T18:21:22.020109Z",
     "iopub.status.busy": "2021-11-24T18:21:22.019091Z",
     "iopub.status.idle": "2021-11-24T18:21:22.252006Z",
     "shell.execute_reply": "2021-11-24T18:21:22.251297Z",
     "shell.execute_reply.started": "2021-11-24T17:41:33.291221Z"
    },
    "papermill": {
     "duration": 0.258969,
     "end_time": "2021-11-24T18:21:22.252231",
     "exception": false,
     "start_time": "2021-11-24T18:21:21.993262",
     "status": "completed"
    },
    "tags": []
   },
   "outputs": [],
   "source": [
    "train_df = pd.read_csv('../input/gene-expression/data_set_ALL_AML_train.csv')\n",
    "test_df = pd.read_csv('../input/gene-expression/data_set_ALL_AML_independent.csv')"
   ]
  },
  {
   "cell_type": "code",
   "execution_count": 8,
   "id": "6d1248b5",
   "metadata": {
    "execution": {
     "iopub.execute_input": "2021-11-24T18:21:22.301623Z",
     "iopub.status.busy": "2021-11-24T18:21:22.300592Z",
     "iopub.status.idle": "2021-11-24T18:21:22.306303Z",
     "shell.execute_reply": "2021-11-24T18:21:22.307104Z",
     "shell.execute_reply.started": "2021-11-24T17:42:38.768778Z"
    },
    "papermill": {
     "duration": 0.031103,
     "end_time": "2021-11-24T18:21:22.307323",
     "exception": false,
     "start_time": "2021-11-24T18:21:22.276220",
     "status": "completed"
    },
    "tags": []
   },
   "outputs": [
    {
     "name": "stdout",
     "output_type": "stream",
     "text": [
      "Shape of Training Data:  (7129, 78)\n",
      "Shape of Testing Data:  (7129, 70)\n"
     ]
    }
   ],
   "source": [
    "print(\"Shape of Training Data: \", train_df.shape)\n",
    "print(\"Shape of Testing Data: \", test_df.shape)"
   ]
  },
  {
   "cell_type": "code",
   "execution_count": 9,
   "id": "f3d176bb",
   "metadata": {
    "execution": {
     "iopub.execute_input": "2021-11-24T18:21:22.357745Z",
     "iopub.status.busy": "2021-11-24T18:21:22.356911Z",
     "iopub.status.idle": "2021-11-24T18:21:22.390546Z",
     "shell.execute_reply": "2021-11-24T18:21:22.390035Z",
     "shell.execute_reply.started": "2021-11-24T17:43:08.834020Z"
    },
    "papermill": {
     "duration": 0.059015,
     "end_time": "2021-11-24T18:21:22.390709",
     "exception": false,
     "start_time": "2021-11-24T18:21:22.331694",
     "status": "completed"
    },
    "tags": []
   },
   "outputs": [
    {
     "data": {
      "text/html": [
       "<div>\n",
       "<style scoped>\n",
       "    .dataframe tbody tr th:only-of-type {\n",
       "        vertical-align: middle;\n",
       "    }\n",
       "\n",
       "    .dataframe tbody tr th {\n",
       "        vertical-align: top;\n",
       "    }\n",
       "\n",
       "    .dataframe thead th {\n",
       "        text-align: right;\n",
       "    }\n",
       "</style>\n",
       "<table border=\"1\" class=\"dataframe\">\n",
       "  <thead>\n",
       "    <tr style=\"text-align: right;\">\n",
       "      <th></th>\n",
       "      <th>Gene Description</th>\n",
       "      <th>Gene Accession Number</th>\n",
       "      <th>1</th>\n",
       "      <th>call</th>\n",
       "      <th>2</th>\n",
       "      <th>call.1</th>\n",
       "      <th>3</th>\n",
       "      <th>call.2</th>\n",
       "      <th>4</th>\n",
       "      <th>call.3</th>\n",
       "      <th>...</th>\n",
       "      <th>29</th>\n",
       "      <th>call.33</th>\n",
       "      <th>30</th>\n",
       "      <th>call.34</th>\n",
       "      <th>31</th>\n",
       "      <th>call.35</th>\n",
       "      <th>32</th>\n",
       "      <th>call.36</th>\n",
       "      <th>33</th>\n",
       "      <th>call.37</th>\n",
       "    </tr>\n",
       "  </thead>\n",
       "  <tbody>\n",
       "    <tr>\n",
       "      <th>0</th>\n",
       "      <td>AFFX-BioB-5_at (endogenous control)</td>\n",
       "      <td>AFFX-BioB-5_at</td>\n",
       "      <td>-214</td>\n",
       "      <td>A</td>\n",
       "      <td>-139</td>\n",
       "      <td>A</td>\n",
       "      <td>-76</td>\n",
       "      <td>A</td>\n",
       "      <td>-135</td>\n",
       "      <td>A</td>\n",
       "      <td>...</td>\n",
       "      <td>15</td>\n",
       "      <td>A</td>\n",
       "      <td>-318</td>\n",
       "      <td>A</td>\n",
       "      <td>-32</td>\n",
       "      <td>A</td>\n",
       "      <td>-124</td>\n",
       "      <td>A</td>\n",
       "      <td>-135</td>\n",
       "      <td>A</td>\n",
       "    </tr>\n",
       "    <tr>\n",
       "      <th>1</th>\n",
       "      <td>AFFX-BioB-M_at (endogenous control)</td>\n",
       "      <td>AFFX-BioB-M_at</td>\n",
       "      <td>-153</td>\n",
       "      <td>A</td>\n",
       "      <td>-73</td>\n",
       "      <td>A</td>\n",
       "      <td>-49</td>\n",
       "      <td>A</td>\n",
       "      <td>-114</td>\n",
       "      <td>A</td>\n",
       "      <td>...</td>\n",
       "      <td>-114</td>\n",
       "      <td>A</td>\n",
       "      <td>-192</td>\n",
       "      <td>A</td>\n",
       "      <td>-49</td>\n",
       "      <td>A</td>\n",
       "      <td>-79</td>\n",
       "      <td>A</td>\n",
       "      <td>-186</td>\n",
       "      <td>A</td>\n",
       "    </tr>\n",
       "    <tr>\n",
       "      <th>2</th>\n",
       "      <td>AFFX-BioB-3_at (endogenous control)</td>\n",
       "      <td>AFFX-BioB-3_at</td>\n",
       "      <td>-58</td>\n",
       "      <td>A</td>\n",
       "      <td>-1</td>\n",
       "      <td>A</td>\n",
       "      <td>-307</td>\n",
       "      <td>A</td>\n",
       "      <td>265</td>\n",
       "      <td>A</td>\n",
       "      <td>...</td>\n",
       "      <td>2</td>\n",
       "      <td>A</td>\n",
       "      <td>-95</td>\n",
       "      <td>A</td>\n",
       "      <td>49</td>\n",
       "      <td>A</td>\n",
       "      <td>-37</td>\n",
       "      <td>A</td>\n",
       "      <td>-70</td>\n",
       "      <td>A</td>\n",
       "    </tr>\n",
       "    <tr>\n",
       "      <th>3</th>\n",
       "      <td>AFFX-BioC-5_at (endogenous control)</td>\n",
       "      <td>AFFX-BioC-5_at</td>\n",
       "      <td>88</td>\n",
       "      <td>A</td>\n",
       "      <td>283</td>\n",
       "      <td>A</td>\n",
       "      <td>309</td>\n",
       "      <td>A</td>\n",
       "      <td>12</td>\n",
       "      <td>A</td>\n",
       "      <td>...</td>\n",
       "      <td>193</td>\n",
       "      <td>A</td>\n",
       "      <td>312</td>\n",
       "      <td>A</td>\n",
       "      <td>230</td>\n",
       "      <td>P</td>\n",
       "      <td>330</td>\n",
       "      <td>A</td>\n",
       "      <td>337</td>\n",
       "      <td>A</td>\n",
       "    </tr>\n",
       "    <tr>\n",
       "      <th>4</th>\n",
       "      <td>AFFX-BioC-3_at (endogenous control)</td>\n",
       "      <td>AFFX-BioC-3_at</td>\n",
       "      <td>-295</td>\n",
       "      <td>A</td>\n",
       "      <td>-264</td>\n",
       "      <td>A</td>\n",
       "      <td>-376</td>\n",
       "      <td>A</td>\n",
       "      <td>-419</td>\n",
       "      <td>A</td>\n",
       "      <td>...</td>\n",
       "      <td>-51</td>\n",
       "      <td>A</td>\n",
       "      <td>-139</td>\n",
       "      <td>A</td>\n",
       "      <td>-367</td>\n",
       "      <td>A</td>\n",
       "      <td>-188</td>\n",
       "      <td>A</td>\n",
       "      <td>-407</td>\n",
       "      <td>A</td>\n",
       "    </tr>\n",
       "  </tbody>\n",
       "</table>\n",
       "<p>5 rows × 78 columns</p>\n",
       "</div>"
      ],
      "text/plain": [
       "                      Gene Description Gene Accession Number    1 call    2  \\\n",
       "0  AFFX-BioB-5_at (endogenous control)        AFFX-BioB-5_at -214    A -139   \n",
       "1  AFFX-BioB-M_at (endogenous control)        AFFX-BioB-M_at -153    A  -73   \n",
       "2  AFFX-BioB-3_at (endogenous control)        AFFX-BioB-3_at  -58    A   -1   \n",
       "3  AFFX-BioC-5_at (endogenous control)        AFFX-BioC-5_at   88    A  283   \n",
       "4  AFFX-BioC-3_at (endogenous control)        AFFX-BioC-3_at -295    A -264   \n",
       "\n",
       "  call.1    3 call.2    4 call.3  ...   29 call.33   30 call.34   31 call.35  \\\n",
       "0      A  -76      A -135      A  ...   15       A -318       A  -32       A   \n",
       "1      A  -49      A -114      A  ... -114       A -192       A  -49       A   \n",
       "2      A -307      A  265      A  ...    2       A  -95       A   49       A   \n",
       "3      A  309      A   12      A  ...  193       A  312       A  230       P   \n",
       "4      A -376      A -419      A  ...  -51       A -139       A -367       A   \n",
       "\n",
       "    32 call.36   33 call.37  \n",
       "0 -124       A -135       A  \n",
       "1  -79       A -186       A  \n",
       "2  -37       A  -70       A  \n",
       "3  330       A  337       A  \n",
       "4 -188       A -407       A  \n",
       "\n",
       "[5 rows x 78 columns]"
      ]
     },
     "execution_count": 9,
     "metadata": {},
     "output_type": "execute_result"
    }
   ],
   "source": [
    "train_df.head()"
   ]
  },
  {
   "cell_type": "code",
   "execution_count": 10,
   "id": "a45f84b5",
   "metadata": {
    "execution": {
     "iopub.execute_input": "2021-11-24T18:21:22.446063Z",
     "iopub.status.busy": "2021-11-24T18:21:22.444965Z",
     "iopub.status.idle": "2021-11-24T18:21:22.450702Z",
     "shell.execute_reply": "2021-11-24T18:21:22.451295Z",
     "shell.execute_reply.started": "2021-11-24T17:53:55.466461Z"
    },
    "papermill": {
     "duration": 0.037263,
     "end_time": "2021-11-24T18:21:22.451463",
     "exception": false,
     "start_time": "2021-11-24T18:21:22.414200",
     "status": "completed"
    },
    "tags": []
   },
   "outputs": [
    {
     "name": "stdout",
     "output_type": "stream",
     "text": [
      "['Gene Description', 'Gene Accession Number', '1', '2', '3', '4', '5', '6', '7', '8', '9', '10', '11', '12', '13', '14', '15', '16', '17', '18', '19', '20', '21', '22', '23', '24', '25', '26', '27', '34', '35', '36', '37', '38', '28', '29', '30', '31', '32', '33']\n"
     ]
    }
   ],
   "source": [
    "#train_to_keep=[col for col in train_df.columns if \"call\" not in col]\n",
    "train_to_keep = []\n",
    "for col in train_df.columns:\n",
    "    if \"call\" not in col:\n",
    "        train_to_keep.append(col)\n",
    "\n",
    "\n",
    "test_to_keep=[col for col in test_df.columns if \"call\" not in col]\n",
    "print(train_to_keep)\n",
    "\n",
    "X_train = train_df[train_to_keep]\n",
    "X_test = test_df[test_to_keep]\n"
   ]
  },
  {
   "cell_type": "code",
   "execution_count": 11,
   "id": "dbc6b06e",
   "metadata": {
    "execution": {
     "iopub.execute_input": "2021-11-24T18:21:22.499262Z",
     "iopub.status.busy": "2021-11-24T18:21:22.498208Z",
     "iopub.status.idle": "2021-11-24T18:21:22.503960Z",
     "shell.execute_reply": "2021-11-24T18:21:22.504540Z",
     "shell.execute_reply.started": "2021-11-24T17:55:05.159528Z"
    },
    "papermill": {
     "duration": 0.031666,
     "end_time": "2021-11-24T18:21:22.504729",
     "exception": false,
     "start_time": "2021-11-24T18:21:22.473063",
     "status": "completed"
    },
    "tags": []
   },
   "outputs": [
    {
     "data": {
      "text/plain": [
       "(7129, 40)"
      ]
     },
     "execution_count": 11,
     "metadata": {},
     "output_type": "execute_result"
    }
   ],
   "source": [
    "X_train.head()\n",
    "X_train.shape"
   ]
  },
  {
   "cell_type": "code",
   "execution_count": 12,
   "id": "527a0c4f",
   "metadata": {
    "execution": {
     "iopub.execute_input": "2021-11-24T18:21:22.555168Z",
     "iopub.status.busy": "2021-11-24T18:21:22.554215Z",
     "iopub.status.idle": "2021-11-24T18:21:22.993872Z",
     "shell.execute_reply": "2021-11-24T18:21:22.993089Z",
     "shell.execute_reply.started": "2021-11-24T17:56:58.937636Z"
    },
    "papermill": {
     "duration": 0.465571,
     "end_time": "2021-11-24T18:21:22.994028",
     "exception": false,
     "start_time": "2021-11-24T18:21:22.528457",
     "status": "completed"
    },
    "tags": []
   },
   "outputs": [],
   "source": [
    "X_train = X_train.T\n",
    "X_test = X_test.T"
   ]
  },
  {
   "cell_type": "code",
   "execution_count": 13,
   "id": "ff8767b8",
   "metadata": {
    "execution": {
     "iopub.execute_input": "2021-11-24T18:21:23.040309Z",
     "iopub.status.busy": "2021-11-24T18:21:23.039349Z",
     "iopub.status.idle": "2021-11-24T18:21:23.063420Z",
     "shell.execute_reply": "2021-11-24T18:21:23.062878Z",
     "shell.execute_reply.started": "2021-11-24T17:57:33.661951Z"
    },
    "papermill": {
     "duration": 0.048314,
     "end_time": "2021-11-24T18:21:23.063565",
     "exception": false,
     "start_time": "2021-11-24T18:21:23.015251",
     "status": "completed"
    },
    "tags": []
   },
   "outputs": [
    {
     "data": {
      "text/html": [
       "<div>\n",
       "<style scoped>\n",
       "    .dataframe tbody tr th:only-of-type {\n",
       "        vertical-align: middle;\n",
       "    }\n",
       "\n",
       "    .dataframe tbody tr th {\n",
       "        vertical-align: top;\n",
       "    }\n",
       "\n",
       "    .dataframe thead th {\n",
       "        text-align: right;\n",
       "    }\n",
       "</style>\n",
       "<table border=\"1\" class=\"dataframe\">\n",
       "  <thead>\n",
       "    <tr style=\"text-align: right;\">\n",
       "      <th></th>\n",
       "      <th>0</th>\n",
       "      <th>1</th>\n",
       "      <th>2</th>\n",
       "      <th>3</th>\n",
       "      <th>4</th>\n",
       "      <th>5</th>\n",
       "      <th>6</th>\n",
       "      <th>7</th>\n",
       "      <th>8</th>\n",
       "      <th>9</th>\n",
       "      <th>...</th>\n",
       "      <th>7119</th>\n",
       "      <th>7120</th>\n",
       "      <th>7121</th>\n",
       "      <th>7122</th>\n",
       "      <th>7123</th>\n",
       "      <th>7124</th>\n",
       "      <th>7125</th>\n",
       "      <th>7126</th>\n",
       "      <th>7127</th>\n",
       "      <th>7128</th>\n",
       "    </tr>\n",
       "  </thead>\n",
       "  <tbody>\n",
       "    <tr>\n",
       "      <th>Gene Description</th>\n",
       "      <td>AFFX-BioB-5_at (endogenous control)</td>\n",
       "      <td>AFFX-BioB-M_at (endogenous control)</td>\n",
       "      <td>AFFX-BioB-3_at (endogenous control)</td>\n",
       "      <td>AFFX-BioC-5_at (endogenous control)</td>\n",
       "      <td>AFFX-BioC-3_at (endogenous control)</td>\n",
       "      <td>AFFX-BioDn-5_at (endogenous control)</td>\n",
       "      <td>AFFX-BioDn-3_at (endogenous control)</td>\n",
       "      <td>AFFX-CreX-5_at (endogenous control)</td>\n",
       "      <td>AFFX-CreX-3_at (endogenous control)</td>\n",
       "      <td>AFFX-BioB-5_st (endogenous control)</td>\n",
       "      <td>...</td>\n",
       "      <td>Transcription factor Stat5b (stat5b) mRNA</td>\n",
       "      <td>Breast epithelial antigen BA46 mRNA</td>\n",
       "      <td>GB DEF = Calcium/calmodulin-dependent protein ...</td>\n",
       "      <td>TUBULIN ALPHA-4 CHAIN</td>\n",
       "      <td>CYP4B1 Cytochrome P450; subfamily IVB; polypep...</td>\n",
       "      <td>PTGER3 Prostaglandin E receptor 3 (subtype EP3...</td>\n",
       "      <td>HMG2 High-mobility group (nonhistone chromosom...</td>\n",
       "      <td>RB1 Retinoblastoma 1 (including osteosarcoma)</td>\n",
       "      <td>GB DEF = Glycophorin Sta (type A) exons 3 and ...</td>\n",
       "      <td>GB DEF = mRNA (clone 1A7)</td>\n",
       "    </tr>\n",
       "    <tr>\n",
       "      <th>Gene Accession Number</th>\n",
       "      <td>AFFX-BioB-5_at</td>\n",
       "      <td>AFFX-BioB-M_at</td>\n",
       "      <td>AFFX-BioB-3_at</td>\n",
       "      <td>AFFX-BioC-5_at</td>\n",
       "      <td>AFFX-BioC-3_at</td>\n",
       "      <td>AFFX-BioDn-5_at</td>\n",
       "      <td>AFFX-BioDn-3_at</td>\n",
       "      <td>AFFX-CreX-5_at</td>\n",
       "      <td>AFFX-CreX-3_at</td>\n",
       "      <td>AFFX-BioB-5_st</td>\n",
       "      <td>...</td>\n",
       "      <td>U48730_at</td>\n",
       "      <td>U58516_at</td>\n",
       "      <td>U73738_at</td>\n",
       "      <td>X06956_at</td>\n",
       "      <td>X16699_at</td>\n",
       "      <td>X83863_at</td>\n",
       "      <td>Z17240_at</td>\n",
       "      <td>L49218_f_at</td>\n",
       "      <td>M71243_f_at</td>\n",
       "      <td>Z78285_f_at</td>\n",
       "    </tr>\n",
       "    <tr>\n",
       "      <th>1</th>\n",
       "      <td>-214</td>\n",
       "      <td>-153</td>\n",
       "      <td>-58</td>\n",
       "      <td>88</td>\n",
       "      <td>-295</td>\n",
       "      <td>-558</td>\n",
       "      <td>199</td>\n",
       "      <td>-176</td>\n",
       "      <td>252</td>\n",
       "      <td>206</td>\n",
       "      <td>...</td>\n",
       "      <td>185</td>\n",
       "      <td>511</td>\n",
       "      <td>-125</td>\n",
       "      <td>389</td>\n",
       "      <td>-37</td>\n",
       "      <td>793</td>\n",
       "      <td>329</td>\n",
       "      <td>36</td>\n",
       "      <td>191</td>\n",
       "      <td>-37</td>\n",
       "    </tr>\n",
       "    <tr>\n",
       "      <th>2</th>\n",
       "      <td>-139</td>\n",
       "      <td>-73</td>\n",
       "      <td>-1</td>\n",
       "      <td>283</td>\n",
       "      <td>-264</td>\n",
       "      <td>-400</td>\n",
       "      <td>-330</td>\n",
       "      <td>-168</td>\n",
       "      <td>101</td>\n",
       "      <td>74</td>\n",
       "      <td>...</td>\n",
       "      <td>169</td>\n",
       "      <td>837</td>\n",
       "      <td>-36</td>\n",
       "      <td>442</td>\n",
       "      <td>-17</td>\n",
       "      <td>782</td>\n",
       "      <td>295</td>\n",
       "      <td>11</td>\n",
       "      <td>76</td>\n",
       "      <td>-14</td>\n",
       "    </tr>\n",
       "    <tr>\n",
       "      <th>3</th>\n",
       "      <td>-76</td>\n",
       "      <td>-49</td>\n",
       "      <td>-307</td>\n",
       "      <td>309</td>\n",
       "      <td>-376</td>\n",
       "      <td>-650</td>\n",
       "      <td>33</td>\n",
       "      <td>-367</td>\n",
       "      <td>206</td>\n",
       "      <td>-215</td>\n",
       "      <td>...</td>\n",
       "      <td>315</td>\n",
       "      <td>1199</td>\n",
       "      <td>33</td>\n",
       "      <td>168</td>\n",
       "      <td>52</td>\n",
       "      <td>1138</td>\n",
       "      <td>777</td>\n",
       "      <td>41</td>\n",
       "      <td>228</td>\n",
       "      <td>-41</td>\n",
       "    </tr>\n",
       "  </tbody>\n",
       "</table>\n",
       "<p>5 rows × 7129 columns</p>\n",
       "</div>"
      ],
      "text/plain": [
       "                                                      0     \\\n",
       "Gene Description       AFFX-BioB-5_at (endogenous control)   \n",
       "Gene Accession Number                       AFFX-BioB-5_at   \n",
       "1                                                     -214   \n",
       "2                                                     -139   \n",
       "3                                                      -76   \n",
       "\n",
       "                                                      1     \\\n",
       "Gene Description       AFFX-BioB-M_at (endogenous control)   \n",
       "Gene Accession Number                       AFFX-BioB-M_at   \n",
       "1                                                     -153   \n",
       "2                                                      -73   \n",
       "3                                                      -49   \n",
       "\n",
       "                                                      2     \\\n",
       "Gene Description       AFFX-BioB-3_at (endogenous control)   \n",
       "Gene Accession Number                       AFFX-BioB-3_at   \n",
       "1                                                      -58   \n",
       "2                                                       -1   \n",
       "3                                                     -307   \n",
       "\n",
       "                                                      3     \\\n",
       "Gene Description       AFFX-BioC-5_at (endogenous control)   \n",
       "Gene Accession Number                       AFFX-BioC-5_at   \n",
       "1                                                       88   \n",
       "2                                                      283   \n",
       "3                                                      309   \n",
       "\n",
       "                                                      4     \\\n",
       "Gene Description       AFFX-BioC-3_at (endogenous control)   \n",
       "Gene Accession Number                       AFFX-BioC-3_at   \n",
       "1                                                     -295   \n",
       "2                                                     -264   \n",
       "3                                                     -376   \n",
       "\n",
       "                                                       5     \\\n",
       "Gene Description       AFFX-BioDn-5_at (endogenous control)   \n",
       "Gene Accession Number                       AFFX-BioDn-5_at   \n",
       "1                                                      -558   \n",
       "2                                                      -400   \n",
       "3                                                      -650   \n",
       "\n",
       "                                                       6     \\\n",
       "Gene Description       AFFX-BioDn-3_at (endogenous control)   \n",
       "Gene Accession Number                       AFFX-BioDn-3_at   \n",
       "1                                                       199   \n",
       "2                                                      -330   \n",
       "3                                                        33   \n",
       "\n",
       "                                                      7     \\\n",
       "Gene Description       AFFX-CreX-5_at (endogenous control)   \n",
       "Gene Accession Number                       AFFX-CreX-5_at   \n",
       "1                                                     -176   \n",
       "2                                                     -168   \n",
       "3                                                     -367   \n",
       "\n",
       "                                                      8     \\\n",
       "Gene Description       AFFX-CreX-3_at (endogenous control)   \n",
       "Gene Accession Number                       AFFX-CreX-3_at   \n",
       "1                                                      252   \n",
       "2                                                      101   \n",
       "3                                                      206   \n",
       "\n",
       "                                                      9     ...  \\\n",
       "Gene Description       AFFX-BioB-5_st (endogenous control)  ...   \n",
       "Gene Accession Number                       AFFX-BioB-5_st  ...   \n",
       "1                                                      206  ...   \n",
       "2                                                       74  ...   \n",
       "3                                                     -215  ...   \n",
       "\n",
       "                                                            7119  \\\n",
       "Gene Description       Transcription factor Stat5b (stat5b) mRNA   \n",
       "Gene Accession Number                                  U48730_at   \n",
       "1                                                            185   \n",
       "2                                                            169   \n",
       "3                                                            315   \n",
       "\n",
       "                                                      7120  \\\n",
       "Gene Description       Breast epithelial antigen BA46 mRNA   \n",
       "Gene Accession Number                            U58516_at   \n",
       "1                                                      511   \n",
       "2                                                      837   \n",
       "3                                                     1199   \n",
       "\n",
       "                                                                    7121  \\\n",
       "Gene Description       GB DEF = Calcium/calmodulin-dependent protein ...   \n",
       "Gene Accession Number                                          U73738_at   \n",
       "1                                                                   -125   \n",
       "2                                                                    -36   \n",
       "3                                                                     33   \n",
       "\n",
       "                                        7122  \\\n",
       "Gene Description       TUBULIN ALPHA-4 CHAIN   \n",
       "Gene Accession Number              X06956_at   \n",
       "1                                        389   \n",
       "2                                        442   \n",
       "3                                        168   \n",
       "\n",
       "                                                                    7123  \\\n",
       "Gene Description       CYP4B1 Cytochrome P450; subfamily IVB; polypep...   \n",
       "Gene Accession Number                                          X16699_at   \n",
       "1                                                                    -37   \n",
       "2                                                                    -17   \n",
       "3                                                                     52   \n",
       "\n",
       "                                                                    7124  \\\n",
       "Gene Description       PTGER3 Prostaglandin E receptor 3 (subtype EP3...   \n",
       "Gene Accession Number                                          X83863_at   \n",
       "1                                                                    793   \n",
       "2                                                                    782   \n",
       "3                                                                   1138   \n",
       "\n",
       "                                                                    7125  \\\n",
       "Gene Description       HMG2 High-mobility group (nonhistone chromosom...   \n",
       "Gene Accession Number                                          Z17240_at   \n",
       "1                                                                    329   \n",
       "2                                                                    295   \n",
       "3                                                                    777   \n",
       "\n",
       "                                                                7126  \\\n",
       "Gene Description       RB1 Retinoblastoma 1 (including osteosarcoma)   \n",
       "Gene Accession Number                                    L49218_f_at   \n",
       "1                                                                 36   \n",
       "2                                                                 11   \n",
       "3                                                                 41   \n",
       "\n",
       "                                                                    7127  \\\n",
       "Gene Description       GB DEF = Glycophorin Sta (type A) exons 3 and ...   \n",
       "Gene Accession Number                                        M71243_f_at   \n",
       "1                                                                    191   \n",
       "2                                                                     76   \n",
       "3                                                                    228   \n",
       "\n",
       "                                            7128  \n",
       "Gene Description       GB DEF = mRNA (clone 1A7)  \n",
       "Gene Accession Number                Z78285_f_at  \n",
       "1                                            -37  \n",
       "2                                            -14  \n",
       "3                                            -41  \n",
       "\n",
       "[5 rows x 7129 columns]"
      ]
     },
     "execution_count": 13,
     "metadata": {},
     "output_type": "execute_result"
    }
   ],
   "source": [
    "X_train.head()\n"
   ]
  },
  {
   "cell_type": "code",
   "execution_count": 14,
   "id": "7be75f47",
   "metadata": {
    "execution": {
     "iopub.execute_input": "2021-11-24T18:21:23.112198Z",
     "iopub.status.busy": "2021-11-24T18:21:23.111239Z",
     "iopub.status.idle": "2021-11-24T18:21:23.127728Z",
     "shell.execute_reply": "2021-11-24T18:21:23.128309Z",
     "shell.execute_reply.started": "2021-11-24T18:00:18.652550Z"
    },
    "papermill": {
     "duration": 0.042409,
     "end_time": "2021-11-24T18:21:23.128486",
     "exception": false,
     "start_time": "2021-11-24T18:21:23.086077",
     "status": "completed"
    },
    "tags": []
   },
   "outputs": [],
   "source": [
    "X_train.columns = X_train.iloc[1]\n",
    "X_test.columns = X_test.iloc[1]\n",
    "\n",
    "X_train = X_train.drop(['Gene Description', 'Gene Accession Number'])\n",
    "X_test = X_test.drop(['Gene Description', 'Gene Accession Number'])"
   ]
  },
  {
   "cell_type": "code",
   "execution_count": 15,
   "id": "f4c15332",
   "metadata": {
    "execution": {
     "iopub.execute_input": "2021-11-24T18:21:23.176810Z",
     "iopub.status.busy": "2021-11-24T18:21:23.175865Z",
     "iopub.status.idle": "2021-11-24T18:21:23.199096Z",
     "shell.execute_reply": "2021-11-24T18:21:23.200209Z",
     "shell.execute_reply.started": "2021-11-24T18:01:22.050286Z"
    },
    "papermill": {
     "duration": 0.049566,
     "end_time": "2021-11-24T18:21:23.200398",
     "exception": false,
     "start_time": "2021-11-24T18:21:23.150832",
     "status": "completed"
    },
    "tags": []
   },
   "outputs": [
    {
     "data": {
      "text/html": [
       "<div>\n",
       "<style scoped>\n",
       "    .dataframe tbody tr th:only-of-type {\n",
       "        vertical-align: middle;\n",
       "    }\n",
       "\n",
       "    .dataframe tbody tr th {\n",
       "        vertical-align: top;\n",
       "    }\n",
       "\n",
       "    .dataframe thead th {\n",
       "        text-align: right;\n",
       "    }\n",
       "</style>\n",
       "<table border=\"1\" class=\"dataframe\">\n",
       "  <thead>\n",
       "    <tr style=\"text-align: right;\">\n",
       "      <th>Gene Accession Number</th>\n",
       "      <th>AFFX-BioB-5_at</th>\n",
       "      <th>AFFX-BioB-M_at</th>\n",
       "      <th>AFFX-BioB-3_at</th>\n",
       "      <th>AFFX-BioC-5_at</th>\n",
       "      <th>AFFX-BioC-3_at</th>\n",
       "      <th>AFFX-BioDn-5_at</th>\n",
       "      <th>AFFX-BioDn-3_at</th>\n",
       "      <th>AFFX-CreX-5_at</th>\n",
       "      <th>AFFX-CreX-3_at</th>\n",
       "      <th>AFFX-BioB-5_st</th>\n",
       "      <th>...</th>\n",
       "      <th>U48730_at</th>\n",
       "      <th>U58516_at</th>\n",
       "      <th>U73738_at</th>\n",
       "      <th>X06956_at</th>\n",
       "      <th>X16699_at</th>\n",
       "      <th>X83863_at</th>\n",
       "      <th>Z17240_at</th>\n",
       "      <th>L49218_f_at</th>\n",
       "      <th>M71243_f_at</th>\n",
       "      <th>Z78285_f_at</th>\n",
       "    </tr>\n",
       "  </thead>\n",
       "  <tbody>\n",
       "    <tr>\n",
       "      <th>1</th>\n",
       "      <td>-214</td>\n",
       "      <td>-153</td>\n",
       "      <td>-58</td>\n",
       "      <td>88</td>\n",
       "      <td>-295</td>\n",
       "      <td>-558</td>\n",
       "      <td>199</td>\n",
       "      <td>-176</td>\n",
       "      <td>252</td>\n",
       "      <td>206</td>\n",
       "      <td>...</td>\n",
       "      <td>185</td>\n",
       "      <td>511</td>\n",
       "      <td>-125</td>\n",
       "      <td>389</td>\n",
       "      <td>-37</td>\n",
       "      <td>793</td>\n",
       "      <td>329</td>\n",
       "      <td>36</td>\n",
       "      <td>191</td>\n",
       "      <td>-37</td>\n",
       "    </tr>\n",
       "    <tr>\n",
       "      <th>2</th>\n",
       "      <td>-139</td>\n",
       "      <td>-73</td>\n",
       "      <td>-1</td>\n",
       "      <td>283</td>\n",
       "      <td>-264</td>\n",
       "      <td>-400</td>\n",
       "      <td>-330</td>\n",
       "      <td>-168</td>\n",
       "      <td>101</td>\n",
       "      <td>74</td>\n",
       "      <td>...</td>\n",
       "      <td>169</td>\n",
       "      <td>837</td>\n",
       "      <td>-36</td>\n",
       "      <td>442</td>\n",
       "      <td>-17</td>\n",
       "      <td>782</td>\n",
       "      <td>295</td>\n",
       "      <td>11</td>\n",
       "      <td>76</td>\n",
       "      <td>-14</td>\n",
       "    </tr>\n",
       "    <tr>\n",
       "      <th>3</th>\n",
       "      <td>-76</td>\n",
       "      <td>-49</td>\n",
       "      <td>-307</td>\n",
       "      <td>309</td>\n",
       "      <td>-376</td>\n",
       "      <td>-650</td>\n",
       "      <td>33</td>\n",
       "      <td>-367</td>\n",
       "      <td>206</td>\n",
       "      <td>-215</td>\n",
       "      <td>...</td>\n",
       "      <td>315</td>\n",
       "      <td>1199</td>\n",
       "      <td>33</td>\n",
       "      <td>168</td>\n",
       "      <td>52</td>\n",
       "      <td>1138</td>\n",
       "      <td>777</td>\n",
       "      <td>41</td>\n",
       "      <td>228</td>\n",
       "      <td>-41</td>\n",
       "    </tr>\n",
       "    <tr>\n",
       "      <th>4</th>\n",
       "      <td>-135</td>\n",
       "      <td>-114</td>\n",
       "      <td>265</td>\n",
       "      <td>12</td>\n",
       "      <td>-419</td>\n",
       "      <td>-585</td>\n",
       "      <td>158</td>\n",
       "      <td>-253</td>\n",
       "      <td>49</td>\n",
       "      <td>31</td>\n",
       "      <td>...</td>\n",
       "      <td>240</td>\n",
       "      <td>835</td>\n",
       "      <td>218</td>\n",
       "      <td>174</td>\n",
       "      <td>-110</td>\n",
       "      <td>627</td>\n",
       "      <td>170</td>\n",
       "      <td>-50</td>\n",
       "      <td>126</td>\n",
       "      <td>-91</td>\n",
       "    </tr>\n",
       "    <tr>\n",
       "      <th>5</th>\n",
       "      <td>-106</td>\n",
       "      <td>-125</td>\n",
       "      <td>-76</td>\n",
       "      <td>168</td>\n",
       "      <td>-230</td>\n",
       "      <td>-284</td>\n",
       "      <td>4</td>\n",
       "      <td>-122</td>\n",
       "      <td>70</td>\n",
       "      <td>252</td>\n",
       "      <td>...</td>\n",
       "      <td>156</td>\n",
       "      <td>649</td>\n",
       "      <td>57</td>\n",
       "      <td>504</td>\n",
       "      <td>-26</td>\n",
       "      <td>250</td>\n",
       "      <td>314</td>\n",
       "      <td>14</td>\n",
       "      <td>56</td>\n",
       "      <td>-25</td>\n",
       "    </tr>\n",
       "  </tbody>\n",
       "</table>\n",
       "<p>5 rows × 7129 columns</p>\n",
       "</div>"
      ],
      "text/plain": [
       "Gene Accession Number AFFX-BioB-5_at AFFX-BioB-M_at AFFX-BioB-3_at  \\\n",
       "1                               -214           -153            -58   \n",
       "2                               -139            -73             -1   \n",
       "3                                -76            -49           -307   \n",
       "4                               -135           -114            265   \n",
       "5                               -106           -125            -76   \n",
       "\n",
       "Gene Accession Number AFFX-BioC-5_at AFFX-BioC-3_at AFFX-BioDn-5_at  \\\n",
       "1                                 88           -295            -558   \n",
       "2                                283           -264            -400   \n",
       "3                                309           -376            -650   \n",
       "4                                 12           -419            -585   \n",
       "5                                168           -230            -284   \n",
       "\n",
       "Gene Accession Number AFFX-BioDn-3_at AFFX-CreX-5_at AFFX-CreX-3_at  \\\n",
       "1                                 199           -176            252   \n",
       "2                                -330           -168            101   \n",
       "3                                  33           -367            206   \n",
       "4                                 158           -253             49   \n",
       "5                                   4           -122             70   \n",
       "\n",
       "Gene Accession Number AFFX-BioB-5_st  ... U48730_at U58516_at U73738_at  \\\n",
       "1                                206  ...       185       511      -125   \n",
       "2                                 74  ...       169       837       -36   \n",
       "3                               -215  ...       315      1199        33   \n",
       "4                                 31  ...       240       835       218   \n",
       "5                                252  ...       156       649        57   \n",
       "\n",
       "Gene Accession Number X06956_at X16699_at X83863_at Z17240_at L49218_f_at  \\\n",
       "1                           389       -37       793       329          36   \n",
       "2                           442       -17       782       295          11   \n",
       "3                           168        52      1138       777          41   \n",
       "4                           174      -110       627       170         -50   \n",
       "5                           504       -26       250       314          14   \n",
       "\n",
       "Gene Accession Number M71243_f_at Z78285_f_at  \n",
       "1                             191         -37  \n",
       "2                              76         -14  \n",
       "3                             228         -41  \n",
       "4                             126         -91  \n",
       "5                              56         -25  \n",
       "\n",
       "[5 rows x 7129 columns]"
      ]
     },
     "execution_count": 15,
     "metadata": {},
     "output_type": "execute_result"
    }
   ],
   "source": [
    "X_train.head()"
   ]
  },
  {
   "cell_type": "code",
   "execution_count": 16,
   "id": "55620dc0",
   "metadata": {
    "execution": {
     "iopub.execute_input": "2021-11-24T18:21:23.254387Z",
     "iopub.status.busy": "2021-11-24T18:21:23.253293Z",
     "iopub.status.idle": "2021-11-24T18:21:23.268742Z",
     "shell.execute_reply": "2021-11-24T18:21:23.269274Z",
     "shell.execute_reply.started": "2021-11-24T18:03:52.147069Z"
    },
    "papermill": {
     "duration": 0.046049,
     "end_time": "2021-11-24T18:21:23.269467",
     "exception": false,
     "start_time": "2021-11-24T18:21:23.223418",
     "status": "completed"
    },
    "tags": []
   },
   "outputs": [],
   "source": [
    "X_train.index = X_train.index.astype(int)\n",
    "X_train.sort_index(inplace=True)\n",
    "\n",
    "X_test.index = X_test.index.astype(int)\n",
    "X_test.sort_index(inplace=True)"
   ]
  },
  {
   "cell_type": "code",
   "execution_count": 17,
   "id": "c4172712",
   "metadata": {
    "execution": {
     "iopub.execute_input": "2021-11-24T18:21:23.318981Z",
     "iopub.status.busy": "2021-11-24T18:21:23.318036Z",
     "iopub.status.idle": "2021-11-24T18:21:23.341301Z",
     "shell.execute_reply": "2021-11-24T18:21:23.340790Z",
     "shell.execute_reply.started": "2021-11-24T18:04:14.067252Z"
    },
    "papermill": {
     "duration": 0.049118,
     "end_time": "2021-11-24T18:21:23.341444",
     "exception": false,
     "start_time": "2021-11-24T18:21:23.292326",
     "status": "completed"
    },
    "tags": []
   },
   "outputs": [
    {
     "data": {
      "text/html": [
       "<div>\n",
       "<style scoped>\n",
       "    .dataframe tbody tr th:only-of-type {\n",
       "        vertical-align: middle;\n",
       "    }\n",
       "\n",
       "    .dataframe tbody tr th {\n",
       "        vertical-align: top;\n",
       "    }\n",
       "\n",
       "    .dataframe thead th {\n",
       "        text-align: right;\n",
       "    }\n",
       "</style>\n",
       "<table border=\"1\" class=\"dataframe\">\n",
       "  <thead>\n",
       "    <tr style=\"text-align: right;\">\n",
       "      <th>Gene Accession Number</th>\n",
       "      <th>AFFX-BioB-5_at</th>\n",
       "      <th>AFFX-BioB-M_at</th>\n",
       "      <th>AFFX-BioB-3_at</th>\n",
       "      <th>AFFX-BioC-5_at</th>\n",
       "      <th>AFFX-BioC-3_at</th>\n",
       "      <th>AFFX-BioDn-5_at</th>\n",
       "      <th>AFFX-BioDn-3_at</th>\n",
       "      <th>AFFX-CreX-5_at</th>\n",
       "      <th>AFFX-CreX-3_at</th>\n",
       "      <th>AFFX-BioB-5_st</th>\n",
       "      <th>...</th>\n",
       "      <th>U48730_at</th>\n",
       "      <th>U58516_at</th>\n",
       "      <th>U73738_at</th>\n",
       "      <th>X06956_at</th>\n",
       "      <th>X16699_at</th>\n",
       "      <th>X83863_at</th>\n",
       "      <th>Z17240_at</th>\n",
       "      <th>L49218_f_at</th>\n",
       "      <th>M71243_f_at</th>\n",
       "      <th>Z78285_f_at</th>\n",
       "    </tr>\n",
       "  </thead>\n",
       "  <tbody>\n",
       "    <tr>\n",
       "      <th>1</th>\n",
       "      <td>-214</td>\n",
       "      <td>-153</td>\n",
       "      <td>-58</td>\n",
       "      <td>88</td>\n",
       "      <td>-295</td>\n",
       "      <td>-558</td>\n",
       "      <td>199</td>\n",
       "      <td>-176</td>\n",
       "      <td>252</td>\n",
       "      <td>206</td>\n",
       "      <td>...</td>\n",
       "      <td>185</td>\n",
       "      <td>511</td>\n",
       "      <td>-125</td>\n",
       "      <td>389</td>\n",
       "      <td>-37</td>\n",
       "      <td>793</td>\n",
       "      <td>329</td>\n",
       "      <td>36</td>\n",
       "      <td>191</td>\n",
       "      <td>-37</td>\n",
       "    </tr>\n",
       "    <tr>\n",
       "      <th>2</th>\n",
       "      <td>-139</td>\n",
       "      <td>-73</td>\n",
       "      <td>-1</td>\n",
       "      <td>283</td>\n",
       "      <td>-264</td>\n",
       "      <td>-400</td>\n",
       "      <td>-330</td>\n",
       "      <td>-168</td>\n",
       "      <td>101</td>\n",
       "      <td>74</td>\n",
       "      <td>...</td>\n",
       "      <td>169</td>\n",
       "      <td>837</td>\n",
       "      <td>-36</td>\n",
       "      <td>442</td>\n",
       "      <td>-17</td>\n",
       "      <td>782</td>\n",
       "      <td>295</td>\n",
       "      <td>11</td>\n",
       "      <td>76</td>\n",
       "      <td>-14</td>\n",
       "    </tr>\n",
       "    <tr>\n",
       "      <th>3</th>\n",
       "      <td>-76</td>\n",
       "      <td>-49</td>\n",
       "      <td>-307</td>\n",
       "      <td>309</td>\n",
       "      <td>-376</td>\n",
       "      <td>-650</td>\n",
       "      <td>33</td>\n",
       "      <td>-367</td>\n",
       "      <td>206</td>\n",
       "      <td>-215</td>\n",
       "      <td>...</td>\n",
       "      <td>315</td>\n",
       "      <td>1199</td>\n",
       "      <td>33</td>\n",
       "      <td>168</td>\n",
       "      <td>52</td>\n",
       "      <td>1138</td>\n",
       "      <td>777</td>\n",
       "      <td>41</td>\n",
       "      <td>228</td>\n",
       "      <td>-41</td>\n",
       "    </tr>\n",
       "    <tr>\n",
       "      <th>4</th>\n",
       "      <td>-135</td>\n",
       "      <td>-114</td>\n",
       "      <td>265</td>\n",
       "      <td>12</td>\n",
       "      <td>-419</td>\n",
       "      <td>-585</td>\n",
       "      <td>158</td>\n",
       "      <td>-253</td>\n",
       "      <td>49</td>\n",
       "      <td>31</td>\n",
       "      <td>...</td>\n",
       "      <td>240</td>\n",
       "      <td>835</td>\n",
       "      <td>218</td>\n",
       "      <td>174</td>\n",
       "      <td>-110</td>\n",
       "      <td>627</td>\n",
       "      <td>170</td>\n",
       "      <td>-50</td>\n",
       "      <td>126</td>\n",
       "      <td>-91</td>\n",
       "    </tr>\n",
       "    <tr>\n",
       "      <th>5</th>\n",
       "      <td>-106</td>\n",
       "      <td>-125</td>\n",
       "      <td>-76</td>\n",
       "      <td>168</td>\n",
       "      <td>-230</td>\n",
       "      <td>-284</td>\n",
       "      <td>4</td>\n",
       "      <td>-122</td>\n",
       "      <td>70</td>\n",
       "      <td>252</td>\n",
       "      <td>...</td>\n",
       "      <td>156</td>\n",
       "      <td>649</td>\n",
       "      <td>57</td>\n",
       "      <td>504</td>\n",
       "      <td>-26</td>\n",
       "      <td>250</td>\n",
       "      <td>314</td>\n",
       "      <td>14</td>\n",
       "      <td>56</td>\n",
       "      <td>-25</td>\n",
       "    </tr>\n",
       "  </tbody>\n",
       "</table>\n",
       "<p>5 rows × 7129 columns</p>\n",
       "</div>"
      ],
      "text/plain": [
       "Gene Accession Number AFFX-BioB-5_at AFFX-BioB-M_at AFFX-BioB-3_at  \\\n",
       "1                               -214           -153            -58   \n",
       "2                               -139            -73             -1   \n",
       "3                                -76            -49           -307   \n",
       "4                               -135           -114            265   \n",
       "5                               -106           -125            -76   \n",
       "\n",
       "Gene Accession Number AFFX-BioC-5_at AFFX-BioC-3_at AFFX-BioDn-5_at  \\\n",
       "1                                 88           -295            -558   \n",
       "2                                283           -264            -400   \n",
       "3                                309           -376            -650   \n",
       "4                                 12           -419            -585   \n",
       "5                                168           -230            -284   \n",
       "\n",
       "Gene Accession Number AFFX-BioDn-3_at AFFX-CreX-5_at AFFX-CreX-3_at  \\\n",
       "1                                 199           -176            252   \n",
       "2                                -330           -168            101   \n",
       "3                                  33           -367            206   \n",
       "4                                 158           -253             49   \n",
       "5                                   4           -122             70   \n",
       "\n",
       "Gene Accession Number AFFX-BioB-5_st  ... U48730_at U58516_at U73738_at  \\\n",
       "1                                206  ...       185       511      -125   \n",
       "2                                 74  ...       169       837       -36   \n",
       "3                               -215  ...       315      1199        33   \n",
       "4                                 31  ...       240       835       218   \n",
       "5                                252  ...       156       649        57   \n",
       "\n",
       "Gene Accession Number X06956_at X16699_at X83863_at Z17240_at L49218_f_at  \\\n",
       "1                           389       -37       793       329          36   \n",
       "2                           442       -17       782       295          11   \n",
       "3                           168        52      1138       777          41   \n",
       "4                           174      -110       627       170         -50   \n",
       "5                           504       -26       250       314          14   \n",
       "\n",
       "Gene Accession Number M71243_f_at Z78285_f_at  \n",
       "1                             191         -37  \n",
       "2                              76         -14  \n",
       "3                             228         -41  \n",
       "4                             126         -91  \n",
       "5                              56         -25  \n",
       "\n",
       "[5 rows x 7129 columns]"
      ]
     },
     "execution_count": 17,
     "metadata": {},
     "output_type": "execute_result"
    }
   ],
   "source": [
    "X_train.head()"
   ]
  },
  {
   "cell_type": "code",
   "execution_count": 18,
   "id": "1165ef72",
   "metadata": {
    "execution": {
     "iopub.execute_input": "2021-11-24T18:21:23.392197Z",
     "iopub.status.busy": "2021-11-24T18:21:23.391245Z",
     "iopub.status.idle": "2021-11-24T18:21:23.395686Z",
     "shell.execute_reply": "2021-11-24T18:21:23.396305Z",
     "shell.execute_reply.started": "2021-11-24T18:07:40.978215Z"
    },
    "papermill": {
     "duration": 0.031526,
     "end_time": "2021-11-24T18:21:23.396479",
     "exception": false,
     "start_time": "2021-11-24T18:21:23.364953",
     "status": "completed"
    },
    "tags": []
   },
   "outputs": [],
   "source": [
    "y_train = y['cancer'][:38]\n",
    "y_test = y['cancer'][38:]"
   ]
  },
  {
   "cell_type": "code",
   "execution_count": 19,
   "id": "d5ed2f09",
   "metadata": {
    "execution": {
     "iopub.execute_input": "2021-11-24T18:21:23.450992Z",
     "iopub.status.busy": "2021-11-24T18:21:23.449919Z",
     "iopub.status.idle": "2021-11-24T18:21:23.647721Z",
     "shell.execute_reply": "2021-11-24T18:21:23.647124Z",
     "shell.execute_reply.started": "2021-11-24T18:12:45.946493Z"
    },
    "papermill": {
     "duration": 0.226452,
     "end_time": "2021-11-24T18:21:23.647865",
     "exception": false,
     "start_time": "2021-11-24T18:21:23.421413",
     "status": "completed"
    },
    "tags": []
   },
   "outputs": [],
   "source": [
    "scaler = StandardScaler()\n",
    "X_train_scaled = scaler.fit_transform(X_train)\n",
    "X_test_scaled = scaler.transform(X_test)"
   ]
  },
  {
   "cell_type": "code",
   "execution_count": 20,
   "id": "af6220b3",
   "metadata": {
    "execution": {
     "iopub.execute_input": "2021-11-24T18:21:23.719919Z",
     "iopub.status.busy": "2021-11-24T18:21:23.709154Z",
     "iopub.status.idle": "2021-11-24T18:21:26.831383Z",
     "shell.execute_reply": "2021-11-24T18:21:26.830832Z",
     "shell.execute_reply.started": "2021-11-24T18:12:50.083685Z"
    },
    "papermill": {
     "duration": 3.158999,
     "end_time": "2021-11-24T18:21:26.831528",
     "exception": false,
     "start_time": "2021-11-24T18:21:23.672529",
     "status": "completed"
    },
    "tags": []
   },
   "outputs": [
    {
     "name": "stderr",
     "output_type": "stream",
     "text": [
      "/opt/conda/lib/python3.7/site-packages/seaborn/distributions.py:2619: FutureWarning: `distplot` is a deprecated function and will be removed in a future version. Please adapt your code to use either `displot` (a figure-level function with similar flexibility) or `histplot` (an axes-level function for histograms).\n",
      "  warnings.warn(msg, FutureWarning)\n",
      "/opt/conda/lib/python3.7/site-packages/seaborn/distributions.py:2619: FutureWarning: `distplot` is a deprecated function and will be removed in a future version. Please adapt your code to use either `displot` (a figure-level function with similar flexibility) or `histplot` (an axes-level function for histograms).\n",
      "  warnings.warn(msg, FutureWarning)\n"
     ]
    },
    {
     "data": {
      "image/png": "[encoded data removed]",
      "text/plain": [
       "<Figure size 1080x360 with 2 Axes>"
      ]
     },
     "metadata": {
      "needs_background": "light"
     },
     "output_type": "display_data"
    }
   ],
   "source": [
    "fig, ax = plt.subplots(ncols=2, figsize=(15,5))\n",
    "sns.distplot(np.concatenate(X_train.values), ax=ax[0]).set_title('Original Data')\n",
    "sns.distplot(np.concatenate(X_train_scaled), ax=ax[1]).set_title('Scaled Data')\n",
    "plt.tight_layout\n",
    "plt.show()"
   ]
  },
  {
   "cell_type": "code",
   "execution_count": 21,
   "id": "43829540",
   "metadata": {
    "execution": {
     "iopub.execute_input": "2021-11-24T18:21:26.889697Z",
     "iopub.status.busy": "2021-11-24T18:21:26.889021Z",
     "iopub.status.idle": "2021-11-24T18:21:26.936184Z",
     "shell.execute_reply": "2021-11-24T18:21:26.937231Z",
     "shell.execute_reply.started": "2021-11-24T18:14:44.485461Z"
    },
    "papermill": {
     "duration": 0.0801,
     "end_time": "2021-11-24T18:21:26.937523",
     "exception": false,
     "start_time": "2021-11-24T18:21:26.857423",
     "status": "completed"
    },
    "tags": []
   },
   "outputs": [
    {
     "name": "stdout",
     "output_type": "stream",
     "text": [
      "(38, 32)\n",
      "(34, 32)\n"
     ]
    }
   ],
   "source": [
    "pca = PCA(n_components = 0.95)\n",
    "X_train_pca = pca.fit_transform(X_train_scaled)\n",
    "X_test_pca = pca.transform(X_test_scaled)\n",
    "print(X_train_pca.shape)\n",
    "print(X_test_pca.shape)"
   ]
  },
  {
   "cell_type": "code",
   "execution_count": 22,
   "id": "553ad757",
   "metadata": {
    "execution": {
     "iopub.execute_input": "2021-11-24T18:21:27.046067Z",
     "iopub.status.busy": "2021-11-24T18:21:27.044948Z",
     "iopub.status.idle": "2021-11-24T18:21:27.277811Z",
     "shell.execute_reply": "2021-11-24T18:21:27.278445Z",
     "shell.execute_reply.started": "2021-11-24T18:16:25.396232Z"
    },
    "papermill": {
     "duration": 0.292621,
     "end_time": "2021-11-24T18:21:27.278637",
     "exception": false,
     "start_time": "2021-11-24T18:21:26.986016",
     "status": "completed"
    },
    "tags": []
   },
   "outputs": [
    {
     "name": "stderr",
     "output_type": "stream",
     "text": [
      "/opt/conda/lib/python3.7/site-packages/ipykernel_launcher.py:5: MatplotlibDeprecationWarning: Axes3D(fig) adding itself to the figure is deprecated since 3.4. Pass the keyword argument auto_add_to_figure=False and use fig.add_axes(ax) to suppress this warning. The default value of auto_add_to_figure will change to False in mpl3.5 and True values will no longer work in 3.6.  This is consistent with other Axes classes.\n",
      "  \"\"\"\n"
     ]
    },
    {
     "data": {
      "image/png": "[encoded data removed]",
      "text/plain": [
       "<Figure size 432x288 with 1 Axes>"
      ]
     },
     "metadata": {
      "needs_background": "light"
     },
     "output_type": "display_data"
    }
   ],
   "source": [
    "pca3 = PCA(n_components = 3).fit_transform(X_train_scaled)\n",
    "colors = np.where(y_train==0, 'red', 'blue')\n",
    "plt.clf()\n",
    "fig = plt.figure(1, figsize=(10,6 ))\n",
    "ax = Axes3D(fig, elev=-150, azim=110,)\n",
    "ax.scatter(pca3[:, 0], pca3[:, 1], pca3[:, 2], c=colors, cmap=plt.cm.Paired,linewidths=10)\n",
    "ax.set_title(\"First three PCA directions\")\n",
    "ax.set_xlabel(\"PC1\")\n",
    "ax.w_xaxis.set_ticklabels([])\n",
    "ax.set_ylabel(\"PC2\")\n",
    "ax.w_yaxis.set_ticklabels([])\n",
    "ax.set_zlabel(\"PC3\")\n",
    "ax.w_zaxis.set_ticklabels([])\n",
    "plt.show()"
   ]
  }
 ],
 "metadata": {
  "kernelspec": {
   "display_name": "Python 3",
   "language": "python",
   "name": "python3"
  },
  "language_info": {
   "codemirror_mode": {
    "name": "ipython",
    "version": 3
   },
   "file_extension": ".py",
   "mimetype": "text/x-python",
   "name": "python",
   "nbconvert_exporter": "python",
   "pygments_lexer": "ipython3",
   "version": "3.7.10"
  },
  "papermill": {
   "default_parameters": {},
   "duration": 24.569845,
   "end_time": "2021-11-24T18:21:30.425188",
   "environment_variables": {},
   "exception": null,
   "input_path": "__notebook__.ipynb",
   "output_path": "__notebook__.ipynb",
   "parameters": {},
   "start_time": "2021-11-24T18:21:05.855343",
   "version": "2.3.3"
  }
 },
 "nbformat": 4,
 "nbformat_minor": 5
}
